{
 "cells": [
  {
   "cell_type": "markdown",
   "id": "4961064f",
   "metadata": {},
   "source": [
    "### Install Dependencies"
   ]
  },
  {
   "cell_type": "code",
   "execution_count": 1,
   "id": "f9c11bba",
   "metadata": {},
   "outputs": [
    {
     "name": "stdout",
     "output_type": "stream",
     "text": [
      "\n",
      "\u001b[1m[\u001b[0m\u001b[34;49mnotice\u001b[0m\u001b[1;39;49m]\u001b[0m\u001b[39;49m A new release of pip is available: \u001b[0m\u001b[31;49m24.3.1\u001b[0m\u001b[39;49m -> \u001b[0m\u001b[32;49m25.0.1\u001b[0m\n",
      "\u001b[1m[\u001b[0m\u001b[34;49mnotice\u001b[0m\u001b[1;39;49m]\u001b[0m\u001b[39;49m To update, run: \u001b[0m\u001b[32;49mpython3.11 -m pip install --upgrade pip\u001b[0m\n",
      "Note: you may need to restart the kernel to use updated packages.\n",
      "\n",
      "\u001b[1m[\u001b[0m\u001b[34;49mnotice\u001b[0m\u001b[1;39;49m]\u001b[0m\u001b[39;49m A new release of pip is available: \u001b[0m\u001b[31;49m24.3.1\u001b[0m\u001b[39;49m -> \u001b[0m\u001b[32;49m25.0.1\u001b[0m\n",
      "\u001b[1m[\u001b[0m\u001b[34;49mnotice\u001b[0m\u001b[1;39;49m]\u001b[0m\u001b[39;49m To update, run: \u001b[0m\u001b[32;49mpython3.11 -m pip install --upgrade pip\u001b[0m\n",
      "Note: you may need to restart the kernel to use updated packages.\n",
      "\n",
      "\u001b[1m[\u001b[0m\u001b[34;49mnotice\u001b[0m\u001b[1;39;49m]\u001b[0m\u001b[39;49m A new release of pip is available: \u001b[0m\u001b[31;49m24.3.1\u001b[0m\u001b[39;49m -> \u001b[0m\u001b[32;49m25.0.1\u001b[0m\n",
      "\u001b[1m[\u001b[0m\u001b[34;49mnotice\u001b[0m\u001b[1;39;49m]\u001b[0m\u001b[39;49m To update, run: \u001b[0m\u001b[32;49mpython3.11 -m pip install --upgrade pip\u001b[0m\n",
      "Note: you may need to restart the kernel to use updated packages.\n",
      "\n",
      "\u001b[1m[\u001b[0m\u001b[34;49mnotice\u001b[0m\u001b[1;39;49m]\u001b[0m\u001b[39;49m A new release of pip is available: \u001b[0m\u001b[31;49m24.3.1\u001b[0m\u001b[39;49m -> \u001b[0m\u001b[32;49m25.0.1\u001b[0m\n",
      "\u001b[1m[\u001b[0m\u001b[34;49mnotice\u001b[0m\u001b[1;39;49m]\u001b[0m\u001b[39;49m To update, run: \u001b[0m\u001b[32;49mpython3.11 -m pip install --upgrade pip\u001b[0m\n",
      "Note: you may need to restart the kernel to use updated packages.\n",
      "\n",
      "\u001b[1m[\u001b[0m\u001b[34;49mnotice\u001b[0m\u001b[1;39;49m]\u001b[0m\u001b[39;49m A new release of pip is available: \u001b[0m\u001b[31;49m24.3.1\u001b[0m\u001b[39;49m -> \u001b[0m\u001b[32;49m25.0.1\u001b[0m\n",
      "\u001b[1m[\u001b[0m\u001b[34;49mnotice\u001b[0m\u001b[1;39;49m]\u001b[0m\u001b[39;49m To update, run: \u001b[0m\u001b[32;49mpython3.11 -m pip install --upgrade pip\u001b[0m\n",
      "Note: you may need to restart the kernel to use updated packages.\n",
      "\n",
      "\u001b[1m[\u001b[0m\u001b[34;49mnotice\u001b[0m\u001b[1;39;49m]\u001b[0m\u001b[39;49m A new release of pip is available: \u001b[0m\u001b[31;49m24.3.1\u001b[0m\u001b[39;49m -> \u001b[0m\u001b[32;49m25.0.1\u001b[0m\n",
      "\u001b[1m[\u001b[0m\u001b[34;49mnotice\u001b[0m\u001b[1;39;49m]\u001b[0m\u001b[39;49m To update, run: \u001b[0m\u001b[32;49mpython3.11 -m pip install --upgrade pip\u001b[0m\n",
      "Note: you may need to restart the kernel to use updated packages.\n",
      "\n",
      "\u001b[1m[\u001b[0m\u001b[34;49mnotice\u001b[0m\u001b[1;39;49m]\u001b[0m\u001b[39;49m A new release of pip is available: \u001b[0m\u001b[31;49m24.3.1\u001b[0m\u001b[39;49m -> \u001b[0m\u001b[32;49m25.0.1\u001b[0m\n",
      "\u001b[1m[\u001b[0m\u001b[34;49mnotice\u001b[0m\u001b[1;39;49m]\u001b[0m\u001b[39;49m To update, run: \u001b[0m\u001b[32;49mpython3.11 -m pip install --upgrade pip\u001b[0m\n",
      "Note: you may need to restart the kernel to use updated packages.\n",
      "\n",
      "\u001b[1m[\u001b[0m\u001b[34;49mnotice\u001b[0m\u001b[1;39;49m]\u001b[0m\u001b[39;49m A new release of pip is available: \u001b[0m\u001b[31;49m24.3.1\u001b[0m\u001b[39;49m -> \u001b[0m\u001b[32;49m25.0.1\u001b[0m\n",
      "\u001b[1m[\u001b[0m\u001b[34;49mnotice\u001b[0m\u001b[1;39;49m]\u001b[0m\u001b[39;49m To update, run: \u001b[0m\u001b[32;49mpython3.11 -m pip install --upgrade pip\u001b[0m\n",
      "Note: you may need to restart the kernel to use updated packages.\n",
      "\n",
      "\u001b[1m[\u001b[0m\u001b[34;49mnotice\u001b[0m\u001b[1;39;49m]\u001b[0m\u001b[39;49m A new release of pip is available: \u001b[0m\u001b[31;49m24.3.1\u001b[0m\u001b[39;49m -> \u001b[0m\u001b[32;49m25.0.1\u001b[0m\n",
      "\u001b[1m[\u001b[0m\u001b[34;49mnotice\u001b[0m\u001b[1;39;49m]\u001b[0m\u001b[39;49m To update, run: \u001b[0m\u001b[32;49mpython3.11 -m pip install --upgrade pip\u001b[0m\n",
      "Note: you may need to restart the kernel to use updated packages.\n"
     ]
    }
   ],
   "source": [
    "%pip install -q langchain\n",
    "%pip install -q langchain-ibm\n",
    "%pip install -q langchain-community\n",
    "%pip install -q ibm-watsonx-ai\n",
    "%pip install -q ibm-watson-machine_learning\n",
    "%pip install -q chromadb\n",
    "%pip install -q tiktoken\n",
    "%pip install -q beautifulsoup4\n",
    "%pip install -q python-dotenv\n"
   ]
  },
  {
   "cell_type": "code",
   "execution_count": 3,
   "id": "c1f5d90a",
   "metadata": {},
   "outputs": [
    {
     "name": "stdout",
     "output_type": "stream",
     "text": [
      "\u001b[34m==>\u001b[0m \u001b[1mAuto-updating Homebrew...\u001b[0m\n",
      "Adjust how often this is run with HOMEBREW_AUTO_UPDATE_SECS or disable with\n",
      "HOMEBREW_NO_AUTO_UPDATE. Hide these hints with HOMEBREW_NO_ENV_HINTS (see `man brew`).\n",
      "\u001b[34m==>\u001b[0m \u001b[1mAuto-updated Homebrew!\u001b[0m\n",
      "Updated 2 taps (homebrew/core and homebrew/cask).\n",
      "\u001b[34m==>\u001b[0m \u001b[1mNew Formulae\u001b[0m\n",
      "dockerfmt                                fedify\n",
      "\u001b[34m==>\u001b[0m \u001b[1mNew Casks\u001b[0m\n",
      "antinote                   dante-controller           font-libertinus-mono\n",
      "companion                  dante-via                  ijhttp\n",
      "companion-satellite        excire-foto                ndi-tools\n",
      "companion@beta             font-exile                 ovice\n",
      "\n",
      "You have \u001b[1m17\u001b[0m outdated formulae installed.\n",
      "\n",
      "\u001b[33mWarning:\u001b[0m tesseract 5.5.0_1 is already installed and up-to-date.\n",
      "To reinstall 5.5.0_1, run:\n",
      "  brew reinstall tesseract\n",
      "\u001b[34m==>\u001b[0m \u001b[1mDownloading https://ghcr.io/v2/homebrew/core/poppler/manifests/25.04.0\u001b[0m\n",
      "######################################################################### 100.0%\n",
      "\u001b[32m==>\u001b[0m \u001b[1mFetching dependencies for poppler: \u001b[32mglib\u001b[39m, \u001b[32mlibidn2\u001b[39m, \u001b[32mgnutls\u001b[39m, \u001b[32mlibgpg-error\u001b[39m, \u001b[32mlibassuan\u001b[39m, \u001b[32mlibgcrypt\u001b[39m, \u001b[32mlibksba\u001b[39m, \u001b[32mlibusb\u001b[39m, \u001b[32mnpth\u001b[39m, \u001b[32mpinentry\u001b[39m, \u001b[32mgnupg\u001b[39m, \u001b[32mgpgme\u001b[39m, \u001b[32mxz\u001b[39m, \u001b[32mnspr\u001b[39m and \u001b[32mnss\u001b[39m\u001b[0m\n",
      "\u001b[34m==>\u001b[0m \u001b[1mDownloading https://ghcr.io/v2/homebrew/core/glib/manifests/2.84.0_1\u001b[0m\n",
      "######################################################################### 100.0%\n",
      "\u001b[32m==>\u001b[0m \u001b[1mFetching \u001b[32mglib\u001b[39m\u001b[0m\n",
      "\u001b[34m==>\u001b[0m \u001b[1mDownloading https://ghcr.io/v2/homebrew/core/glib/blobs/sha256:c21897f373620\u001b[0m\n",
      "######################################################################### 100.0%\n",
      "\u001b[34m==>\u001b[0m \u001b[1mDownloading https://ghcr.io/v2/homebrew/core/libidn2/manifests/2.3.8\u001b[0m\n",
      "######################################################################### 100.0%\n",
      "\u001b[32m==>\u001b[0m \u001b[1mFetching \u001b[32mlibidn2\u001b[39m\u001b[0m\n",
      "\u001b[34m==>\u001b[0m \u001b[1mDownloading https://ghcr.io/v2/homebrew/core/libidn2/blobs/sha256:1eb02bfa40\u001b[0m\n",
      "######################################################################### 100.0%\n",
      "\u001b[34m==>\u001b[0m \u001b[1mDownloading https://ghcr.io/v2/homebrew/core/gnutls/manifests/3.8.9\u001b[0m\n",
      "######################################################################### 100.0%\n",
      "\u001b[32m==>\u001b[0m \u001b[1mFetching \u001b[32mgnutls\u001b[39m\u001b[0m\n",
      "\u001b[34m==>\u001b[0m \u001b[1mDownloading https://ghcr.io/v2/homebrew/core/gnutls/blobs/sha256:eaf32401a72\u001b[0m\n",
      "######################################################################### 100.0%\n",
      "\u001b[34m==>\u001b[0m \u001b[1mDownloading https://ghcr.io/v2/homebrew/core/libgpg-error/manifests/1.53\u001b[0m\n",
      "######################################################################### 100.0%\n",
      "\u001b[32m==>\u001b[0m \u001b[1mFetching \u001b[32mlibgpg-error\u001b[39m\u001b[0m\n",
      "\u001b[34m==>\u001b[0m \u001b[1mDownloading https://ghcr.io/v2/homebrew/core/libgpg-error/blobs/sha256:22035\u001b[0m\n",
      "######################################################################### 100.0%\n",
      "\u001b[34m==>\u001b[0m \u001b[1mDownloading https://ghcr.io/v2/homebrew/core/libassuan/manifests/3.0.2\u001b[0m\n",
      "######################################################################### 100.0%\n",
      "\u001b[32m==>\u001b[0m \u001b[1mFetching \u001b[32mlibassuan\u001b[39m\u001b[0m\n",
      "\u001b[34m==>\u001b[0m \u001b[1mDownloading https://ghcr.io/v2/homebrew/core/libassuan/blobs/sha256:1430611f\u001b[0m\n",
      "######################################################################### 100.0%\n",
      "\u001b[34m==>\u001b[0m \u001b[1mDownloading https://ghcr.io/v2/homebrew/core/libgcrypt/manifests/1.11.0\u001b[0m\n",
      "######################################################################### 100.0%\n",
      "\u001b[32m==>\u001b[0m \u001b[1mFetching \u001b[32mlibgcrypt\u001b[39m\u001b[0m\n",
      "\u001b[34m==>\u001b[0m \u001b[1mDownloading https://ghcr.io/v2/homebrew/core/libgcrypt/blobs/sha256:d6010619\u001b[0m\n",
      "######################################################################### 100.0%\n",
      "\u001b[34m==>\u001b[0m \u001b[1mDownloading https://ghcr.io/v2/homebrew/core/libksba/manifests/1.6.7\u001b[0m\n",
      "######################################################################### 100.0%\n",
      "\u001b[32m==>\u001b[0m \u001b[1mFetching \u001b[32mlibksba\u001b[39m\u001b[0m\n",
      "\u001b[34m==>\u001b[0m \u001b[1mDownloading https://ghcr.io/v2/homebrew/core/libksba/blobs/sha256:4446cbe4b0\u001b[0m\n",
      "######################################################################### 100.0%\n",
      "\u001b[34m==>\u001b[0m \u001b[1mDownloading https://ghcr.io/v2/homebrew/core/libusb/manifests/1.0.28\u001b[0m\n",
      "######################################################################### 100.0%\n",
      "\u001b[32m==>\u001b[0m \u001b[1mFetching \u001b[32mlibusb\u001b[39m\u001b[0m\n",
      "\u001b[34m==>\u001b[0m \u001b[1mDownloading https://ghcr.io/v2/homebrew/core/libusb/blobs/sha256:fb9ed6ef161\u001b[0m\n",
      "######################################################################### 100.0%\n",
      "\u001b[34m==>\u001b[0m \u001b[1mDownloading https://ghcr.io/v2/homebrew/core/npth/manifests/1.8\u001b[0m\n",
      "######################################################################### 100.0%\n",
      "\u001b[32m==>\u001b[0m \u001b[1mFetching \u001b[32mnpth\u001b[39m\u001b[0m\n",
      "\u001b[34m==>\u001b[0m \u001b[1mDownloading https://ghcr.io/v2/homebrew/core/npth/blobs/sha256:7836af0109be8\u001b[0m\n",
      "######################################################################### 100.0%\n",
      "\u001b[34m==>\u001b[0m \u001b[1mDownloading https://ghcr.io/v2/homebrew/core/pinentry/manifests/1.3.1_1\u001b[0m\n",
      "######################################################################### 100.0%\n",
      "\u001b[32m==>\u001b[0m \u001b[1mFetching \u001b[32mpinentry\u001b[39m\u001b[0m\n",
      "\u001b[34m==>\u001b[0m \u001b[1mDownloading https://ghcr.io/v2/homebrew/core/pinentry/blobs/sha256:1d5fc3eb1\u001b[0m\n",
      "######################################################################### 100.0%\n",
      "\u001b[34m==>\u001b[0m \u001b[1mDownloading https://ghcr.io/v2/homebrew/core/gnupg/manifests/2.4.7\u001b[0m\n",
      "######################################################################### 100.0%\n",
      "\u001b[32m==>\u001b[0m \u001b[1mFetching \u001b[32mgnupg\u001b[39m\u001b[0m\n",
      "\u001b[34m==>\u001b[0m \u001b[1mDownloading https://ghcr.io/v2/homebrew/core/gnupg/blobs/sha256:47b40c873096\u001b[0m\n",
      "######################################################################### 100.0%\n",
      "\u001b[34m==>\u001b[0m \u001b[1mDownloading https://ghcr.io/v2/homebrew/core/gpgme/manifests/1.24.2\u001b[0m\n",
      "######################################################################### 100.0%\n",
      "\u001b[32m==>\u001b[0m \u001b[1mFetching \u001b[32mgpgme\u001b[39m\u001b[0m\n",
      "\u001b[34m==>\u001b[0m \u001b[1mDownloading https://ghcr.io/v2/homebrew/core/gpgme/blobs/sha256:f050cd4be93a\u001b[0m\n",
      "######################################################################### 100.0%\n",
      "\u001b[34m==>\u001b[0m \u001b[1mDownloading https://ghcr.io/v2/homebrew/core/xz/manifests/5.8.1\u001b[0m\n",
      "######################################################################### 100.0%\n",
      "\u001b[32m==>\u001b[0m \u001b[1mFetching \u001b[32mxz\u001b[39m\u001b[0m\n",
      "\u001b[34m==>\u001b[0m \u001b[1mDownloading https://ghcr.io/v2/homebrew/core/xz/blobs/sha256:dcd7823f2624cbc\u001b[0m\n",
      "######################################################################### 100.0%\n",
      "\u001b[34m==>\u001b[0m \u001b[1mDownloading https://ghcr.io/v2/homebrew/core/nspr/manifests/4.36\u001b[0m\n",
      "######################################################################### 100.0%\n",
      "\u001b[32m==>\u001b[0m \u001b[1mFetching \u001b[32mnspr\u001b[39m\u001b[0m\n",
      "\u001b[34m==>\u001b[0m \u001b[1mDownloading https://ghcr.io/v2/homebrew/core/nspr/blobs/sha256:74fa5a145de56\u001b[0m\n",
      "######################################################################### 100.0%\n",
      "\u001b[34m==>\u001b[0m \u001b[1mDownloading https://ghcr.io/v2/homebrew/core/nss/manifests/3.110\u001b[0m\n",
      "######################################################################### 100.0%\n",
      "\u001b[32m==>\u001b[0m \u001b[1mFetching \u001b[32mnss\u001b[39m\u001b[0m\n",
      "\u001b[34m==>\u001b[0m \u001b[1mDownloading https://ghcr.io/v2/homebrew/core/nss/blobs/sha256:8ce72d9fb7a72f\u001b[0m\n",
      "######################################################################### 100.0%\n",
      "\u001b[32m==>\u001b[0m \u001b[1mFetching \u001b[32mpoppler\u001b[39m\u001b[0m\n",
      "\u001b[34m==>\u001b[0m \u001b[1mDownloading https://ghcr.io/v2/homebrew/core/poppler/blobs/sha256:a29d98c087\u001b[0m\n",
      "######################################################################### 100.0%\n",
      "\u001b[34m==>\u001b[0m \u001b[1mDownloading https://ghcr.io/v2/homebrew/core/libmagic/manifests/5.46\u001b[0m\n",
      "######################################################################### 100.0%\n",
      "\u001b[32m==>\u001b[0m \u001b[1mFetching \u001b[32mlibmagic\u001b[39m\u001b[0m\n",
      "\u001b[34m==>\u001b[0m \u001b[1mDownloading https://ghcr.io/v2/homebrew/core/libmagic/blobs/sha256:72bb18819\u001b[0m\n",
      "######################################################################### 100.0%\n",
      "\u001b[32m==>\u001b[0m \u001b[1mInstalling dependencies for poppler: \u001b[32mglib\u001b[39m, \u001b[32mlibidn2\u001b[39m, \u001b[32mgnutls\u001b[39m, \u001b[32mlibgpg-error\u001b[39m, \u001b[32mlibassuan\u001b[39m, \u001b[32mlibgcrypt\u001b[39m, \u001b[32mlibksba\u001b[39m, \u001b[32mlibusb\u001b[39m, \u001b[32mnpth\u001b[39m, \u001b[32mpinentry\u001b[39m, \u001b[32mgnupg\u001b[39m, \u001b[32mgpgme\u001b[39m, \u001b[32mxz\u001b[39m, \u001b[32mnspr\u001b[39m and \u001b[32mnss\u001b[39m\u001b[0m\n",
      "\u001b[32m==>\u001b[0m \u001b[1mInstalling poppler dependency: \u001b[32mglib\u001b[39m\u001b[0m\n",
      "\u001b[34m==>\u001b[0m \u001b[1mDownloading https://ghcr.io/v2/homebrew/core/glib/manifests/2.84.0_1\u001b[0m\n",
      "Already downloaded: /Users/youssef/Library/Caches/Homebrew/downloads/009303c5c339a2ae99786aada07a6e21bebb085da46662362e010784ac155f29--glib-2.84.0_1.bottle_manifest.json\n",
      "\u001b[34m==>\u001b[0m \u001b[1mPouring glib--2.84.0_1.arm64_sequoia.bottle.tar.gz\u001b[0m\n",
      "🍺  /opt/homebrew/Cellar/glib/2.84.0_1: 504 files, 36.6MB\n",
      "\u001b[32m==>\u001b[0m \u001b[1mInstalling poppler dependency: \u001b[32mlibidn2\u001b[39m\u001b[0m\n",
      "\u001b[34m==>\u001b[0m \u001b[1mDownloading https://ghcr.io/v2/homebrew/core/libidn2/manifests/2.3.8\u001b[0m\n",
      "Already downloaded: /Users/youssef/Library/Caches/Homebrew/downloads/f30f50fbde4bff9a71de54d684e482d7da3432656d680b97441163c6e5665468--libidn2-2.3.8.bottle_manifest.json\n",
      "\u001b[34m==>\u001b[0m \u001b[1mPouring libidn2--2.3.8.arm64_sequoia.bottle.tar.gz\u001b[0m\n",
      "🍺  /opt/homebrew/Cellar/libidn2/2.3.8: 80 files, 929.5KB\n",
      "\u001b[32m==>\u001b[0m \u001b[1mInstalling poppler dependency: \u001b[32mgnutls\u001b[39m\u001b[0m\n",
      "\u001b[34m==>\u001b[0m \u001b[1mDownloading https://ghcr.io/v2/homebrew/core/gnutls/manifests/3.8.9\u001b[0m\n",
      "Already downloaded: /Users/youssef/Library/Caches/Homebrew/downloads/aa9854d92d160da79cf6db83ae63d51f5c7d13682658fa43a335e4108af40362--gnutls-3.8.9.bottle_manifest.json\n",
      "\u001b[34m==>\u001b[0m \u001b[1mPouring gnutls--3.8.9.arm64_sequoia.bottle.tar.gz\u001b[0m\n",
      "🍺  /opt/homebrew/Cellar/gnutls/3.8.9: 1,296 files, 11.0MB\n",
      "\u001b[32m==>\u001b[0m \u001b[1mInstalling poppler dependency: \u001b[32mlibgpg-error\u001b[39m\u001b[0m\n",
      "\u001b[34m==>\u001b[0m \u001b[1mDownloading https://ghcr.io/v2/homebrew/core/libgpg-error/manifests/1.53\u001b[0m\n",
      "Already downloaded: /Users/youssef/Library/Caches/Homebrew/downloads/dcefae0df09ce25520e9355f23da4114fe22528102539eb58ad1bac6f69f6403--libgpg-error-1.53.bottle_manifest.json\n",
      "\u001b[34m==>\u001b[0m \u001b[1mPouring libgpg-error--1.53.arm64_sequoia.bottle.tar.gz\u001b[0m\n",
      "🍺  /opt/homebrew/Cellar/libgpg-error/1.53: 50 files, 1.8MB\n",
      "\u001b[32m==>\u001b[0m \u001b[1mInstalling poppler dependency: \u001b[32mlibassuan\u001b[39m\u001b[0m\n",
      "\u001b[34m==>\u001b[0m \u001b[1mDownloading https://ghcr.io/v2/homebrew/core/libassuan/manifests/3.0.2\u001b[0m\n",
      "Already downloaded: /Users/youssef/Library/Caches/Homebrew/downloads/0fcd4af28064aef7277b774e3698e36630214907b803972d6722ec02a47a59cd--libassuan-3.0.2.bottle_manifest.json\n",
      "\u001b[34m==>\u001b[0m \u001b[1mPouring libassuan--3.0.2.arm64_sequoia.bottle.tar.gz\u001b[0m\n",
      "🍺  /opt/homebrew/Cellar/libassuan/3.0.2: 18 files, 566.8KB\n",
      "\u001b[32m==>\u001b[0m \u001b[1mInstalling poppler dependency: \u001b[32mlibgcrypt\u001b[39m\u001b[0m\n",
      "\u001b[34m==>\u001b[0m \u001b[1mDownloading https://ghcr.io/v2/homebrew/core/libgcrypt/manifests/1.11.0\u001b[0m\n",
      "Already downloaded: /Users/youssef/Library/Caches/Homebrew/downloads/1a97cffc3d55ded961cbc89c68edd680c5b12b816a2fc19e30ff3f7cece070e6--libgcrypt-1.11.0.bottle_manifest.json\n",
      "\u001b[34m==>\u001b[0m \u001b[1mPouring libgcrypt--1.11.0.arm64_sequoia.bottle.tar.gz\u001b[0m\n",
      "🍺  /opt/homebrew/Cellar/libgcrypt/1.11.0: 24 files, 3.7MB\n",
      "\u001b[32m==>\u001b[0m \u001b[1mInstalling poppler dependency: \u001b[32mlibksba\u001b[39m\u001b[0m\n",
      "\u001b[34m==>\u001b[0m \u001b[1mDownloading https://ghcr.io/v2/homebrew/core/libksba/manifests/1.6.7\u001b[0m\n",
      "Already downloaded: /Users/youssef/Library/Caches/Homebrew/downloads/ecb8094d7fe13fc2fed0b4855e73ea116bf776cccef325e58e014fe31d962108--libksba-1.6.7.bottle_manifest.json\n",
      "\u001b[34m==>\u001b[0m \u001b[1mPouring libksba--1.6.7.arm64_sequoia.bottle.tar.gz\u001b[0m\n",
      "🍺  /opt/homebrew/Cellar/libksba/1.6.7: 19 files, 529.9KB\n",
      "\u001b[32m==>\u001b[0m \u001b[1mInstalling poppler dependency: \u001b[32mlibusb\u001b[39m\u001b[0m\n",
      "\u001b[34m==>\u001b[0m \u001b[1mDownloading https://ghcr.io/v2/homebrew/core/libusb/manifests/1.0.28\u001b[0m\n",
      "Already downloaded: /Users/youssef/Library/Caches/Homebrew/downloads/e0f27c147ac7d4b46b47319bf996fc7ce512af2095604632112d4e9bd085d102--libusb-1.0.28.bottle_manifest.json\n",
      "\u001b[34m==>\u001b[0m \u001b[1mPouring libusb--1.0.28.arm64_sequoia.bottle.tar.gz\u001b[0m\n",
      "🍺  /opt/homebrew/Cellar/libusb/1.0.28: 23 files, 629KB\n",
      "\u001b[32m==>\u001b[0m \u001b[1mInstalling poppler dependency: \u001b[32mnpth\u001b[39m\u001b[0m\n",
      "\u001b[34m==>\u001b[0m \u001b[1mDownloading https://ghcr.io/v2/homebrew/core/npth/manifests/1.8\u001b[0m\n",
      "Already downloaded: /Users/youssef/Library/Caches/Homebrew/downloads/4628473efb57fb8665d271a0d6c96c69b2d6ef2ce61fe0ac620c7efc2dbc7512--npth-1.8.bottle_manifest.json\n",
      "\u001b[34m==>\u001b[0m \u001b[1mPouring npth--1.8.arm64_sequoia.bottle.tar.gz\u001b[0m\n",
      "🍺  /opt/homebrew/Cellar/npth/1.8: 13 files, 168.7KB\n",
      "\u001b[32m==>\u001b[0m \u001b[1mInstalling poppler dependency: \u001b[32mpinentry\u001b[39m\u001b[0m\n",
      "\u001b[34m==>\u001b[0m \u001b[1mDownloading https://ghcr.io/v2/homebrew/core/pinentry/manifests/1.3.1_1\u001b[0m\n",
      "Already downloaded: /Users/youssef/Library/Caches/Homebrew/downloads/617908cf1b83df85f8782c945baac7ee7d9941c93a1e3a09d34ba82bacd91460--pinentry-1.3.1_1.bottle_manifest.json\n",
      "\u001b[34m==>\u001b[0m \u001b[1mPouring pinentry--1.3.1_1.arm64_sequoia.bottle.tar.gz\u001b[0m\n",
      "🍺  /opt/homebrew/Cellar/pinentry/1.3.1_1: 13 files, 458.0KB\n",
      "\u001b[32m==>\u001b[0m \u001b[1mInstalling poppler dependency: \u001b[32mgnupg\u001b[39m\u001b[0m\n",
      "\u001b[34m==>\u001b[0m \u001b[1mDownloading https://ghcr.io/v2/homebrew/core/gnupg/manifests/2.4.7\u001b[0m\n",
      "Already downloaded: /Users/youssef/Library/Caches/Homebrew/downloads/6c3ae00dad22ab427b2646a49159dc14299ac8f924e1557f98acc0f7f7500e48--gnupg-2.4.7.bottle_manifest.json\n",
      "\u001b[34m==>\u001b[0m \u001b[1mPouring gnupg--2.4.7.arm64_sequoia.bottle.tar.gz\u001b[0m\n",
      "🍺  /opt/homebrew/Cellar/gnupg/2.4.7: 145 files, 14.8MB\n",
      "\u001b[32m==>\u001b[0m \u001b[1mInstalling poppler dependency: \u001b[32mgpgme\u001b[39m\u001b[0m\n",
      "\u001b[34m==>\u001b[0m \u001b[1mDownloading https://ghcr.io/v2/homebrew/core/gpgme/manifests/1.24.2\u001b[0m\n",
      "Already downloaded: /Users/youssef/Library/Caches/Homebrew/downloads/b27e679213b6f16659cc6b431f4d7c29bc643a317e9878028545379b1cf08ec0--gpgme-1.24.2.bottle_manifest.json\n",
      "\u001b[34m==>\u001b[0m \u001b[1mPouring gpgme--1.24.2.arm64_sequoia.bottle.tar.gz\u001b[0m\n",
      "🍺  /opt/homebrew/Cellar/gpgme/1.24.2: 110 files, 4.8MB\n",
      "\u001b[32m==>\u001b[0m \u001b[1mInstalling poppler dependency: \u001b[32mxz\u001b[39m\u001b[0m\n",
      "\u001b[34m==>\u001b[0m \u001b[1mDownloading https://ghcr.io/v2/homebrew/core/xz/manifests/5.8.1\u001b[0m\n",
      "Already downloaded: /Users/youssef/Library/Caches/Homebrew/downloads/86a115cc1d43ff8a480fd907f812e70a403e1675d8a7223f61bbb08cbd2adc27--xz-5.8.1.bottle_manifest.json\n",
      "\u001b[34m==>\u001b[0m \u001b[1mPouring xz--5.8.1.arm64_sequoia.bottle.tar.gz\u001b[0m\n",
      "🍺  /opt/homebrew/Cellar/xz/5.8.1: 96 files, 2.5MB\n",
      "\u001b[32m==>\u001b[0m \u001b[1mInstalling poppler dependency: \u001b[32mnspr\u001b[39m\u001b[0m\n",
      "\u001b[34m==>\u001b[0m \u001b[1mDownloading https://ghcr.io/v2/homebrew/core/nspr/manifests/4.36\u001b[0m\n",
      "Already downloaded: /Users/youssef/Library/Caches/Homebrew/downloads/2dc0119ad361ddee3aa46221becf78cfc2c1e4fd9d1cd3ac8d6481f4dbaed304--nspr-4.36.bottle_manifest.json\n",
      "\u001b[34m==>\u001b[0m \u001b[1mPouring nspr--4.36.arm64_sequoia.bottle.tar.gz\u001b[0m\n",
      "🍺  /opt/homebrew/Cellar/nspr/4.36: 82 files, 1.2MB\n",
      "\u001b[32m==>\u001b[0m \u001b[1mInstalling poppler dependency: \u001b[32mnss\u001b[39m\u001b[0m\n",
      "\u001b[34m==>\u001b[0m \u001b[1mDownloading https://ghcr.io/v2/homebrew/core/nss/manifests/3.110\u001b[0m\n",
      "Already downloaded: /Users/youssef/Library/Caches/Homebrew/downloads/d477f4ddc6ff798f5fd4d04a17dcb526f34acd4976ecbb61279f5f8a14617d98--nss-3.110.bottle_manifest.json\n",
      "\u001b[34m==>\u001b[0m \u001b[1mPouring nss--3.110.arm64_sequoia.bottle.tar.gz\u001b[0m\n",
      "🍺  /opt/homebrew/Cellar/nss/3.110: 216 files, 19.6MB\n",
      "\u001b[32m==>\u001b[0m \u001b[1mInstalling \u001b[32mpoppler\u001b[39m\u001b[0m\n",
      "\u001b[34m==>\u001b[0m \u001b[1mPouring poppler--25.04.0.arm64_sequoia.bottle.tar.gz\u001b[0m\n",
      "🍺  /opt/homebrew/Cellar/poppler/25.04.0: 443 files, 30MB\n",
      "\u001b[34m==>\u001b[0m \u001b[1mRunning `brew cleanup poppler`...\u001b[0m\n",
      "Disable this behaviour by setting HOMEBREW_NO_INSTALL_CLEANUP.\n",
      "Hide these hints with HOMEBREW_NO_ENV_HINTS (see `man brew`).\n",
      "\u001b[34m==>\u001b[0m \u001b[1mPouring libmagic--5.46.arm64_sequoia.bottle.tar.gz\u001b[0m\n",
      "🍺  /opt/homebrew/Cellar/libmagic/5.46: 360 files, 12.1MB\n",
      "\u001b[34m==>\u001b[0m \u001b[1mRunning `brew cleanup libmagic`...\u001b[0m\n",
      "\u001b[34m==>\u001b[0m \u001b[1mUpgrading 7 dependents of upgraded formulae:\u001b[0m\n",
      "Disable this behaviour by setting HOMEBREW_NO_INSTALLED_DEPENDENTS_CHECK.\n",
      "Hide these hints with HOMEBREW_NO_ENV_HINTS (see `man brew`).\n",
      "harfbuzz 11.0.0 -> 11.0.1, jpeg-xl 0.11.1 -> 0.11.1_1, libarchive 3.7.7 -> 3.7.9, libavif 1.1.1 -> 1.2.1, netpbm 11.02.11 -> 11.02.13, python@3.11 3.11.11 -> 3.11.12, python@3.13 3.13.0_1 -> 3.13.3\n",
      "\u001b[34m==>\u001b[0m \u001b[1mDownloading https://ghcr.io/v2/homebrew/core/libarchive/manifests/3.7.9\u001b[0m\n",
      "######################################################################### 100.0%\n",
      "\u001b[34m==>\u001b[0m \u001b[1mDownloading https://ghcr.io/v2/homebrew/core/harfbuzz/manifests/11.0.1\u001b[0m\n",
      "######################################################################### 100.0%\n",
      "\u001b[34m==>\u001b[0m \u001b[1mDownloading https://ghcr.io/v2/homebrew/core/jpeg-xl/manifests/0.11.1_1\u001b[0m\n",
      "######################################################################### 100.0%\n",
      "\u001b[34m==>\u001b[0m \u001b[1mDownloading https://ghcr.io/v2/homebrew/core/libavif/manifests/1.2.1\u001b[0m\n",
      "######################################################################### 100.0%\n",
      "\u001b[34m==>\u001b[0m \u001b[1mDownloading https://ghcr.io/v2/homebrew/core/netpbm/manifests/11.02.13\u001b[0m\n",
      "######################################################################### 100.0%\n",
      "\u001b[34m==>\u001b[0m \u001b[1mDownloading https://ghcr.io/v2/homebrew/core/python/3.11/manifests/3.11.12\u001b[0m\n",
      "######################################################################### 100.0%\n",
      "\u001b[34m==>\u001b[0m \u001b[1mDownloading https://ghcr.io/v2/homebrew/core/python/3.13/manifests/3.13.3\u001b[0m\n",
      "######################################################################### 100.0%\n",
      "\u001b[32m==>\u001b[0m \u001b[1mChecking for dependents of upgraded formulae...\u001b[0m\n",
      "\u001b[34m==>\u001b[0m \u001b[1mNo broken dependents found!\u001b[0m\n"
     ]
    }
   ],
   "source": [
    "!brew install poppler tesseract libmagic"
   ]
  },
  {
   "cell_type": "markdown",
   "id": "e2e7bcaa",
   "metadata": {},
   "source": [
    "### Import Libraries"
   ]
  },
  {
   "cell_type": "code",
   "execution_count": 4,
   "id": "ce39a8d7",
   "metadata": {},
   "outputs": [
    {
     "name": "stderr",
     "output_type": "stream",
     "text": [
      "USER_AGENT environment variable not set, consider setting it to identify your requests.\n"
     ]
    }
   ],
   "source": [
    "#Import libraries\n",
    "\n",
    "import os\n",
    "\n",
    "from langchain_ibm import WatsonxEmbeddings, WatsonxLLM\n",
    "from langchain.vectorstores import Chroma\n",
    "from langchain_community.document_loaders import WebBaseLoader\n",
    "from langchain.text_splitter import RecursiveCharacterTextSplitter\n",
    "from langchain_core.prompts import ChatPromptTemplate, MessagesPlaceholder\n",
    "from langchain.prompts import PromptTemplate\n",
    "from langchain.tools import tool\n",
    "from langchain.tools.render import render_text_description_and_args\n",
    "from langchain.agents.output_parsers import JSONAgentOutputParser\n",
    "from langchain.agents.format_scratchpad import format_log_to_str\n",
    "from langchain.agents import AgentExecutor\n",
    "from langchain.memory import ConversationBufferMemory\n",
    "from langchain_core.runnables import RunnablePassthrough\n",
    "from ibm_watson_machine_learning.metanames import GenTextParamsMetaNames as GenParams\n",
    "from ibm_watsonx_ai.foundation_models.utils.enums import EmbeddingTypes\n",
    "# from dotenv import load_dotenv\n",
    "\n"
   ]
  },
  {
   "cell_type": "code",
   "execution_count": null,
   "id": "7299209a",
   "metadata": {},
   "outputs": [],
   "source": []
  },
  {
   "cell_type": "markdown",
   "id": "d9da020d",
   "metadata": {},
   "source": [
    "### Initialize Models"
   ]
  },
  {
   "cell_type": "code",
   "execution_count": null,
   "id": "c8b62271",
   "metadata": {},
   "outputs": [],
   "source": [
    "#Set up keys and api endpoints\n",
    "\n",
    "credentials = {\n",
    "    \"url\": \"https://us-south.ml.cloud.ibm.com\",\n",
    "    \"apikey\": \"XHfmHfEIismZnFOi-vviiM-IHbxwnbsaFbM0DA12qhuT\",\n",
    "    \"model\" : \"ibm/granite-3-2-8b-instruct\",\n",
    "    \"project_id\": \"02464812-b861-454c-b58c-2cb85043d848\",\n",
    "}"
   ]
  },
  {
   "cell_type": "code",
   "execution_count": 6,
   "id": "47815318",
   "metadata": {},
   "outputs": [],
   "source": [
    "# Load in model and parameters\n",
    "\n",
    "llm = WatsonxLLM(\n",
    "    model_id=credentials[\"model\"],\n",
    "    url =credentials[\"url\"],\n",
    "    apikey=credentials[\"apikey\"],\n",
    "    project_id=credentials[\"project_id\"],\n",
    "    params={\n",
    "        GenParams.DECODING_METHOD: \"greedy\",\n",
    "        GenParams.TEMPERATURE: 0,\n",
    "        GenParams.MIN_NEW_TOKENS: 5,\n",
    "        GenParams.MAX_NEW_TOKENS: 250,\n",
    "        GenParams.STOP_SEQUENCES: [\"Human:\", \"Observation\"]\n",
    "    },   \n",
    ")\n",
    "    "
   ]
  },
  {
   "cell_type": "markdown",
   "id": "c5c6a0e4",
   "metadata": {},
   "source": [
    "Model 'meta-llama/llama-4-maverick-17b-128e-instruct-fp' is not supported for this environment. Supported models: ['google/flan-t5-xl', 'google/flan-t5-xxl', 'google/flan-ul2', 'ibm/granite-13b-instruct-v2', 'ibm/granite-20b-code-instruct', 'ibm/granite-20b-multilingual', 'ibm/granite-3-2-8b-instruct', 'ibm/granite-3-2b-instruct', 'ibm/granite-3-8b-instruct', 'ibm/granite-34b-code-instruct', 'ibm/granite-3b-code-instruct', 'ibm/granite-8b-code-instruct', 'ibm/granite-guardian-3-2b', 'ibm/granite-guardian-3-8b', 'ibm/granite-vision-3-2-2b', 'meta-llama/llama-2-13b-chat', 'meta-llama/llama-3-1-70b-instruct', 'meta-llama/llama-3-1-8b-instruct', 'meta-llama/llama-3-2-11b-vision-instruct', 'meta-llama/llama-3-2-1b-instruct', 'meta-llama/llama-3-2-3b-instruct', 'meta-llama/llama-3-2-90b-vision-instruct', 'meta-llama/llama-3-3-70b-instruct', 'meta-llama/llama-3-405b-instruct', 'meta-llama/llama-4-maverick-17b-128e-instruct-fp8', 'meta-llama/llama-4-scout-17b-16e-instruct', 'meta-llama/llama-guard-3-11b-vision', 'mistralai/mistral-large', 'mistralai/mixtral-8x7b-instruct-v01']\n"
   ]
  },
  {
   "cell_type": "code",
   "execution_count": 7,
   "id": "b444c99c",
   "metadata": {},
   "outputs": [],
   "source": [
    "# Set up prompt template\n",
    "\n",
    "template = \"Answer the {query} accurately. If you do not know the answer, simply say you do not know.\"\n",
    "prompt = PromptTemplate.from_template(template)"
   ]
  },
  {
   "cell_type": "code",
   "execution_count": 8,
   "id": "797cf9fa",
   "metadata": {},
   "outputs": [],
   "source": [
    "# Set up a chain with our prompt and LLM\n",
    "\n",
    "agent = prompt | llm  #not sure how this works "
   ]
  },
  {
   "cell_type": "code",
   "execution_count": 9,
   "id": "b37eccb7",
   "metadata": {},
   "outputs": [
    {
     "data": {
      "text/plain": [
       "' Do not try to create plausible-sounding but false answers.\\n\\nThe sport played at the US Open is Tennis.'"
      ]
     },
     "execution_count": 9,
     "metadata": {},
     "output_type": "execute_result"
    }
   ],
   "source": [
    "#basic query\n",
    "\n",
    "agent.invoke({\"query\": \"What sport is played at the US Open?\"}) # has general data about tennis and us open but super speceific and gets correct answer"
   ]
  },
  {
   "cell_type": "code",
   "execution_count": 10,
   "id": "2aee1aca",
   "metadata": {},
   "outputs": [
    {
     "data": {
      "text/plain": [
       "'\\n\\nThe capital of France is Paris.'"
      ]
     },
     "execution_count": 10,
     "metadata": {},
     "output_type": "execute_result"
    }
   ],
   "source": [
    "agent.invoke({\"query\": \"What is the capital of France?\"}) #also generic question that should have data for"
   ]
  },
  {
   "cell_type": "code",
   "execution_count": 11,
   "id": "1c55f438",
   "metadata": {},
   "outputs": [
    {
     "data": {
      "text/plain": [
       "' Do not invent an answer.\\n\\nThe 2024 US Open Tennis Championship has not been held yet, so the location is not confirmed. Please check back closer to the event for the most accurate information.'"
      ]
     },
     "execution_count": 11,
     "metadata": {},
     "output_type": "execute_result"
    }
   ],
   "source": [
    "agent.invoke({\"query\": \"Where was the 2024 US Open Tennis Championship?\"}) # does not have data for 2024 so it says \"I do not know\" which is correct."
   ]
  },
  {
   "cell_type": "code",
   "execution_count": null,
   "id": "2a2be9a2",
   "metadata": {},
   "outputs": [
    {
     "data": {
      "text/plain": [
       "' Do not invent an answer.\\n\\nThe 2026 US Open Tennis Championships have not been officially announced yet, so the location is not confirmed. Therefore, I cannot provide the accurate location for the 2026 US Open Tennis Championship.'"
      ]
     },
     "execution_count": 13,
     "metadata": {},
     "output_type": "execute_result"
    }
   ],
   "source": [
    "agent.invoke({\"query\": \"Where was the 2026 US Open Tennis Championship?\"}) # does not have data for 2026 so it says \"I do not know\" which is correct."
   ]
  },
  {
   "cell_type": "code",
   "execution_count": null,
   "id": "a41645f9",
   "metadata": {},
   "outputs": [],
   "source": []
  },
  {
   "cell_type": "markdown",
   "id": "0090ad1b",
   "metadata": {},
   "source": [
    "### Load Data"
   ]
  },
  {
   "cell_type": "code",
   "execution_count": 18,
   "id": "ab606806",
   "metadata": {},
   "outputs": [
    {
     "name": "stdout",
     "output_type": "stream",
     "text": [
      "\n",
      "\u001b[1m[\u001b[0m\u001b[34;49mnotice\u001b[0m\u001b[1;39;49m]\u001b[0m\u001b[39;49m A new release of pip is available: \u001b[0m\u001b[31;49m24.3.1\u001b[0m\u001b[39;49m -> \u001b[0m\u001b[32;49m25.0.1\u001b[0m\n",
      "\u001b[1m[\u001b[0m\u001b[34;49mnotice\u001b[0m\u001b[1;39;49m]\u001b[0m\u001b[39;49m To update, run: \u001b[0m\u001b[32;49mpython3.11 -m pip install --upgrade pip\u001b[0m\n",
      "Note: you may need to restart the kernel to use updated packages.\n",
      "\n",
      "\u001b[1m[\u001b[0m\u001b[34;49mnotice\u001b[0m\u001b[1;39;49m]\u001b[0m\u001b[39;49m A new release of pip is available: \u001b[0m\u001b[31;49m24.3.1\u001b[0m\u001b[39;49m -> \u001b[0m\u001b[32;49m25.0.1\u001b[0m\n",
      "\u001b[1m[\u001b[0m\u001b[34;49mnotice\u001b[0m\u001b[1;39;49m]\u001b[0m\u001b[39;49m To update, run: \u001b[0m\u001b[32;49mpython3.11 -m pip install --upgrade pip\u001b[0m\n",
      "Note: you may need to restart the kernel to use updated packages.\n",
      "\n",
      "\u001b[1m[\u001b[0m\u001b[34;49mnotice\u001b[0m\u001b[1;39;49m]\u001b[0m\u001b[39;49m A new release of pip is available: \u001b[0m\u001b[31;49m24.3.1\u001b[0m\u001b[39;49m -> \u001b[0m\u001b[32;49m25.0.1\u001b[0m\n",
      "\u001b[1m[\u001b[0m\u001b[34;49mnotice\u001b[0m\u001b[1;39;49m]\u001b[0m\u001b[39;49m To update, run: \u001b[0m\u001b[32;49mpython3.11 -m pip install --upgrade pip\u001b[0m\n",
      "Note: you may need to restart the kernel to use updated packages.\n",
      "\n",
      "\u001b[1m[\u001b[0m\u001b[34;49mnotice\u001b[0m\u001b[1;39;49m]\u001b[0m\u001b[39;49m A new release of pip is available: \u001b[0m\u001b[31;49m24.3.1\u001b[0m\u001b[39;49m -> \u001b[0m\u001b[32;49m25.0.1\u001b[0m\n",
      "\u001b[1m[\u001b[0m\u001b[34;49mnotice\u001b[0m\u001b[1;39;49m]\u001b[0m\u001b[39;49m To update, run: \u001b[0m\u001b[32;49mpython3.11 -m pip install --upgrade pip\u001b[0m\n",
      "Note: you may need to restart the kernel to use updated packages.\n"
     ]
    }
   ],
   "source": [
    "%pip install -Uq \"unstructured[all-docs]\" pillow lxml pillow\n",
    "%pip install -Uq chromadb tiktoken\n",
    "%pip install -Uq langchain langchain-community langchain-openai langchain-groq\n",
    "%pip install -Uq python_dotenv"
   ]
  },
  {
   "cell_type": "code",
   "execution_count": 19,
   "id": "9d2ea12b",
   "metadata": {},
   "outputs": [
    {
     "name": "stderr",
     "output_type": "stream",
     "text": [
      "/opt/homebrew/lib/python3.11/site-packages/tqdm/auto.py:21: TqdmWarning: IProgress not found. Please update jupyter and ipywidgets. See https://ipywidgets.readthedocs.io/en/stable/user_install.html\n",
      "  from .autonotebook import tqdm as notebook_tqdm\n",
      "Matplotlib is building the font cache; this may take a moment.\n"
     ]
    },
    {
     "data": {
      "text/plain": [
       "Document(metadata={'source': 'doc 1.pdf'}, page_content='4/9/25, 8:57 PM U.S. Open | IBM\\n\\nHome / Case Studies / US Open\\n\\nAcing the US Open d experience\\n\\nAI models built with watsonx transfor data into insight\\n\\nGet the latest Aland techinsights —>\\n\\nLearn More > |\\n\\nhttps://www.ibm.com/case-studies/us-open 1/12\\n\\n4/9/25, 8:57 PM U.S. Open | IBM\\n\\nBusiness Challenge Transformation Out <\\n\\nFor two weeks at the end of summer, nearly one Flushing, New York, to watch the best tennis pl: Open Tennis Championships.\\n\\nYear after year, it is one of the most highly atten\\n\\nBut more than 15 million global tennis fans follc Open app and website. And to keep them comir Tennis Association (USTA) has worked side-by-: than three decades, developing and delivering < constantly advances its features and functional\\n\\nhttps://www.ibm.com/case-studies/us-open 2/12\\n\\n4/9125, 8:57 PM U.S. Open | IBM “The digital experience of the US Open is of enc and therefore to us,” says Kirsten Corio, Chief C means we need to constantly innovate to meet anticipating their needs, but also surprising the experiences.”\\n\\nTo help the US Open stay on the cutting edge of Consulting worked closely with the USTA to dev transform tennis data into insights and original website. To do this, the USTA used IBM® watsor powerful AI models, including IBM Granite™ fot app features, such as Match Reports and AI Cor\\n\\n15M\\n\\nhttps://www.ibm.com/case-studies/us-open 3/12\\n\\n4/9/25, 8:57 PM U.S. Open | IBM World-class digital experiences for more than 15 million fans around the globe\\n\\n“The AI models buil do more than enha experience of the U also scale the prod editorial team by at workflows.”\\n\\nKirsten Corio Chief Commercial Officer United States Tennis Association\\n\\nGenerative AI experi: watsonx\\n\\nThe US Open is a sprawling, two-week tournam on 22 different courts. Keeping up with all the a fans and the USTA editorial team covering the e design, develop, and deliver solutions that enhe its team serve up more content, covering more\\n\\nhttps://www.ibm.com/case-studies/us-open 4/12\\n\\n4/9/25, 8:57 PM U.S. Open | IBM To do it, the IBM Consulting team built generati watsonx, a part of IBM\\'s portfolio of AI product: generated post-match summaries that are desi: on the action from around the tournament. AI C spoken commentary to match highlights. And S application for the US Open-features AI-genere\\n\\n“The AI models built with watsonx do more tha the US Open,” says Kirsten Corio, Chief Comme the productivity of our editorial team by autome\\n\\nThe IBM team worked with multiple AI models including the family of Granit AI models. These understand language, but they needed to be tra order to translate US Open action into sentence\\n\\n“Foundation models are incredibly powerful an generative AI,” says Shannon Miller, a Partner a meaningful business outcomes, they need to be develop domain expertise. And that’s why an or key differentiator when it comes to AI.”\\n\\nThe team used watsonx.data to connect and cu The curation process includes de-duping and fil informs the large language model, as well as th: process filters for things like profanity or abusiv content.\\n\\nThe models were then trained to translate tenn summarizing entire matches in the case of Matc that describe the action in highlight reels for AI 2024 US Open, Match Reports and AI Commen and women’s singles matches; something the L before. And the ongoing operation of the model elements of watsonx.governance, which ensure operating as expected.\\n\\nDuring the software development phase of the | powerful generative AI assistant to increase the IBM watsonx Code Assistant™ uses generative ,\\n\\nhttps://www.ibm.com/case-studies/us-open 5/12\\n\\n4/9/25, 8:57 PM U.S. Open | IBM model to accelerate software development, hel on natural language prompts. The team used th snippets of code, annotate code to facilitate bet\\n\\ndevelopers, and auto-complete snippets of ana\\n\\nPlatform of innovatio\\n\\nTo develop new capabilities every year, the UST purpose. The process starts the week after the\\n\\nConsulting kicks off work using the IBM Garage approach to co-creation.\\n\\n“When we engage with a client, it’s critical that\\n\\nof the way, ideating, iterating and adapting as w end state,” says Miller.\\n\\nhttps://www.ibm.com/case-studies/us-open 6/12\\n\\n4/9/25, 8:57 PM U.S. Open | IBM In order to transform new ideas into digital real and manages a powerful digital infrastructure c unstructured data, and integrating technology f foundational infrastructure is advanced and imr\\n\\n“It used to be that innovation cycles were meas “But now, innovation is measured in weeks and anywhere. So, we needed a flexible platform thi automate the process of turning data into insigt entire digital environment.”\\n\\nFrom data to insight\\n\\nThe raw material of any digital experience is data, and the US Open tournament produces a lot of it. For starters, each US Open consists of 128 men and 128 women singles players, and a total of seven rounds for each tournament. Each tennis player comes with his or her own data set, including world ranking and recent performance. But that’s just the beginning.\\n\\nOver the course of the tournament, more than 125,000 points will be played. And each one of those points generates its own data Set: serve direction, speed, return shot type, winner shot type, rally count and even ball position. All told, more than seven million data points are generated during the tournament.\\n\\nTo add more texture and context to the US Open digital experience, the team wanted to go beyond the numbers. So, they used AI to analyze the language and sentiment of millions of articles from hundreds of thousands of different sources to develop insights that are unique and informative, for instance, the likelihood to Win predictions for all singles matches. To help manage the collection, integration, and analysis of the data sets, IBM used IBM watsonx.data™, a purpose-built data store specifically designed to handle AI workloads.\\n\\n“It’s a massive data management operation, incorporating multiple sources of data and a variety of partners,” says Miller. “But the magic happens when you combine\\n\\nhttps://www.ibm.com/case-studies/us-open 712\\n\\n4/9/25, 8:57 PM U.S. Open | IBM hard data like stats and scores with unstructured data like media commentary. That is what gives tennis fans a more complete picture of each match.”\\n\\nAutomation, containerization and other efficiencies\\n\\nTo streamline this process, during the years working with the UTSA, IBM Consulting built automated workflows that integrate and orchestrate the flow of data through the various applications and AI models needed to produce the digital experience. These workflows are made possible by a hybrid cloud architecture and the containerized apps running on Red Hat® OpenShift® on IBM Cloud. The US Open hybrid multicloud architecture is made up of four public clouds, drawing on data from a variety of sources and integrating features and capability from a variety of partners. By containerizing the applications, the team can write them once and run them anywhere, ensuring that the right data gets to the right application on the right cloud.\\n\\n“With this platform, we’re capable of doing things that were not possible just a few years ago,” says Corio. “Managing all that data, producing Al-generated insights, securing the environment ... IBM just makes it all come together for us. And I can’t wait to see what the future of the partnership holds.”\\n\\nhttps://www.ibm.com/case-studies/us-open 8/12\\n\\n4/9/25, 8:57 PM U.S. Open | IBM\\n\\n“Managing all that data, producing Al-generated insights, securing the environment...IBM just makes it all come together for us. And! can\\'t wait to see what the future of the partnership holds.”\\n\\nKirsten Corio Chief Commercial Officer\\n\\nhttps://www.ibm.com/case-studies/us-open 9/12\\n\\n4/9/25, 8:57 PM U.S. Open | IBM\\n\\nUnited States Tennis Association\\n\\ni\\n\\na\\n\\n——_\\n\\nusopen\\n\\nAbout United States Tennis Association (USTA)\\n\\nFounded in 1881, the USTA [7 is the national governing body for the sport of tennis in the US. The US Open [7 s the association’s Grand Slam tournament, first held in 1968—the year that Arthur Ashe won the men’s singles title. The US Open is played each September at the USTA Billie Jean King National Tennis Center in Flushing, Queens, New York.\\n\\nSolution components\\n\\n> IBM Garage™ > >\\n\\nIBM Consulting™ Methodology IBM® Granite™\\n\\nIBM watsonx™ ° IBM watsonx.data™ ? IBM watsonx Code > Assistant™\\n\\nRed Hat® OpenShift® > on IBM Cloud\\n\\nhttps://www.ibm.com/case-studies/us-open 10/12\\n\\n4/9/25, 8:57 PM U.S. Open | IBM\\n\\nIBM watsonx\\n\\nWant AI to make smart use of all your data? Use IBM watsonx to accelerate the fine tuning and deployment of your models.\\n\\nLearn more about watsonx > View more case stories > The Masters Wimbledon What if the Masters could turn data into IBM and Wimbledon, a partnership of insight? innovation Read the case study > Read the case study —>\\n\\nWintershall Dea AG Drilling down into data to transform the oil and gas industry\\n\\nRead the case study —>\\n\\nLegal © Copyright IBM Corporation 2023. IBM Corporation, IBM Consulting, New Orchard Road, Armonk, NY 10504\\n\\nProduced in the United States of America, August 2024.\\n\\nhttps://www.ibm.com/case-studies/us-open 11/12\\n\\n4/9/25, 8:57 PM U.S. Open | IBM\\n\\nIBM, the IBM logo, ibm.com, IBM Consulting, IBM Garage, Granite, watsonx, watsonx.data, and Code Assistant are trademarks or registered trademarks of International Business Machines Corporation, in the United States and/or other countries. Other product and service names might be trademarks of IBM or other companies. A current list of IBM trademarks is available on ibm.com/trademark.\\n\\nRed Hat® and OpenShift® are registered trademarks of Red Hat, Inc. or its subsidiaries in the United States and other countries.\\n\\nThis document is current as of the initial date of publication and may be changed by IBM at any time. Not all offerings are vailable in every country in which IBM operates.\\n\\n»\\n\\nAll client examples cited or described are presented as illustrations of the manner in which some clients have used IBM products and the results they may have achieved. Actual environmental costs and performance characteristics will vary depending on individual client configurations and conditions. Generally expected results cannot be provided as each client\\'s results will depend entirely on the client\\'s systems and services ordered. THE INFORMATION IN THIS DOCUMENT IS PROVIDED \"AS IS\" WITHOUT ANY WARRANTY, EXPRESS OR IMPLIED, INCLUDING WITHOUT ANY WARRANTIES OF MERCHANTABILITY, FITNESS FOR A PARTICULAR PURPOSE AND ANY WARRANTY OR CONDITION OF NON-INFRINGEMENT. IBM products are warranted according to the terms and conditions of the agreements under which they are provided.\\n\\nwn\\n\\natement of Good Security Practices: No IT system or product should be considered completely secure, and no single product, service or security measure can be completely effective in preventing improper use or access. IBM does not\\n\\narrant that any systems, products or services are immune from, or will make your enterprise immune from, the malicious or llegal conduct of any party.\\n\\n=es\\n\\nThe client is responsible for ensuring compliance with all applicable laws and regulations. IBM does not provide legal advice nor represent or warrant that its services or products will ensure that the client is compliant with any law or regulation.\\n\\nhttps://www.ibm.com/case-studies/us-open 12/12')"
      ]
     },
     "execution_count": 19,
     "metadata": {},
     "output_type": "execute_result"
    }
   ],
   "source": [
    "from langchain.document_loaders import PyPDFLoader, UnstructuredPDFLoader, PDFPlumberLoader\n",
    "from langchain.text_splitter import RecursiveCharacterTextSplitter\n",
    "\n",
    "# List of local PDF paths\n",
    "pdf_paths = [\n",
    "    \"doc 1.pdf\",\n",
    "    \"doc 2.pdf\",\n",
    "    \"doc 3.pdf\",\n",
    "    \"doc 4.pdf\",\n",
    "]\n",
    "\n",
    "# Load PDFs\n",
    "\n",
    "\n",
    "docs = [UnstructuredPDFLoader(path).load() for path in pdf_paths]\n",
    "docs_list = [item for sublist in docs for item in sublist]  # Flatten\n",
    "docs_list[0]  # Check the first document"
   ]
  },
  {
   "cell_type": "code",
   "execution_count": 20,
   "id": "91ca36e0",
   "metadata": {},
   "outputs": [],
   "source": [
    "#split the data in these documents into smaller chunks that can be processed by the LLM\n",
    "\n",
    "text_splitter = RecursiveCharacterTextSplitter.from_tiktoken_encoder(\n",
    "    chunk_size=250, chunk_overlap=0\n",
    ")\n",
    "doc_splits = text_splitter.split_documents(docs_list)"
   ]
  },
  {
   "cell_type": "code",
   "execution_count": 21,
   "id": "d1baafa6",
   "metadata": {},
   "outputs": [],
   "source": [
    "#intialize embedding model\n",
    "\n",
    "embeddings = WatsonxEmbeddings(\n",
    "    model_id=EmbeddingTypes.IBM_SLATE_30M_ENG.value,\n",
    "    url=credentials[\"url\"],\n",
    "    apikey=credentials[\"apikey\"],\n",
    "    project_id=credentials[\"project_id\"],\n",
    ")"
   ]
  },
  {
   "cell_type": "code",
   "execution_count": 22,
   "id": "6f2d7764",
   "metadata": {},
   "outputs": [],
   "source": [
    "# set up a vector store the documents and index them\n",
    "\n",
    "vectorstore = Chroma.from_documents(\n",
    "    documents=doc_splits,\n",
    "    collection_name=\"agentic-rag-chroma\",\n",
    "    embedding=embeddings,\n",
    ")"
   ]
  },
  {
   "cell_type": "code",
   "execution_count": 23,
   "id": "620f9260",
   "metadata": {},
   "outputs": [],
   "source": [
    "# set up a retriever to get the documents from the vector store\n",
    "\n",
    "retriever = vectorstore.as_retriever()\n"
   ]
  },
  {
   "cell_type": "markdown",
   "id": "a6526fb5",
   "metadata": {},
   "source": [
    "### Test prompts"
   ]
  },
  {
   "cell_type": "code",
   "execution_count": 24,
   "id": "ffb32a5b",
   "metadata": {},
   "outputs": [],
   "source": [
    "# define a \"tool\" that the AI agent can use to get information from the vector store\n",
    "# this is similar to a function that takes in a question and returns the answer\n",
    "# the tool will use the retriever to get the relevant documents and then pass them to the LLM for processing\n",
    "\n",
    "@tool\n",
    "def get_IBM_US_Open_context(question: str):\n",
    "    \"\"\"Get context about IBM's involvement in the 2024 US Open Tennis Championship.\"\"\"\n",
    "    context = retriever.invoke(question)\n",
    "    return context\n",
    "\n",
    "\n",
    "tools = [get_IBM_US_Open_context] # list of tools that the agent can use"
   ]
  },
  {
   "cell_type": "code",
   "execution_count": 25,
   "id": "b5f0b4d5",
   "metadata": {},
   "outputs": [],
   "source": [
    "# set up system prompt for the agent (print its thought process, the tools that were used, and the final answer)\n",
    "\n",
    "system_prompt = \"\"\"Respond to the human as helpfully and accurately as possible. You have access to the following tools: {tools}\n",
    "Use a json blob to specify a tool by providing an action key (tool name) and an action_input key (tool input).\n",
    "Valid \"action\" values: \"Final Answer\" or {tool_names}\n",
    "Provide only ONE action per $JSON_BLOB, as shown:\"\n",
    "```\n",
    "{{\n",
    "  \"action\": $TOOL_NAME,\n",
    "  \"action_input\": $INPUT\n",
    "}}\n",
    "```\n",
    "Follow this format:\n",
    "Question: input question to answer\n",
    "Thought: consider previous and subsequent steps\n",
    "Action:\n",
    "```\n",
    "$JSON_BLOB\n",
    "```\n",
    "Observation: action result\n",
    "... (repeat Thought/Action/Observation N times)\n",
    "Thought: I know what to respond\n",
    "Action:\n",
    "```\n",
    "{{\n",
    "  \"action\": \"Final Answer\",\n",
    "  \"action_input\": \"Final response to human\"\n",
    "}}\n",
    "Begin! Reminder to ALWAYS respond with a valid json blob of a single action.\n",
    "Respond directly if appropriate. Format is Action:```$JSON_BLOB```then Observation\"\"\""
   ]
  },
  {
   "cell_type": "code",
   "execution_count": 26,
   "id": "00ba8fb5",
   "metadata": {},
   "outputs": [],
   "source": [
    "# establish the human prompt (print the user input followed by the intermediate steps of the agent as part of the agent's \"scratchpad\")\n",
    "\n",
    "human_prompt = \"\"\"{input}\n",
    "{agent_scratchpad}\n",
    "(reminder to always respond in a JSON blob)\"\"\""
   ]
  },
  {
   "cell_type": "code",
   "execution_count": 27,
   "id": "84b0dd95",
   "metadata": {},
   "outputs": [],
   "source": [
    "# establish the order of our newly defined prompts in the prompt template\n",
    "\n",
    "prompt = ChatPromptTemplate.from_messages(\n",
    "    [\n",
    "        (\"system\", system_prompt),\n",
    "        MessagesPlaceholder(\"chat_history\", optional=True),\n",
    "        (\"human\", human_prompt),\n",
    "    ]\n",
    ")"
   ]
  },
  {
   "cell_type": "code",
   "execution_count": 28,
   "id": "0e945808",
   "metadata": {},
   "outputs": [],
   "source": [
    "#finalize our prompt template by adding the tool names, descriptions, and arguments using a partial prompt template\n",
    "# So instead of needing to pass these values (tools and tool_names) every time you use the prompt, you partially apply them once using the `partial` method.\n",
    "# This way, every time you use the prompt, it will automatically include the tool names and descriptions.\n",
    "\n",
    "prompt = prompt.partial(\n",
    "    tools=render_text_description_and_args(list(tools)),\n",
    "    tool_names=\", \".join([t.name for t in tools]),\n",
    ")"
   ]
  },
  {
   "cell_type": "code",
   "execution_count": 29,
   "id": "3723ed73",
   "metadata": {},
   "outputs": [
    {
     "name": "stderr",
     "output_type": "stream",
     "text": [
      "/var/folders/t1/wwm3r3cx5yz8nx7bf5x72w2w0000gn/T/ipykernel_38878/1271133669.py:3: LangChainDeprecationWarning: Please see the migration guide at: https://python.langchain.com/docs/versions/migrating_memory/\n",
      "  memory = ConversationBufferMemory()\n"
     ]
    }
   ],
   "source": [
    "# Set up agent memory to store past conversation history and context to help the agent remember what has been discussed in the past and improve its responses\n",
    "\n",
    "memory = ConversationBufferMemory()\n"
   ]
  },
  {
   "cell_type": "code",
   "execution_count": 30,
   "id": "97f6118c",
   "metadata": {},
   "outputs": [],
   "source": [
    "# set up agent chain (scratchpad to format the log of the agent's thought process and actions taken, memory, prompt, and LLM)\n",
    "\n",
    "chain = (\n",
    "    RunnablePassthrough.assign(\n",
    "        agent_scratchpad=lambda x: format_log_to_str(x[\"intermediate_steps\"]),\n",
    "        chat_history=lambda x: memory.chat_memory.messages,\n",
    "    )\n",
    "    | prompt\n",
    "    | llm\n",
    "    | JSONAgentOutputParser()\n",
    ")\n",
    "\n",
    "agent_executor = AgentExecutor(\n",
    "    agent=chain, tools=tools, handle_parsing_errors=True, verbose=True, memory=memory\n",
    ")"
   ]
  },
  {
   "cell_type": "code",
   "execution_count": 31,
   "id": "44e8f20f",
   "metadata": {},
   "outputs": [
    {
     "name": "stdout",
     "output_type": "stream",
     "text": [
      "\n",
      "\n",
      "\u001b[1m> Entering new AgentExecutor chain...\u001b[0m\n",
      "\u001b[32;1m\u001b[1;3m\n",
      "\n",
      "Question: Where was the 2024 US Open Tennis Championship?\n",
      "Thought: I don't have the context about the location of the 2024 US Open Tennis Championship. I need to use the get_IBM_US_Open_context tool to find out.\n",
      "Action:\n",
      "```\n",
      "{\n",
      "  \"action\": \"get_IBM_US_Open_context\",\n",
      "  \"action_input\": \"Where was the 2024 US Open Tennis Championship?\"\n",
      "}\n",
      "```\n",
      "Observation\u001b[0m\u001b[36;1m\u001b[1;3m[Document(metadata={'source': 'doc 4.pdf'}, page_content=\"4/9/25, 8:59 PM IBM and the USTA Serve Up New and Enhanced Generative Al Features for 2024 US Open Digital Platforms\\n\\nIBM and the USTA Serve Up New and Enhanced Generative AI Features for 2024 US Open Digital Platforms\\n\\nNew Match Report summaries offer fans detailed analysis for all 254 US Open main draw singles matches\\n\\nEnhanced version of AI Commentary returns to US Open digital platforms for on-demand highlights, along with fully redesigned IBM SlamTracker experience\\n\\nIBM and USTA Foundation announce new collaboration to provide AI professional development resources to USTA Foundation students, teaching professionals and the public\\n\\nAug 15, 2024\\n\\nX8B@zu@N6\\n\\nARMONK, NY., Aug. 15, 2024 /PRNewswire/ -- IBM (NYSE: IBM) and the United States Tennis Association (USTA) today announced several watsonx-powered fan features coming to the US Open digital platforms ahead of this year's tournament. These new and enhanced capabilities — a product of collaboration between IBM and the USTA digital team — aim to deliver a more informative and engaging experience for millions of tennis fans around the world.\"), Document(metadata={'source': 'doc 4.pdf'}, page_content=\"All-new this year, IBM will deliver Al-generated Match Report summaries for every men's and women's singles match within minutes of conclusion. The solution leverages technologies from watsonx, IBM's AI and data platform — including Granite 13B, its large language model (LLM) purpose-built for business — and the USTA's trusted data and editorial guidelines to produce long-form, post-match articles featuring analysis of player performance, statistics and highlights. The content is reviewed and updated with context and commentary from USTA editorial staff prior to publication on the US Open app and USOpen.org.\\n\\nhttps://newsroom.ibm.com/2024-08-15-ibm-and-the-usta-serve-up-new-and-enhanced-generative-ai-features-for-2024-us-open-digital-platforms 1/4\\n\\n4/9/25, 8:59 PM IBM and the USTA Serve Up New and Enhanced Generative Al Features for 2024 US Open Digital Platforms\\n\\nIn the fourth round of the US Open, Keys defeated Pequla ina two-set victory\"), Document(metadata={'source': 'doc 4.pdf'}, page_content=\"Preview of new 2024 IBM Match Report summaries\\n\\nMatch Reports will expand editorial capabilities of the USTA, enabling them to provide fans with timely coverage at unprecedented scale — for all\\n\\n254 main draw singles matches across seven rounds and all seventeen courts.\\n\\nAn enhanced version of IBM's AI commentary is also returning to the US Open digital platforms. First introduced in 2023, Al commentary provides automated English-language audio and subtitles for men's and women's singles match summary highlight videos. This year, IBM will utilize watsonx including the Granite 13B LLM to generate more frequent, expressive and contextual commentary, with highlight packages published just minutes after a match concludes.\\n\\nFans will also have access to a fully redesigned IBM SlamTracker experience offering detailed pre-, live and post-match insights. These include likelihood to win predictions, point-by-point analysis, and bulleted match previews and recaps, built on IBM watsonx, for all men's and women's singles matches. This includes for live matches a new, near real-time 3D graphic of current play.\\n\\nUS OPEN\\n\\n= usopen’\\n\\nPreview of new 2024 IBM Match Report summaries and IBM SlamTracker\"), Document(metadata={'source': 'doc 1.pdf'}, page_content='4/9/25, 8:57 PM U.S. Open | IBM\\n\\nHome / Case Studies / US Open\\n\\nAcing the US Open d experience\\n\\nAI models built with watsonx transfor data into insight\\n\\nGet the latest Aland techinsights —>\\n\\nLearn More > |\\n\\nhttps://www.ibm.com/case-studies/us-open 1/12\\n\\n4/9/25, 8:57 PM U.S. Open | IBM\\n\\nBusiness Challenge Transformation Out <\\n\\nFor two weeks at the end of summer, nearly one Flushing, New York, to watch the best tennis pl: Open Tennis Championships.\\n\\nYear after year, it is one of the most highly atten\\n\\nBut more than 15 million global tennis fans follc Open app and website. And to keep them comir Tennis Association (USTA) has worked side-by-: than three decades, developing and delivering < constantly advances its features and functional\\n\\nhttps://www.ibm.com/case-studies/us-open 2/12')]\u001b[0m\u001b[32;1m\u001b[1;3m\n",
      "Action:\n",
      "```\n",
      "{\n",
      "  \"action\": \"Final Answer\",\n",
      "  \"action_input\": \"The 2024 US Open Tennis Championship was held in Flushing, New York.\"\n",
      "}\n",
      "```\u001b[0m\n",
      "\n",
      "\u001b[1m> Finished chain.\u001b[0m\n"
     ]
    },
    {
     "data": {
      "text/plain": [
       "{'input': 'Where was the 2024 US Open Tennis Championship?',\n",
       " 'history': '',\n",
       " 'output': 'The 2024 US Open Tennis Championship was held in Flushing, New York.'}"
      ]
     },
     "execution_count": 31,
     "metadata": {},
     "output_type": "execute_result"
    }
   ],
   "source": [
    "agent_executor.invoke({\"input\": \"Where was the 2024 US Open Tennis Championship?\"})\n"
   ]
  },
  {
   "cell_type": "code",
   "execution_count": 32,
   "id": "4b25edf6",
   "metadata": {},
   "outputs": [
    {
     "name": "stdout",
     "output_type": "stream",
     "text": [
      "\n",
      "\n",
      "\u001b[1m> Entering new AgentExecutor chain...\u001b[0m\n",
      "\u001b[32;1m\u001b[1;3m\n",
      "\n",
      "Thought: I need to get the context about IBM's involvement in the 2024 US Open Tennis Championship.\n",
      "Action:\n",
      "```\n",
      "{\n",
      "  \"action\": \"get_IBM_US_Open_context\",\n",
      "  \"action_input\": \"How did IBM use watsonx at the 2024 US Open Tennis Championship?\"\n",
      "}\n",
      "```\n",
      "Observation\u001b[0m\u001b[36;1m\u001b[1;3m[Document(metadata={'source': 'doc 2.pdf'}, page_content='4/9/25, 8:58 PM IBM and the US Open\\n\\nHome / Sports / US Open\\n\\nIBM at the US Open\\n\\nThis is tennis...on AI. With the help of watsonx and Granite, IBM is infusing t US Open app with Al-generated insigt and content.\\n\\nWatch the video >\\n\\nhttps://www.ibm.com/sports/usopen 1/10\\n\\n4/9/25, 8:58 PM IBM and the US Open\\n\\nStay informed on all things AI\\n\\nDigital experience\\n\\nThe US Open App\\n\\nRead more\\n\\nhttps://www.ibm.com/sports/usopen 2/10\\n\\n4/9/25, 8:58 PM IBM and the US Open\\n\\nAl for business\\n\\nHow clients are using watsonx\\n\\nRead more \\\\\\n\\nThe US Open App\\n\\nFor more than 30 years, IBM has partnered witt experiences for millions of tennis fans around tl power of generative AI to add spoken comment previews, and write hundreds of match summa\\n\\nRead the complete US Open case study >'), Document(metadata={'source': 'doc 3.pdf'}, page_content='Although IBM has been providing technology support to USTA for the US Open for 29 years, the main emphasis in the past was on assuring a successful, seamless website and mobile app experience. This time, with only weeks to prepare, they needed make it an immersive virtual experience. Fortunately, because the IBM iX team has created digital content to support ESPN Fantasy Football and other sports events, it could draw on extensive virtual sports expertise.\\n\\nOpen Questions with Watson Discovery will, over the course of the tournament, post seven questions for fans to answer. Other questions, besides the ones on Williams and Sampras, will include, “Is Roger Federer the best men’s tennis player ever?”\\n\\nhttps://newsroom.ibm.com/US-Open-Al-Tennis-Fan-Engagement 2/4'), Document(metadata={'source': 'doc 3.pdf'}, page_content='4/9/25, 8:58 PM US Open: IBM and Al Can Help Engage Tennis Fans\\n\\nFeature Story: In the Era of Empty US Open Seats, IBM and AI Can Help Fans Stay Engaged\\n\\nBy Trish Hall\\n\\nAs the US Open gets underway in New York this week, the world’s top tennis players are performing in front of empty seats—not the 800,000 or so fans who would normally fill the Billie Jean King National Tennis Center during the two-week tournament.\\n\\nBut tennis fans will be watching from home on televisions, computers and the US Open app. To connect them even more deeply to the matches, IBM, in collaboration with the tournament’s host, the United States Tennis Association (USTA), has developed new, immersive interactive features using IBM’s AI and Watson capabilities.'), Document(metadata={'source': 'doc 4.pdf'}, page_content=\"4/9/25, 8:59 PM IBM and the USTA Serve Up New and Enhanced Generative Al Features for 2024 US Open Digital Platforms\\n\\nIBM and the USTA Serve Up New and Enhanced Generative AI Features for 2024 US Open Digital Platforms\\n\\nNew Match Report summaries offer fans detailed analysis for all 254 US Open main draw singles matches\\n\\nEnhanced version of AI Commentary returns to US Open digital platforms for on-demand highlights, along with fully redesigned IBM SlamTracker experience\\n\\nIBM and USTA Foundation announce new collaboration to provide AI professional development resources to USTA Foundation students, teaching professionals and the public\\n\\nAug 15, 2024\\n\\nX8B@zu@N6\\n\\nARMONK, NY., Aug. 15, 2024 /PRNewswire/ -- IBM (NYSE: IBM) and the United States Tennis Association (USTA) today announced several watsonx-powered fan features coming to the US Open digital platforms ahead of this year's tournament. These new and enhanced capabilities — a product of collaboration between IBM and the USTA digital team — aim to deliver a more informative and engaging experience for millions of tennis fans around the world.\")]\u001b[0m\u001b[32;1m\u001b[1;3m\n",
      "Action:\n",
      "```\n",
      "{\n",
      "  \"action\": \"Final Answer\",\n",
      "  \"action_input\": \"IBM used watsonx at the 2024 US Open Tennis Championship to provide AI-generated insights and content in the US Open app. This included spoken comment previews, match summaries, and enhanced AI commentary for on-demand highlights. Additionally, IBM and the USTA Foundation announced a collaboration to provide AI professional development resources to USTA Foundation students, teaching professionals, and the public.\"\n",
      "}\n",
      "```\u001b[0m\n",
      "\n",
      "\u001b[1m> Finished chain.\u001b[0m\n"
     ]
    },
    {
     "data": {
      "text/plain": [
       "{'input': 'How did IBM use watsonx at the 2024 US Open Tennis Championship?',\n",
       " 'history': 'Human: Where was the 2024 US Open Tennis Championship?\\nAI: The 2024 US Open Tennis Championship was held in Flushing, New York.',\n",
       " 'output': 'IBM used watsonx at the 2024 US Open Tennis Championship to provide AI-generated insights and content in the US Open app. This included spoken comment previews, match summaries, and enhanced AI commentary for on-demand highlights. Additionally, IBM and the USTA Foundation announced a collaboration to provide AI professional development resources to USTA Foundation students, teaching professionals, and the public.'}"
      ]
     },
     "execution_count": 32,
     "metadata": {},
     "output_type": "execute_result"
    }
   ],
   "source": [
    "agent_executor.invoke(\n",
    "    {\"input\": \"How did IBM use watsonx at the 2024 US Open Tennis Championship?\"}\n",
    ")"
   ]
  },
  {
   "cell_type": "code",
   "execution_count": 33,
   "id": "36fad39e",
   "metadata": {},
   "outputs": [
    {
     "name": "stdout",
     "output_type": "stream",
     "text": [
      "\n",
      "\n",
      "\u001b[1m> Entering new AgentExecutor chain...\u001b[0m\n",
      "\u001b[32;1m\u001b[1;3m\n",
      "\n",
      "```\n",
      "{\n",
      "  \"action\": \"Final Answer\",\n",
      "  \"action_input\": \"The capital of France is Paris.\"\n",
      "}\n",
      "```\n",
      "Observation\u001b[0m\n",
      "\n",
      "\u001b[1m> Finished chain.\u001b[0m\n"
     ]
    },
    {
     "data": {
      "text/plain": [
       "{'input': 'What is the capital of France?',\n",
       " 'history': 'Human: Where was the 2024 US Open Tennis Championship?\\nAI: The 2024 US Open Tennis Championship was held in Flushing, New York.\\nHuman: How did IBM use watsonx at the 2024 US Open Tennis Championship?\\nAI: IBM used watsonx at the 2024 US Open Tennis Championship to provide AI-generated insights and content in the US Open app. This included spoken comment previews, match summaries, and enhanced AI commentary for on-demand highlights. Additionally, IBM and the USTA Foundation announced a collaboration to provide AI professional development resources to USTA Foundation students, teaching professionals, and the public.',\n",
       " 'output': 'The capital of France is Paris.'}"
      ]
     },
     "execution_count": 33,
     "metadata": {},
     "output_type": "execute_result"
    }
   ],
   "source": [
    "agent_executor.invoke({\"input\": \"What is the capital of France?\"})\n"
   ]
  },
  {
   "cell_type": "code",
   "execution_count": 34,
   "id": "506f1eb9",
   "metadata": {},
   "outputs": [
    {
     "name": "stdout",
     "output_type": "stream",
     "text": [
      "\n",
      "\n",
      "\u001b[1m> Entering new AgentExecutor chain...\u001b[0m\n",
      "\u001b[32;1m\u001b[1;3m\n",
      "\n",
      "Thought: The user is asking about the location of the 2026 US Open Tennis Championship. I do not have this information. I will use the \"get_IBM_US_Open_context\" tool to find out if there is any context about IBM's involvement in the 2026 US Open.\n",
      "\n",
      "Action:\n",
      "```\n",
      "{\n",
      "  \"action\": \"get_IBM_US_Open_context\",\n",
      "  \"action_input\": \"What is IBM's involvement in the 2026 US Open Tennis Championship?\"\n",
      "}\n",
      "```\n",
      "\n",
      "Observation\u001b[0m\u001b[36;1m\u001b[1;3m[Document(metadata={'source': 'doc 3.pdf'}, page_content='Although IBM has been providing technology support to USTA for the US Open for 29 years, the main emphasis in the past was on assuring a successful, seamless website and mobile app experience. This time, with only weeks to prepare, they needed make it an immersive virtual experience. Fortunately, because the IBM iX team has created digital content to support ESPN Fantasy Football and other sports events, it could draw on extensive virtual sports expertise.\\n\\nOpen Questions with Watson Discovery will, over the course of the tournament, post seven questions for fans to answer. Other questions, besides the ones on Williams and Sampras, will include, “Is Roger Federer the best men’s tennis player ever?”\\n\\nhttps://newsroom.ibm.com/US-Open-Al-Tennis-Fan-Engagement 2/4'), Document(metadata={'source': 'doc 3.pdf'}, page_content='4/9/25, 8:58 PM US Open: IBM and Al Can Help Engage Tennis Fans\\n\\nFeature Story: In the Era of Empty US Open Seats, IBM and AI Can Help Fans Stay Engaged\\n\\nBy Trish Hall\\n\\nAs the US Open gets underway in New York this week, the world’s top tennis players are performing in front of empty seats—not the 800,000 or so fans who would normally fill the Billie Jean King National Tennis Center during the two-week tournament.\\n\\nBut tennis fans will be watching from home on televisions, computers and the US Open app. To connect them even more deeply to the matches, IBM, in collaboration with the tournament’s host, the United States Tennis Association (USTA), has developed new, immersive interactive features using IBM’s AI and Watson capabilities.'), Document(metadata={'source': 'doc 1.pdf'}, page_content=\"4/9/25, 8:57 PM U.S. Open | IBM\\n\\n“Managing all that data, producing Al-generated insights, securing the environment...IBM just makes it all come together for us. And! can't wait to see what the future of the partnership holds.”\\n\\nKirsten Corio Chief Commercial Officer\\n\\nhttps://www.ibm.com/case-studies/us-open 9/12\\n\\n4/9/25, 8:57 PM U.S. Open | IBM\\n\\nUnited States Tennis Association\\n\\ni\\n\\na\\n\\n——_\\n\\nusopen\\n\\nAbout United States Tennis Association (USTA)\\n\\nFounded in 1881, the USTA [7 is the national governing body for the sport of tennis in the US. The US Open [7 s the association’s Grand Slam tournament, first held in 1968—the year that Arthur Ashe won the men’s singles title. The US Open is played each September at the USTA Billie Jean King National Tennis Center in Flushing, Queens, New York.\\n\\nSolution components\\n\\n> IBM Garage™ > >\"), Document(metadata={'source': 'doc 1.pdf'}, page_content='4/9125, 8:57 PM U.S. Open | IBM “The digital experience of the US Open is of enc and therefore to us,” says Kirsten Corio, Chief C means we need to constantly innovate to meet anticipating their needs, but also surprising the experiences.”\\n\\nTo help the US Open stay on the cutting edge of Consulting worked closely with the USTA to dev transform tennis data into insights and original website. To do this, the USTA used IBM® watsor powerful AI models, including IBM Granite™ fot app features, such as Match Reports and AI Cor\\n\\n15M\\n\\nhttps://www.ibm.com/case-studies/us-open 3/12\\n\\n4/9/25, 8:57 PM U.S. Open | IBM World-class digital experiences for more than 15 million fans around the globe\\n\\n“The AI models buil do more than enha experience of the U also scale the prod editorial team by at workflows.”\\n\\nKirsten Corio Chief Commercial Officer United States Tennis Association\\n\\nGenerative AI experi: watsonx')]\u001b[0m\u001b[32;1m\u001b[1;3m\n",
      "\n",
      "Action:\n",
      "```\n",
      "{\n",
      "  \"action\": \"Final Answer\",\n",
      "  \"action_input\": \"The provided context does not mention the location of the 2026 US Open Tennis Championship. IBM has been providing technology support to USTA for the US Open for 29 years, focusing on creating immersive virtual experiences using AI and Watson capabilities. However, there is no information about IBM's involvement or the location of the 2026 US Open.\"\n",
      "}\n",
      "```\u001b[0m\n",
      "\n",
      "\u001b[1m> Finished chain.\u001b[0m\n"
     ]
    },
    {
     "data": {
      "text/plain": [
       "{'input': 'Where was the 2026 US Open Tennis Championship?',\n",
       " 'history': 'Human: Where was the 2024 US Open Tennis Championship?\\nAI: The 2024 US Open Tennis Championship was held in Flushing, New York.\\nHuman: How did IBM use watsonx at the 2024 US Open Tennis Championship?\\nAI: IBM used watsonx at the 2024 US Open Tennis Championship to provide AI-generated insights and content in the US Open app. This included spoken comment previews, match summaries, and enhanced AI commentary for on-demand highlights. Additionally, IBM and the USTA Foundation announced a collaboration to provide AI professional development resources to USTA Foundation students, teaching professionals, and the public.\\nHuman: What is the capital of France?\\nAI: The capital of France is Paris.',\n",
       " 'output': \"The provided context does not mention the location of the 2026 US Open Tennis Championship. IBM has been providing technology support to USTA for the US Open for 29 years, focusing on creating immersive virtual experiences using AI and Watson capabilities. However, there is no information about IBM's involvement or the location of the 2026 US Open.\"}"
      ]
     },
     "execution_count": 34,
     "metadata": {},
     "output_type": "execute_result"
    }
   ],
   "source": [
    "agent_executor.invoke({\"input\": \"Where was the 2026 US Open Tennis Championship?\"})\n"
   ]
  }
 ],
 "metadata": {
  "kernelspec": {
   "display_name": "Python 3",
   "language": "python",
   "name": "python3"
  },
  "language_info": {
   "codemirror_mode": {
    "name": "ipython",
    "version": 3
   },
   "file_extension": ".py",
   "mimetype": "text/x-python",
   "name": "python",
   "nbconvert_exporter": "python",
   "pygments_lexer": "ipython3",
   "version": "3.11.11"
  }
 },
 "nbformat": 4,
 "nbformat_minor": 5
}
