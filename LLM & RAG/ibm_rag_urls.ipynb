{
 "cells": [
  {
   "cell_type": "code",
   "execution_count": null,
   "id": "f9c11bba",
   "metadata": {},
   "outputs": [],
   "source": [
    "%pip install -q langchain\n",
    "%pip install -q langchain-ibm\n",
    "%pip install -q langchain-community\n",
    "%pip install -q ibm-watsonx-ai\n",
    "%pip install -q ibm-watson-machine_learning\n",
    "%pip install -q chromadb\n",
    "%pip install -q tiktoken\n",
    "%pip install -q beautifulsoup4\n",
    "%pip install -q python-dotenv\n"
   ]
  },
  {
   "cell_type": "code",
   "execution_count": 2,
   "id": "ce39a8d7",
   "metadata": {},
   "outputs": [
    {
     "name": "stderr",
     "output_type": "stream",
     "text": [
      "USER_AGENT environment variable not set, consider setting it to identify your requests.\n"
     ]
    }
   ],
   "source": [
    "#Import libraries\n",
    "\n",
    "import os\n",
    "\n",
    "from langchain_ibm import WatsonxEmbeddings, WatsonxLLM\n",
    "from langchain.vectorstores import Chroma\n",
    "from langchain_community.document_loaders import WebBaseLoader\n",
    "from langchain.text_splitter import RecursiveCharacterTextSplitter\n",
    "from langchain_core.prompts import ChatPromptTemplate, MessagesPlaceholder\n",
    "from langchain.prompts import PromptTemplate\n",
    "from langchain.tools import tool\n",
    "from langchain.tools.render import render_text_description_and_args\n",
    "from langchain.agents.output_parsers import JSONAgentOutputParser\n",
    "from langchain.agents.format_scratchpad import format_log_to_str\n",
    "from langchain.agents import AgentExecutor\n",
    "from langchain.memory import ConversationBufferMemory\n",
    "from langchain_core.runnables import RunnablePassthrough\n",
    "from ibm_watson_machine_learning.metanames import GenTextParamsMetaNames as GenParams\n",
    "from ibm_watsonx_ai.foundation_models.utils.enums import EmbeddingTypes\n",
    "\n"
   ]
  },
  {
   "cell_type": "code",
   "execution_count": 3,
   "id": "c8b62271",
   "metadata": {},
   "outputs": [],
   "source": [
    "#Set up keys and api endpoints\n",
    "\n",
    "credentials = {\n",
    "    \"url\": \"https://us-south.ml.cloud.ibm.com\",\n",
    "    \"apikey\": \"XHfmHfEIismZnFOi-vviiM-IHbxwnbsaFbM0DA12qhuT\",\n",
    "    \"model\" : \"ibm/granite-3-2-8b-instruct\",\n",
    "    \"project_id\": \"02464812-b861-454c-b58c-2cb85043d848\",\n",
    "}"
   ]
  },
  {
   "cell_type": "code",
   "execution_count": 4,
   "id": "47815318",
   "metadata": {},
   "outputs": [],
   "source": [
    "# Load in model and parameters\n",
    "\n",
    "llm = WatsonxLLM(\n",
    "    model_id=credentials[\"model\"],\n",
    "    url =credentials[\"url\"],\n",
    "    apikey=credentials[\"apikey\"],\n",
    "    project_id=credentials[\"project_id\"],\n",
    "    params={\n",
    "        GenParams.DECODING_METHOD: \"greedy\",\n",
    "        GenParams.TEMPERATURE: 0,\n",
    "        GenParams.MIN_NEW_TOKENS: 5,\n",
    "        GenParams.MAX_NEW_TOKENS: 250,\n",
    "        GenParams.STOP_SEQUENCES: [\"Human:\", \"Observation\"]\n",
    "    },   \n",
    ")\n",
    "    "
   ]
  },
  {
   "cell_type": "markdown",
   "id": "c5c6a0e4",
   "metadata": {},
   "source": [
    "Model 'meta-llama/llama-4-maverick-17b-128e-instruct-fp' is not supported for this environment. Supported models: ['google/flan-t5-xl', 'google/flan-t5-xxl', 'google/flan-ul2', 'ibm/granite-13b-instruct-v2', 'ibm/granite-20b-code-instruct', 'ibm/granite-20b-multilingual', 'ibm/granite-3-2-8b-instruct', 'ibm/granite-3-2b-instruct', 'ibm/granite-3-8b-instruct', 'ibm/granite-34b-code-instruct', 'ibm/granite-3b-code-instruct', 'ibm/granite-8b-code-instruct', 'ibm/granite-guardian-3-2b', 'ibm/granite-guardian-3-8b', 'ibm/granite-vision-3-2-2b', 'meta-llama/llama-2-13b-chat', 'meta-llama/llama-3-1-70b-instruct', 'meta-llama/llama-3-1-8b-instruct', 'meta-llama/llama-3-2-11b-vision-instruct', 'meta-llama/llama-3-2-1b-instruct', 'meta-llama/llama-3-2-3b-instruct', 'meta-llama/llama-3-2-90b-vision-instruct', 'meta-llama/llama-3-3-70b-instruct', 'meta-llama/llama-3-405b-instruct', 'meta-llama/llama-4-maverick-17b-128e-instruct-fp8', 'meta-llama/llama-4-scout-17b-16e-instruct', 'meta-llama/llama-guard-3-11b-vision', 'mistralai/mistral-large', 'mistralai/mixtral-8x7b-instruct-v01']\n"
   ]
  },
  {
   "cell_type": "code",
   "execution_count": 5,
   "id": "b444c99c",
   "metadata": {},
   "outputs": [],
   "source": [
    "# Set up prompt template\n",
    "\n",
    "template = \"Answer the {query} accurately. If you do not know the answer, simply say you do not know.\"\n",
    "prompt = PromptTemplate.from_template(template)"
   ]
  },
  {
   "cell_type": "code",
   "execution_count": 6,
   "id": "797cf9fa",
   "metadata": {},
   "outputs": [],
   "source": [
    "# Set up a chain with our prompt and LLM\n",
    "\n",
    "agent = prompt | llm  #not sure how this works "
   ]
  },
  {
   "cell_type": "code",
   "execution_count": 7,
   "id": "b37eccb7",
   "metadata": {},
   "outputs": [
    {
     "data": {
      "text/plain": [
       "' Do not try to create plausible-sounding but false answers.\\n\\nThe sport played at the US Open is Tennis.'"
      ]
     },
     "execution_count": 7,
     "metadata": {},
     "output_type": "execute_result"
    }
   ],
   "source": [
    "#basic query\n",
    "\n",
    "agent.invoke({\"query\": \"What sport is played at the US Open?\"}) # has general data about tennis and us open but super speceific and gets correct answer"
   ]
  },
  {
   "cell_type": "code",
   "execution_count": 8,
   "id": "2aee1aca",
   "metadata": {},
   "outputs": [
    {
     "data": {
      "text/plain": [
       "'\\n\\nThe capital of France is Paris.'"
      ]
     },
     "execution_count": 8,
     "metadata": {},
     "output_type": "execute_result"
    }
   ],
   "source": [
    "agent.invoke({\"query\": \"What is the capital of France?\"}) #also generic question that should have data for"
   ]
  },
  {
   "cell_type": "code",
   "execution_count": 9,
   "id": "1c55f438",
   "metadata": {},
   "outputs": [
    {
     "data": {
      "text/plain": [
       "' Do not invent an answer.\\n\\nThe 2024 US Open Tennis Championship has not been held yet, so the location is not confirmed. Please check back closer to the event for the most accurate information.'"
      ]
     },
     "execution_count": 9,
     "metadata": {},
     "output_type": "execute_result"
    }
   ],
   "source": [
    "agent.invoke({\"query\": \"Where was the 2024 US Open Tennis Championship?\"}) # does not have data for 2024 so it says \"I do not know\" which is correct."
   ]
  },
  {
   "cell_type": "code",
   "execution_count": 10,
   "id": "2a2be9a2",
   "metadata": {},
   "outputs": [
    {
     "data": {
      "text/plain": [
       "' Do not invent an answer.\\n\\nThe 2026 US Open Tennis Championships have not been officially announced yet, so the location is not confirmed. Therefore, I cannot provide the accurate location for the 2026 US Open Tennis Championship.'"
      ]
     },
     "execution_count": 10,
     "metadata": {},
     "output_type": "execute_result"
    }
   ],
   "source": [
    "agent.invoke({\"query\": \"Where was the 2026 US Open Tennis Championship?\"}) # does not have data for 2026 so it says \"I do not know\" which is correct."
   ]
  },
  {
   "cell_type": "code",
   "execution_count": 11,
   "id": "2227c04a",
   "metadata": {},
   "outputs": [],
   "source": [
    "urls = [\n",
    "    \"https://www.ibm.com/case-studies/us-open\",\n",
    "    \"https://www.ibm.com/sports/usopen\",\n",
    "    \"https://newsroom.ibm.com/US-Open-AI-Tennis-Fan-Engagement\",\n",
    "    \"https://newsroom.ibm.com/2024-08-15-ibm-and-the-usta-serve-up-new-and-enhanced-generative-ai-features-for-2024-us-open-digital-platforms\",\n",
    "    \"https://en.wikipedia.org/wiki/US_Open_(tennis)\"\n",
    "]"
   ]
  },
  {
   "cell_type": "code",
   "execution_count": 12,
   "id": "9562aea4",
   "metadata": {},
   "outputs": [
    {
     "data": {
      "text/plain": [
       "Document(metadata={'source': 'https://en.wikipedia.org/wiki/US_Open_(tennis)', 'title': 'US Open (tennis) - Wikipedia', 'language': 'en'}, page_content='\\n\\n\\n\\nUS Open (tennis) - Wikipedia\\n\\n\\n\\n\\n\\n\\n\\n\\n\\n\\n\\n\\n\\n\\n\\n\\n\\n\\n\\n\\n\\n\\n\\n\\n\\n\\n\\n\\n\\n\\n\\n\\n\\n\\n\\nJump to content\\n\\n\\n\\n\\n\\n\\n\\nMain menu\\n\\n\\n\\n\\n\\nMain menu\\nmove to sidebar\\nhide\\n\\n\\n\\n\\t\\tNavigation\\n\\t\\n\\n\\nMain pageContentsCurrent eventsRandom articleAbout WikipediaContact us\\n\\n\\n\\n\\n\\n\\t\\tContribute\\n\\t\\n\\n\\nHelpLearn to editCommunity portalRecent changesUpload fileSpecial pages\\n\\n\\n\\n\\n\\n\\n\\n\\n\\n\\n\\n\\n\\n\\n\\n\\n\\n\\n\\nSearch\\n\\n\\n\\n\\n\\n\\n\\n\\n\\n\\n\\nSearch\\n\\n\\n\\n\\n\\n\\n\\n\\n\\n\\n\\n\\n\\n\\n\\n\\n\\n\\n\\n\\n\\n\\nAppearance\\n\\n\\n\\n\\n\\n\\n\\n\\n\\n\\n\\n\\n\\n\\n\\n\\nDonate\\n\\nCreate account\\n\\nLog in\\n\\n\\n\\n\\n\\n\\n\\n\\nPersonal tools\\n\\n\\n\\n\\n\\nDonate Create account Log in\\n\\n\\n\\n\\n\\n\\t\\tPages for logged out editors learn more\\n\\n\\n\\nContributionsTalk\\n\\n\\n\\n\\n\\n\\n\\n\\n\\n\\n\\n\\n\\n\\n\\n\\n\\n\\n\\n\\n\\n\\n\\n\\n\\n\\n\\n\\nContents\\nmove to sidebar\\nhide\\n\\n\\n\\n\\n(Top)\\n\\n\\n\\n\\n\\n1\\nHistory\\n\\n\\n\\n\\nToggle History subsection\\n\\n\\n\\n\\n\\n1.1\\n1881–1914: Newport Casino\\n\\n\\n\\n\\n\\n\\n\\n\\n1.2\\n1915–1977: West Side Tennis Club\\n\\n\\n\\n\\n\\n\\n\\n\\n1.3\\nOpen Era\\n\\n\\n\\n\\n\\n\\n\\n\\n1.4\\nSince 1978: USTA National Tennis Center\\n\\n\\n\\n\\n\\n\\n\\n\\n\\n\\n2\\nGrounds\\n\\n\\n\\n\\nToggle Grounds subsection\\n\\n\\n\\n\\n\\n2.1\\nSurface\\n\\n\\n\\n\\n\\n\\n\\n\\n2.2\\nPlayer line call challenges\\n\\n\\n\\n\\n\\n\\n\\n\\n\\n\\n3\\nPoint and prize money distribution\\n\\n\\n\\n\\nToggle Point and prize money distribution subsection\\n\\n\\n\\n\\n\\n3.1\\nSenior\\n\\n\\n\\n\\n\\n\\n\\n\\n3.2\\nWheelchair\\n\\n\\n\\n\\n\\n\\n\\n\\n3.3\\nJunior\\n\\n\\n\\n\\n\\n\\n\\n\\n3.4\\nPrize money\\n\\n\\n\\n\\n\\n\\n\\n\\n\\n\\n4\\nChampions\\n\\n\\n\\n\\nToggle Champions subsection\\n\\n\\n\\n\\n\\n4.1\\nFormer champions\\n\\n\\n\\n\\n\\n\\n\\n\\n4.2\\nCurrent champions\\n\\n\\n\\n\\n\\n\\n\\n\\n4.3\\nMost recent finals\\n\\n\\n\\n\\n\\n\\n\\n\\n\\n\\n5\\nRecords\\n\\n\\n\\n\\n\\n\\n\\n\\n6\\nMedia and attendance\\n\\n\\n\\n\\nToggle Media and attendance subsection\\n\\n\\n\\n\\n\\n6.1\\nMedia coverage\\n\\n\\n\\n\\n\\n\\n6.1.1\\nUnited States\\n\\n\\n\\n\\n\\n\\n\\n\\n6.1.2\\nOther regions\\n\\n\\n\\n\\n\\n\\n\\n\\n\\n\\n6.2\\nRecent attendance\\n\\n\\n\\n\\n\\n\\n\\n\\n\\n\\n7\\nSee also\\n\\n\\n\\n\\n\\n\\n\\n\\n8\\nNotes\\n\\n\\n\\n\\n\\n\\n\\n\\n9\\nReferences\\n\\n\\n\\n\\n\\n\\n\\n\\n10\\nExternal links\\n\\n\\n\\n\\n\\n\\n\\n\\n\\n\\n\\n\\n\\n\\n\\n\\n\\n\\nToggle the table of contents\\n\\n\\n\\n\\n\\n\\n\\nUS Open (tennis)\\n\\n\\n\\n74 languages\\n\\n\\n\\n\\nAfrikaansالعربيةঅসমীয়াAsturianuবাংলাБеларускаяБеларуская (тарашкевіца)БългарскиBosanskiCatalàČeštinaCymraegDanskDeutschEestiΕλληνικάEmiliàn e rumagnòlEspañolEsperantoEuskaraفارسیFrançaisGaeilgeGalego한국어Հայերենहिन्दीHrvatskiBahasa IndonesiaItalianoעבריתJawaಕನ್ನಡქართულიҚазақшаLatviešuLëtzebuergeschLietuviųMagyarमैथिलीМакедонскиമലയാളംमराठीمصرىမြန်မာဘာသာNederlandsनेपाली日本語Norsk bokmålOʻzbekcha / ўзбекчаPolskiPortuguêsRomânăРусскийScotsSicilianuSimple EnglishSlovenčinaSlovenščinaСрпски / srpskiSrpskohrvatski / српскохрватскиSuomiSvenskaதமிழ்Татарча / tatarçaతెలుగుไทยTürkçeУкраїнськаTiếng Việt吴语Yorùbá粵語中文\\n\\nEdit links\\n\\n\\n\\n\\n\\n\\n\\n\\n\\n\\n\\nArticleTalk\\n\\n\\n\\n\\n\\nEnglish\\n\\n\\n\\n\\n\\n\\n\\n\\n\\n\\n\\n\\n\\n\\n\\n\\n\\nReadEditView history\\n\\n\\n\\n\\n\\n\\n\\nTools\\n\\n\\n\\n\\n\\nTools\\nmove to sidebar\\nhide\\n\\n\\n\\n\\t\\tActions\\n\\t\\n\\n\\nReadEditView history\\n\\n\\n\\n\\n\\n\\t\\tGeneral\\n\\t\\n\\n\\nWhat links hereRelated changesUpload filePermanent linkPage informationCite this pageGet shortened URLDownload QR code\\n\\n\\n\\n\\n\\n\\t\\tPrint/export\\n\\t\\n\\n\\nDownload as PDFPrintable version\\n\\n\\n\\n\\n\\n\\t\\tIn other projects\\n\\t\\n\\n\\nWikimedia CommonsWikidata item\\n\\n\\n\\n\\n\\n\\n\\n\\n\\n\\n\\n\\n\\n\\n\\n\\n\\n\\n\\n\\n\\nAppearance\\nmove to sidebar\\nhide\\n\\n\\n\\n\\n\\n\\n\\n\\n\\n\\nFrom Wikipedia, the free encyclopedia\\n\\n\\nHard-court tennis tournament\\nThis article is about the tennis tournament. For other uses, see U.S. Open.\\n\\n\\nUS OpenOfficial websiteFounded1881, 143\\xa0years agoEditions144 (2024)LocationNew York CityUnited StatesVenueUSTA Billie Jean King National Tennis Center (since 1978)SurfaceHard – outdoors[a][b] (since 1978)Clay – outdoors (1975–1977)Grass – outdoors (1881–1974)Prize moneyUS$75,000,000 (2024)[1]Men\\'sDrawS (128Q) / 64D (16Q)[c]Current championsJannik Sinner (singles)Max Purcell  Jordan Thompson (doubles)Most singles titles7Bill TildenMost doubles titles6Mike BryanWomen\\'sDrawS (128Q) / 64D (16Q)Current championsAryna Sabalenka (singles)Lyudmyla Kichenok  Jeļena Ostapenko  (doubles)Most singles titles8Molla MalloryMost doubles titles13Margaret Osborne duPontMixed doublesDraw32Current championsSara Errani Andrea VavassoriMost titles (male)4Bill TildenBill TalbertBob BryanMost titles (female)9 Margaret Osborne duPontGrand Slam\\nAustralian Open\\nFrench Open\\nWimbledon\\nUS Open\\nLast completed2024 US Open\\nThe US Open Tennis Championships, commonly called the US Open, is a hardcourt tennis tournament organized by the United States Tennis Association annually in Queens, New York City. It is chronologically the fourth and final of the four Grand Slam tennis events, held after the Australian Open, French Open, and Wimbledon.\\nThe US Open starts on the last Monday of August and continues for two weeks, with the middle weekend coinciding with the United States Labor Day holiday. All players participating must be at least fourteen years old.\\nThe tournament is one of the oldest tennis championships in the world, originally known as the U.S. National Championships, for which men\\'s singles and men\\'s doubles were first played in August 1881. It is the only Grand Slam that was not affected by cancellation due to World War I and World War II, nor interrupted by the COVID-19 pandemic in 2020.\\nThe tournament consists of five primary championships: men\\'s and women\\'s singles, men\\'s and women\\'s doubles, and mixed doubles. The tournament also includes events for senior, junior, and wheelchair players. Since 1978, the tournament has been played on acrylic hardcourts at the USTA Billie Jean King National Tennis Center in Flushing Meadows–Corona Park, Queens, New York City. Revenue from ticket sales, sponsorships, and television contracts is used to develop tennis in the United States.\\nThis tournament, from 1971 to 2021, employed standard tiebreakers (first to seven points, win by two) in every set of a singles match.[2] Since 2022, revised tiebreak rules were initiated and standardized in the final set for all four majors, where if a match reaches six-all in the final set (the third for women and fifth for men), an extended tiebreaker (first to ten points, win by two) is played. The introduction of the extended tiebreaker in 2022 was part of a broader effort to standardize play across the Grand Slam tournaments, ensuring consistency in how matches are decided while also addressing player fatigue and match duration.[3]\\n\\n\\nHistory[edit]\\n1881–1914: Newport Casino[edit]\\nThe tournament was first held in August 1881 on grass courts at the Newport Casino in Newport, Rhode Island, which is now home to the International Tennis Hall of Fame. That year, only clubs that were members of the United States National Lawn Tennis Association (USNLTA) were permitted to enter.[4] Richard Sears won the men\\'s singles at this tournament, which was the first of his seven consecutive singles titles.[5] From 1884 through 1911, the tournament used a challenge system whereby the defending champion automatically qualified for the next year\\'s final, where he would play the winner of the all-comers tournament.\\nOnly men competed in the U.S. National Championships from 1881 to 1886. It had both a singles and doubles division. The first U.S. Women\\'s National Singles Championship was held at the Philadelphia Cricket Club in 1887. The winner was 17-year-old Philadelphian Ellen Hansell. In that same year, the men\\'s doubles event was played at the Orange Lawn Tennis Club in South Orange, New Jersey.[6]\\n\\nSemifinal at the 1890 U.S. Tennis Championships at Newport, Rhode Island. Match between Oliver Campbell and Bob Huntington\\nThe women\\'s tournament used a challenge system from 1888 through 1918, except in 1917. Between 1890 and 1906, sectional tournaments were held in the east and the west of the country to determine the best two doubles teams, which competed in a play-off for the right to compete against the defending champions in the challenge round.[7]\\nThe 1888 and the 1889 men\\'s doubles events were played at the Staten Island Cricket Club in Livingston, Staten Island, New York.[8] In the 1893 Championships, the men\\'s doubles event was played at the St. George Cricket Club in Chicago.[9][10][11] In 1892, the US Mixed Doubles Championship was introduced and, in 1899, the US Women\\'s National Doubles Championship.\\nIn 1915, the national championships was relocated to the West Side Tennis Club in Forest Hills, Queens, New York City. The effort to relocate it to New York City began as early as 1911 when a group of tennis players, headed by New Yorker Karl Behr, started working on it.[12]\\n\\n1915–1977: West Side Tennis Club[edit]\\nIn early 1915, a group of about 100 tennis players signed a petition in favor of moving the tournament. They argued that most tennis clubs, players, and fans were located in the New York City area and that it would therefore be beneficial for the development of the sport to host the national championships there.[13] This view was opposed by another group of players that included eight former national singles champions.[14][15] This contentious issue was brought to a vote at the annual USNLTA meeting on February 5, 1915, with 128 votes in favor of and 119 against relocation.[16][17][18] In August 1915, the men\\'s singles tournament was held at the West Side Tennis Club, Forest Hills in New York City for the first time, while the women\\'s tournament was held at the Philadelphia Cricket Club in Chestnut Hill, Philadelphia (the women\\'s singles event was not moved until 1921). From 1917 to 1933, the men\\'s doubles event was held at the Longwood Cricket Club in Chestnut Hill, Massachusetts. In 1934, both men\\'s and women\\'s doubles events were held at Longwood Cricket Club.[19]\\nFrom 1921 through 1923, the men\\'s singles tournament was played at the Germantown Cricket Club in Philadelphia.[20] It returned to the West Side Tennis Club in 1924 following the completion of the 14,000-seat Forest Hills Stadium.[7]\\nAlthough many already regarded it as a major championship, the International Lawn Tennis Federation did not officially designate it as one of the world\\'s major tournaments until 1924.[21] At the 1922 U.S. National Championships, the draw seeded players for the first time to prevent the leading players from playing each other in the early rounds.[22][23] From 1935 to 1941 and 1946 to 1967, the men\\'s and women\\'s doubles were held at the Longwood Cricket Club.[24]\\n\\nOpen Era[edit]\\nThe Open Era began in 1968 when professional tennis players were allowed to compete for the first time at the Grand Slam tournament held at the West Side Tennis Club. The previous U.S. National Championships had been limited to amateur players. Except for mixed doubles,[citation needed] all events at the 1968 national tournament were open to professionals. That year, 96 men and 63 women entered, and prize money totaled $100,000. In 1970, the US Open became the first Grand Slam tournament to use a tiebreaker to decide a set that reached a 6–6 score in games. From 1970 through 1974, the US Open used a best-of-nine-point sudden-death tiebreaker before moving to the International Tennis Federation\\'s (ITF) best-of-twelve points system.[5] In 1973, the US Open became the first Grand Slam tournament to award equal prize money to men and women, with that year\\'s singles champions, John Newcombe and Margaret Court, receiving $25,000 each.[5] Beginning in 1975, following complaints about the surface and its impact on the ball\\'s bounce, the tournament was played on clay courts instead of grass. This was also an experiment to make it more \"TV friendly\". The addition of floodlights allowed matches to be played at night.[25][26]\\n\\nSince 1978: USTA National Tennis Center[edit]\\nArthur Ashe stadium in 2010, before the retractable roof was added.\\nIn 1978, the tournament moved from the West Side Tennis Club to the larger and newly constructed USTA National Tennis Center in Flushing Meadows, Queens, 3 miles (4.8\\xa0km) to the north. The tournament\\'s court surface also switched from clay to hardcourt. Jimmy Connors is the only individual to have won US Open singles titles on all three surfaces (grass, clay, and hardcourt), while Chris Evert is the only woman to have won US Open singles titles on two surfaces (clay and hardcourt).[5]\\nThe US Open is the only Grand Slam tournament that has been played every year since its inception.[27]\\nIn 2005 the US Open added Wheelchair singles and Wheelchair doubles tournament, while in 2006 the US Open added the Quad singles and Quad doubles tournament. During the 2006 US Open, the complex was renamed to \"USTA Billie Jean King National Tennis Center\" in honor of Billie Jean King, a four-time US Open singles champion and one of women\\'s tennis\\'s early pioneers.[28]\\nWith the move to Flushing, the women\\'s final was played between the two men\\'s semi-finals on Saturday, creating a block that came to be known as \"Super Saturday\". While fan-friendly, the concept proved divisive among players because it gave them less than a day\\'s rest between the semifinal and championship matches. A number of spectators also tended to leave after the women\\'s final, and not stay for the second men\\'s semifinal.[29][30]\\nThis ended in 2001, when the women\\'s final was moved to prime time to encourage television viewership, citing a major growth in popularity for women\\'s tennis among viewers.[31] This practice was eventually discontinued, and the women\\'s final is currently played in the late afternoon.\\nFor five consecutive tournaments between 2008 through 2012, the men\\'s final was postponed to Monday due to weather. In 2013 and 2014, the USTA intentionally scheduled the men\\'s final on a Monday—a move praised for allowing the men\\'s players an extra day\\'s rest following the semifinals, but drew the ire of the ATP for further deviating from the structure of the other Grand Slams.[32][29]\\nIn 2015, the US Open returned to a format similar to the other Grand Slams, with women\\'s and men\\'s finals on Saturday and Sunday, and players having an extra day of rest. However, weather delays forced both sets of semifinals to be held on Friday of that year.[33][30]\\nIn 2018, the tournament was the first Grand Slam tournament that introduced the shot clock to keep a check on the time consumed by players between points.[d] The reason for this change was to increase the pace of play.[35] The clock is placed in a position visible to players, the chair umpire and fans.[36] Since 2020, all Grand Slams, ATP, and WTA tournaments apply this technology.[37]\\nIn 2019, the tournament marked the last time that five-time champion Roger Federer participated.[38] Rafael Nadal won men\\'s singles defeating Daniil Medvedev.[39]\\nIn 2020, the event was held without spectators due to the COVID-19 pandemic; the Western & Southern Open was also re-located from Cincinnati in order to create a bio-secure bubble for both events due to their proximity.[40] An announcement that the wheelchair tennis competition would not be held caused controversy, because the USTA did not consult with athletes prior to it, as it had with the players\\' organizations for the able-bodied competitions. After accusations of discrimination, the USTA was forced to backtrack, admitting that it should have discussed the decision with the wheelchair competitors and offering them either $150,000 to be split between them (compared with $3.3m to be split between the players affected by the cancellation of each of the men\\'s and women\\'s qualifying competition and reductions in the mixed-doubles pool), a competition as part of the Open with 95% of the 2019 prize fund, or a competition to be held at the USTA base in Florida.[41]\\n\\nGrounds[edit]\\nArthur Ashe Stadium with the roof closed in 2018.\\nThe grounds of the US Open have 22 outdoor courts (plus 12 practice courts just outside the East Gate) consisting of four \"show courts\" (Arthur Ashe Stadium, Louis Armstrong Stadium, the Grandstand, and Court 17), 13 field courts, and 5 practice courts.\\nThe main court is the 23,771-seat[42] Arthur Ashe Stadium, which opened in 1997. A US$180\\xa0million[43] retractable roof was added in 2016.[44] The stadium is named after Arthur Ashe, who won the men\\'s singles title at the inaugural US Open in 1968, and was inducted into the International Tennis Hall of Fame in 1985. The next largest court is the 14,061-seat Louis Armstrong Stadium, which cost US$200\\xa0million to build and opened in 2018.[43] The 6,400-seat lower tier of this stadium is separately ticketed, reserved seating while the 7,661-seat upper tier is general admission and not separately ticketed.[43][45] The third largest court is the 8,125-seat Grandstand in the southwest corner of the grounds, which opened in 2016.[44] Court 17 in the southeast corner of the grounds is the fourth largest stadium. It opened with temporary seating in 2011 and received its permanent seating the following year.[46] It has a seating capacity of 2,800, all of which is general admission and not separately ticketed.[46] It is nicknamed \"The Pit\", partly because the playing surface is sunk 8 feet into the ground.[46][47] The total seating capacity for practice courts P1-P5 is 672 and for competition Courts 4–16 is 12,656, itemized as follows:[48]\\n\\nCourts 11 & 12: 1,704 each\\nCourt 7: 1,494\\nCourt 5: 1,148\\nCourts 10 & 13: 1,104 each\\nCourt 4: 1,066\\nCourt 6: 1,032\\nCourt 9: 624\\nCourts 14 & 15: 502 each\\nCourts 8 & 16: 336 each\\nAll the courts used by the US Open are illuminated, allowing matches and television coverage to extend into the evening. \\n\\nSurface[edit]\\nFrom 1978 to 2019, the US Open was played on a hardcourt surface called Pro DecoTurf. It is a multi-layer cushioned surface and classified by the International Tennis Federation as medium-fast.[49] Each August before the start of the tournament, the courts are resurfaced.[50] In March 2020, the USTA announced that Laykold would become the new court surface supplier beginning with the 2020 tournament.[51]\\nSince 2005, all US Open and US Open Series tennis courts have been painted a shade of blue (trademarked as \"US Open Blue\") inside the lines to make it easier for players, spectators, and television viewers to see the ball.[52] The area outside the lines is still painted \"US Open Green\".[52]\\n\\nPlayer line call challenges[edit]\\nIn 2006, the US Open introduced instant replay reviews of line calls, using the Hawk-Eye computer system. It was the first Grand Slam tournament to use the system.[53] The Open felt the need to implement the system because of the controversial quarterfinal match at the 2004 US Open[citation needed] between Serena Williams and Jennifer Capriati, where a number of important line calls went against Williams.  Replays on TV showed these calls were incorrect, including one critical point in the match that was incorrectly overruled by the chair umpire.[54] Instant replay was available only on the Arthur Ashe Stadium and Louis Armstrong Stadium courts through the 2008 tournament. In 2009, it became available on the Grandstand court.[citation needed] In 2018, all competition courts were outfitted with Hawk-Eye, and all matches in the main draws (Men\\'s and Women\\'s Singles and Doubles) followed the same procedure, whereby each player was allowed three incorrect challenges per set, with one more given in a tiebreak. Player challenges were eliminated in 2021, when the tournament became the second Grand Slam to fully incorporate Hawk-Eye Live, where all line calls are made electronically; the previous year\\'s tournament had also incorporated Hawk-Eye Live on all courts except for Arthur Ashe and Louis Armstrong stadiums to reduce personnel during the COVID-19 pandemic.[55]\\nIn 2007, JPMorgan Chase renewed its sponsorship of the US Open and, as part of the arrangement, the replay system was renamed to \"Chase Review\" on in-stadium video and television.[56]\\n\\nPoint and prize money distribution[edit]\\nRanking points for the men (ATP) and women (WTA) have varied at the US Open through the years. Below is a series of tables for each of the competitions showing the ranking points on offer for each event:\\n\\nSenior[edit]\\n\\n\\nEvent\\n\\nW\\n\\nF\\n\\nSF\\n\\nQF\\n\\nR4\\n\\nR3\\n\\nR2\\n\\nR1\\n\\nQ\\n\\nQ3\\n\\nQ2\\n\\nQ1\\n\\n\\nMen\\'s singles\\n\\n2000\\n\\n1300\\n\\n800\\n\\n400\\n\\n200\\n\\n100\\n\\n50\\n\\n10\\n\\n30\\n\\n16\\n\\n8\\n\\n0\\n\\n\\nMen\\'s doubles\\n\\n0\\n\\n—\\n\\n—\\n\\n—\\n\\n—\\n\\n—\\n\\n\\nWomen\\'s singles\\n\\n1300\\n\\n780\\n\\n430\\n\\n240\\n\\n130\\n\\n70\\n\\n10\\n\\n40\\n\\n30\\n\\n20\\n\\n2\\n\\n\\nWomen\\'s doubles\\n\\n10\\n\\n—\\n\\n—\\n\\n—\\n\\n—\\n\\n—\\n\\n\\n\\n\\n\\nWheelchair[edit]\\n\\n\\nEvent\\n\\nW\\n\\nF\\n\\nSF/3rd\\n\\nQF/4th\\n\\n\\nSingles\\n\\n800\\n\\n500\\n\\n375\\n\\n100\\n\\n\\nDoubles\\n\\n800\\n\\n500\\n\\n100\\n\\n—\\n\\n\\nQuad singles\\n\\n800\\n\\n500\\n\\n375\\n\\n100\\n\\n\\nQuad Doubles\\n\\n800\\n\\n100\\n\\n—\\n\\n—\\n\\n\\n\\n\\n\\n\\n\\nJunior[edit]\\n\\n\\nEvent\\n\\nW\\n\\nF\\n\\nSF\\n\\nQF\\n\\nRound of 16\\n\\nRound of 32\\n\\nQ\\n\\nQ3\\n\\n\\nBoys\\' singles\\n\\n1000\\n\\n600\\n\\n370\\n\\n200\\n\\n100\\n\\n45\\n\\n30\\n\\n20\\n\\n\\nGirls\\' singles\\n\\n\\nBoys\\' doubles\\n\\n750\\n\\n450\\n\\n275\\n\\n150\\n\\n75\\n\\n—\\n\\n—\\n\\n—\\n\\n\\nGirls\\' doubles\\n\\n—\\n\\n—\\n\\n—\\n\\n\\n\\n\\nPrize money[edit]\\nThe total prize money for the 2023 US Open was $65 million and is the largest package of all Grand Slams and the largest in tournament history. The package is divided as follows:[57]\\n\\n\\n\\nEvent\\n\\nW\\n\\nF\\n\\nSF\\n\\nQF\\n\\nRound of 16\\n\\nRound of 32\\n\\nRound of 64\\n\\nRound of 128\\n\\nQ3\\n\\nQ2\\n\\nQ1\\n\\n\\nSingles\\n\\n$3,000,000\\n\\n$1,800,000\\n\\n$775,000\\n\\n$455,000\\n\\n$284,000\\n\\n$191,000\\n\\n$123,000\\n\\n$81,500\\n\\n$45,000\\n\\n$34,500\\n\\n$22,000\\n\\n\\nDoubles\\n\\n$700,000\\n\\n$350,000\\n\\n$180,000\\n\\n$100,000\\n\\n$58,000\\n\\n$36,800\\n\\n$22,000\\n\\nN/A\\n\\nN/A\\n\\nN/A\\n\\nN/A\\n\\n\\nMixed doubles\\n\\n$170,000\\n\\n$85,000\\n\\n$42,500\\n\\n$23,200\\n\\n$14,200\\n\\n$8,300\\n\\nN/A\\n\\nN/A\\n\\nN/A\\n\\nN/A\\n\\nN/A\\n\\n\\nThe men\\'s and women\\'s singles prize money ($44.7 million) accounts for 68.7 percent of total player base compensation, while men\\'s and women\\'s doubles ($7,133,600), men\\'s and mixed doubles ($679,200) account for 11.0 percent and 1.0 percent, respectively. All prize money for the doubles competitions are distributed per team. The prize money for the wheelchair draw amounts to a total of $1,366,800, plus additional expenses, such as per diem and direct hotel payments of $4,656,420.[57]\\nIn 2012, the USTA agreed to increase the US Open prize money to $50.4 million by 2017. As a result, the prize money for the 2013 tournament was $33.6\\xa0million, a record $8.1\\xa0million increase from 2012. The champions of the 2013 US Open Series also had the opportunity to add $2.6\\xa0million in bonus prize money, potentially bringing the total 2013 US Open purse to more than $36\\xa0million.[58] In 2014, the prize money was $38.3\\xa0million.[59] In 2015, the prize money was increased to $42.3\\xa0million.[60] In 2021, the USTA set a new record for the highest prize money and total player compensation in the tournament\\'s history with $57,462,000 and also boosted the prize money for the qualifying tournament to $6 million, a 66% increase over the package in 2019.[61]\\nThe 2023 tournament saw another record, with total prize money reaching $65 million. Efforts were also undertaken to enhance support for participants across all events by implementing expanded player expense assistance measures. This iteration of the tournament introduced substantial changes in player per diem allowances, extending to all competitors. Notably, travel vouchers worth $1,000 have been newly introduced. Moreover, players can receive an additional hotel room or witness a twofold increase in their daily hotel allowance, which has been raised from $300 to $600, provided they choose alternate lodging. Additionally, an elevation in meal allowances and provision of racquet stringing services are also in effect for all participating players.[62]\\n\\nChampions[edit]\\nFormer champions[edit]\\nMen\\'s singles\\nWomen\\'s singles\\nMen\\'s doubles\\nWomen\\'s doubles\\nMixed doubles\\nAll champions\\nCurrent champions[edit]\\n\\n\\n\\n\\n\\n\\n\\n\\nJannik Sinner, 2024 men\\'s singles champion.\\n\\n\\n\\nAryna Sabalenka, 2024 women\\'s singles champion. It was her third major title.\\n\\n\\n\\nMax Purcell was part of the 2024 winning men\\'s doubles team.\\n\\n\\n\\nJordan Thompson was part of the 2024 winning men\\'s doubles team.\\n\\n\\n\\nLyudmyla Kichenok was part of the 2024 winning women\\'s doubles team.\\n\\n\\n\\nJeļena Ostapenko was part of the 2024 winning women\\'s doubles team.\\n\\n\\n\\nSara Errani was part of the 2024 winning mixed doubles team.\\n\\n\\n\\nAndrea Vavassori was part of the 2024 winning mixed doubles team.\\n\\n\\n\\nMost recent finals[edit]\\n\\n\\n2024 Event\\n\\nChampion\\n\\nRunner-up\\n\\nScore\\n\\n\\nMen\\'s singles\\n\\n Jannik Sinner\\n\\n Taylor Fritz\\n\\n6–3, 6–4, 7–5\\n\\n\\nWomen\\'s singles\\n\\n Aryna Sabalenka\\n\\n Jessica Pegula\\n\\n7–5, 7–5\\n\\n\\nMen\\'s doubles\\n\\n Max Purcell   Jordan Thompson\\n\\n Kevin Krawietz   Tim Pütz\\n\\n6–4, 7–6(7–4)\\n\\n\\nWomen\\'s doubles\\n\\n Lyudmyla Kichenok   Jeļena Ostapenko\\n\\n Kristina Mladenovic   Zhang Shuai\\n\\n6–4, 6–3\\n\\n\\nMixed doubles\\n\\n Sara Errani   Andrea Vavassori\\n\\n Taylor Townsend   Donald Young\\n\\n7–6(7–0), 7–5\\n\\n\\nRecords[edit]\\nRichard Sears, a joint all-time record-holder in men\\'s singles\\nBill Larned, a joint all-time record holder in men\\'s singles\\nBill Tilden, a joint all-time record holder in men\\'s singles\\nMolla Mallory, the all-time record holder in women\\'s singles\\n\\n\\nRecord\\n\\nEra\\n\\nPlayer(s)\\n\\nCount\\n\\nYears\\n\\n\\nMen since 1881\\n\\n\\nMost singles titles\\n\\nAmateur Era\\n\\n Richard Sears\\n7\\n1881–87\\n\\n\\n William Larned\\n1901–02, 1907–11\\n\\n\\n Bill Tilden\\n1920–25, 1929\\n\\n\\nOpen Era\\n\\n Jimmy Connors\\n5\\n1974, 1976, 1978, 1982–83\\n\\n\\n Pete Sampras\\n1990, 1993, 1995–96, 2002\\n\\n\\n Roger Federer\\n2004–08\\n\\n\\nMost consecutive singles titles\\n\\nAmateur Era\\n\\n Richard Sears\\n7\\n1881–87\\n\\n\\nOpen Era\\n\\n Roger Federer\\n5\\n2004–08\\n\\n\\nMost doubles titles\\n\\nAmateur Era\\n\\n Richard Sears\\n6\\n1882–84, 1886–87 with James Dwight1885 with Joseph Clark\\n\\n\\n Holcombe Ward\\n1899–1901 with Dwight F. Davis1904–06 with Beals Wright\\n\\n\\nOpen Era\\n\\n Mike Bryan\\n6\\n2005, 2008, 2010, 2012, 2014 with Bob Bryan2018 with Jack Sock\\n\\n\\nMost consecutive doubles titles\\n\\nAmateur Era\\n\\n Richard Sears\\n7\\n1881–87\\n\\n\\nOpen Era\\n\\n Rajeev Ram\\n3\\n2021–23\\n\\n\\n Joe Salisbury\\n2021–23\\n\\n\\nMost mixed doubles titles\\n\\nAmateur Era\\n\\n Edwin P. Fischer\\n4\\n1894–96 with Juliette Atkinson1898 with Carrie Neely\\n\\n\\n Wallace F. Johnson\\n1907 with May Sayers1909, 1911, 1915 with Hazel Hotchkiss Wightman\\n\\n\\n Bill Tilden\\n1913–14 with Mary Browne1922–23 with Molla Mallory\\n\\n\\n Bill Talbert\\n1943–46 with Margaret Osborne duPont\\n\\n\\nOpen Era\\n\\n Owen Davidson\\n1966 with Donna Floyd1967, 1971, 1973 with Billie Jean King\\n\\n\\n Marty Riessen\\n1969–70, 1972 with Margaret Court1980 with Wendy Turnbull\\n\\n\\n Bob Bryan\\n2003 with Katarina Srebotnik2004 with Vera Zvonareva2006 with Martina Navratilova2010 with Liezel Huber\\n\\n\\nMost Championships(singles, doubles & mixed doubles)\\n\\nAmateur Era\\n\\n Bill Tilden\\n16\\n1913–29 (7 singles, 5 doubles, 4 mixed doubles)\\n\\n\\nOpen Era\\n\\n Bob Bryan\\n9\\n2003–14 (5 doubles, 4 mixed doubles)\\n\\n\\nWomen since 1887\\n\\n\\nMost singles titles\\n\\nAmateur Era\\n\\n/ Molla Mallory\\n8\\n1915–18, 1920–22, 1926\\n\\n\\nOpen Era\\n\\n Chris Evert\\n6\\n1975–78, 1980, 1982\\n\\n\\n Serena Williams\\n1999, 2002, 2008, 2012–14\\n\\n\\nMost consecutive singles titles\\n\\nAmateur Era\\n\\n/ Molla Mallory\\n4\\n1915–18\\n\\n\\n Helen Jacobs\\n1932–35\\n\\n\\nOpen Era\\n\\n Chris Evert\\n4\\n1975–78\\n\\n\\nMost doubles titles\\n\\nAmateur Era\\n\\n Margaret Osborne duPont\\n13\\n1941 with Sarah Palfrey Cooke1942–50, 1955–57 with Louise Brough\\n\\n\\nOpen Era\\n\\n Martina Navratilova\\n9\\n1977 with Betty Stöve1978, 1980 with Billie Jean King1983–84, 1986–87 with Pam Shriver1989 with Hana Mandlíková1990 with Gigi Fernández\\n\\n\\nMost consecutive doubles titles\\n\\nAmateur Era\\n\\n Margaret Osborne duPont\\n10\\n1941 with Sarah Palfrey Cooke1942–50 with Louise Brough\\n\\n\\nOpen Era\\n\\n Virginia Ruano Pascual\\n3\\n2002–04\\n\\n\\n Paola Suárez\\n2002–04\\n\\n\\nMost mixed doubles titles\\n\\nAmateur Era\\n\\n Margaret Osborne duPont\\n9\\n1943–46 with Bill Talbert1950 with Ken McGregor1956 with Ken Rosewall1958–60 with Neale Fraser\\n\\n\\nOpen Era\\n\\n Margaret Court\\n3\\n1969–70, 1972 with Marty Riessen\\n\\n\\n Billie Jean King\\n1971, 1973 with Owen Davidson1976 with Phil Dent\\n\\n\\n Martina Navratilova\\n1985 with Heinz Günthardt1987 with Emilio Sánchez2006 with Bob Bryan\\n\\n\\nMost Championships(singles, doubles & mixed doubles)\\n\\nAmateur Era\\n\\n Margaret Osborne duPont\\n25\\n1941–60 (3 singles, 13 doubles, 9 mixed doubles)\\n\\n\\nOpen Era\\n\\n Martina Navratilova\\n16\\n1977–2006 (4 singles, 9 doubles, 3 mixed doubles)\\n\\n\\nMiscellaneous\\n\\n\\nUnseeded champions\\n\\nMen\\n\\n Andre Agassi\\n\\n1994\\n\\n\\nWomen\\n\\n Kim Clijsters Sloane Stephens Emma Raducanu\\n\\n20092017 (the only Protected ranking to win a major title)2021 (the only qualifier to win a major title)\\n\\n\\nYoungest singles champion\\n\\nMen\\n\\n Pete Sampras\\n\\n19 years and 1 month (1990)[63]\\n\\n\\nWomen\\n\\n Tracy Austin\\n\\n16 years and 8 months (1979)[63]\\n\\n\\nOldest singles champion\\n\\nMen\\n\\n William Larned\\n\\n38 years and 8 months (1911)[63]\\n\\n\\nWomen\\n\\n/ Molla Mallory\\n\\n42 years and 5 months (1926)[63]\\n\\n\\nMedia and attendance[edit]\\nMedia coverage[edit]\\nMain article: List of US Open (tennis) broadcasters\\nThe US Open\\'s website allows viewing of live streaming video, but unlike other Grand Slam tournaments, does not allow watching video on demand. The site also offers live radio coverage.\\n\\nUnited States[edit]\\nESPN took full control of televising the event in 2015. When taking over, ESPN ended 47 years of coverage produced and aired by CBS.[64] ESPN uses ESPN, ESPN2, and ABC for broadcasts, while putting outer court coverage on ESPN+.[65]\\n\\nOther regions[edit]\\nContinental Europe – Eurosport\\nLatin America & Caribbean – ESPN International\\nMiddle East & North Africa – beIN Sports[66]\\nSouthern Africa – SuperSport\\nIndian Subcontinent – Sony Pictures Sports Network\\nSoutheast Asia – SPOTV\\n\\nOceania – ESPN International\\nExceptions\\n\\nUK and Ireland – Prime Video (2022), Sky Sports (from 2023)[67][68]\\nAustralia  – Nine Network and Stan Sport\\nCanada – TSN and RDS (ABC is available in selected areas closer to the border)\\nChina – CCTV and iQIYI\\nJapan – Wowow\\nPakistan – PTV Sports[69]\\nSouth Korea – JTBC\\nSource[70]\\n\\nRecent attendance[edit]\\n\\n2023: 957,387[71]\\n2022: 776,120\\n2021: 631,134[72]\\n2020: 0[e]\\n2019: 737,872\\n2018: 732,663\\n2017: 691,143\\n2016: 688,542\\n2015: 691,280\\n2014: 713,642\\n2013: 713,026\\n2012: 710,803\\n2011: 658,664\\n2010: 712,976\\n2009: 721,059\\n2008: 720,227\\n2007: 715,587\\n2006: 640,000\\n\\nSources: US Open,[73][74] City University of New York (CUNY)[75][76]\\n\\nSee also[edit]\\nPortals: Tennis United States New York City\\nList of US Open singles finalists during the Open Era, records and statistics\\nNotes[edit]\\n\\n\\n^ DecoTurf was used from 1978 to 2019, and Laykold since 2020.\\n\\n^ Except Arthur Ashe Stadium and Louis Armstrong Stadium during rain delays.\\n\\n^ In the main draws, there are 128 singles players (S) and 64 doubles teams (D), and there are 128 and 16 entrants in the respective qualifying (Q) draws.\\n\\n^ Once the chair umpire has announced the score following the previous point, the countdown starts and players have 25 seconds to begin their service motion. However, the chair umpire has the ability and discretion to pause or reset the clock to 25 seconds the clock if a point with a particularly long rally merits a pause for the players to recover their breath. In normal circumstances during the game, if the player has not started the service motion at the completion of the 25-second countdown, the chair umpire issues a time violation. The server will receive a warning and for each subsequent violation, the player loses a first serve (second serves are supposed to happen without delay, so the clock won\\'t be used). In the case of the receiver, if it isn\\'t ready at the end of 25 seconds, the chair umpire first issues a warning, then the loss of a point with every other violation. After even-numbered games, the chair umpire will start the clock when the balls are all in place on the server\\'s end of the court.[34]\\n\\n^ The 2020 US Open was played behind closed doors due to the COVID-19 pandemic in New York.\\n\\n\\nReferences[edit]\\n\\n\\n^ \"2024 US Open prize money will be largest purse in tennis history\". USOpen.org. Archived from the original on August 25, 2024. Retrieved August 26, 2024.\\n\\n^ \"Tiebreak in Tennis\". Tennis Companion. October 29, 2019. Archived from the original on September 1, 2021. Retrieved September 1, 2021.\\n\\n^ Moss, Ben (2015). \"Momentum in US Open men\\'s singles tennis\". International Journal of Performance Analysis in Sport. 15 (3): 884–896. doi:10.1080/24748668.2015.11868838.\\n\\n^ \"National Lawn-Tennis Tournament\" (PDF). The New York Times. July 14, 1881. Archived (PDF) from the original on July 29, 2021. Retrieved July 15, 2012.\\n\\n^ a b c d Bud Collins (2010). The Bud Collins History of Tennis (2nd\\xa0ed.). New York City: New Chapter Press. pp.\\xa010, 452, 454. ISBN\\xa0978-0-942257-70-0.\\n\\n^ \"USTA Locations\". usta.com. Archived from the original on February 27, 2021. Retrieved November 7, 2020.\\n\\n^ a b Bill Shannon (1981). United States Tennis Association Official Encyclopedia of Tennis (Centennial\\xa0ed.). New York City: Harper & Row. pp.\\xa0237–249. ISBN\\xa00-06-014896-9.\\n\\n^ \"How the U.S. Open found its home in New York at Flushing Meadows\". Sports Illustrated. June 24, 2016. Archived from the original on September 1, 2021. Retrieved November 7, 2020.\\n\\n^ \"Championship tennis tournament\". The Chicago Tribune. May 28, 1893. p.\\xa07. Archived from the original on January 7, 2017. Retrieved November 7, 2020.\\n\\n^ \"On courts of turf\". The Chicago Tribune. July 24, 1893. p.\\xa012. Archived from the original on January 7, 2017. Retrieved November 7, 2020.\\n\\n^ \"Tennis notes\" (PDF). The New York Times. July 24, 1893. Archived (PDF) from the original on July 29, 2021.\\n\\n^ \"Tennis Tournament at Newport Again\" (PDF). The New York Times. February 4, 1911. Archived (PDF) from the original on July 29, 2021. Retrieved July 16, 2012.\\n\\n^ \"Newport May Lose Tennis Tourney\" (PDF). The New York Times. January 17, 1915. Archived (PDF) from the original on July 29, 2021. Retrieved July 16, 2012.\\n\\n^ \"Want Newport for Tennis Tourney\" (PDF). The New York Times. January 18, 1915. Archived (PDF) from the original on July 29, 2021. Retrieved July 16, 2012.\\n\\n^ \"A Tennis \"Solar Plexus\"\" (PDF). The New York Times. January 23, 1915. Archived (PDF) from the original on July 29, 2021. Retrieved July 16, 2012.\\n\\n^ \"Tourney Goes to New York\". Boston Evening Transcript. February 6, 1915. Archived from the original on August 17, 2021. Retrieved July 16, 2012.\\n\\n^ \"\\'All-Comers\\' Tourney to be Restricted\" (PDF). The New York Times. February 7, 1915. Archived (PDF) from the original on July 29, 2021. Retrieved July 16, 2012.\\n\\n^ \"Newport Loses Tennis Tourney\" (PDF). The New York Times. February 6, 1915. Archived (PDF) from the original on July 29, 2021. Retrieved July 21, 2012.\\n\\n^ \"SITES OF THE U.S. CHAMPIONSHIPS\" (PDF). usta.com. Archived (PDF) from the original on July 29, 2021. Retrieved November 7, 2020.\\n\\n^ \"Germantown Cricket Club History\". Germantown Cricket Club. Archived from the original on April 3, 2012. Retrieved December 15, 2013.\\n\\n^ Robertson, Max (1974). The Encyclopedia of Tennis. The Viking Press. p.\\xa033. ISBN\\xa00-670-29408-X.\\n\\n^ \"Recommendation is made for the abolition of blind draw in promotion of tennis tourneys\". Newspapers.com. Evening Public Ledger. December 19, 1921. p.\\xa021. Archived from the original on August 17, 2021. Retrieved January 3, 2017.\\n\\n^ E. Digby Baltzell (2013). Sporting Gentlemen: Men\\'s Tennis from the Age of Honor to the Cult of the Superstar. New Brunswick: Transaction Publishers. p.\\xa0182. ISBN\\xa0978-1-4128-5180-0.\\n\\n^ \"New England youths spring net upset\". Minneapolis Morning Tribune. August 22, 1960. p.\\xa018. Archived from the original on March 5, 2021. Retrieved November 7, 2020 – via Newspapers.com. Paul Sullivan and Ned Weld, two youngsters from New England, toppled Antonio Palafox and Joaquin Reyes of Mexico, 6 up, 8-6, 3-6, 1-6, 6-3 Sunday in the only opening day upset of the national doubles tennis championships at Longwood Cricket club.\\n\\n^ \"U.S. Open History\". Tennis.com. Archived from the original on October 20, 2021. Retrieved May 15, 2020.\\n\\n^ Maverick, Vickey (August 27, 2016). \"When the US Open was played on clay…\". Medium. Archived from the original on April 15, 2021. Retrieved May 15, 2020.\\n\\n^ \"Grand Slams – US Open\". International Tennis Federation. Archived from the original on March 27, 2012. Retrieved August 23, 2012.\\n\\n^ Richard Sandomir (August 3, 2006). \"Tennis Center to Be Named for Billie Jean King\". The New York Times. Archived from the original on September 7, 2021. Retrieved February 20, 2017.\\n\\n^ a b \"ATP blasts US Open over Monday final\". ESPN.co.uk. Archived from the original on March 6, 2020. Retrieved August 31, 2015.\\n\\n^ a b \"Traditional US Open scheduling favors Federer\". ESPN.go.com. August 31, 2015. Archived from the original on February 16, 2016. Retrieved August 31, 2015.\\n\\n^ \"Ladies first – women\\'s open final is so hot, they\\'re moving it to prime-time\". New York Post. Archived from the original on August 13, 2020. Retrieved September 12, 2016.\\n\\n^ \"US Open schedules Monday finish\". ESPN.co.uk. Archived from the original on March 5, 2021. Retrieved August 31, 2015.\\n\\n^ \"U.S. Open schedule: How to watch semifinal matches\". Sports Illustrated. Archived from the original on October 29, 2020. Retrieved September 12, 2015.\\n\\n^ \"US Open \\'18: On the clock! 25-second countdown\\'s Slam debut\". AP. August 26, 2018. Archived from the original on November 9, 2020. Retrieved March 29, 2020.\\n\\n^ Marshall, Ashley (July 11, 2018). \"Shot clock, warm-up clock to be implemented at 2018 US Open\". usopen.org. Archived from the original on October 27, 2020. Retrieved March 29, 2020.\\n\\n^ \"USTA, ATP & WTA Implement Rules Innovations At Events Throughout Summer\". atptour.com. July 11, 2018. Archived from the original on October 2, 2021. Retrieved March 29, 2020.\\n\\n^ \"Tennis: ATP to use Shot Clock in all tournaments in 2020\". Reuters. London. March 13, 2019. Archived from the original on November 8, 2020. Retrieved March 29, 2020.\\n\\n^ Jurejko, Jonathan (September 5, 2019). \"US Open 2019: Roger Federer goes out to Grigor Dimitrov\". BBC Sport.\\n\\n^ \"Rafael Nadal beats Daniil Medvedev to win US Open men\\'s final – as it happened\". Guardian. September 8, 2019. Retrieved September 10, 2019.\\n\\n^ \"US Open to be held behind closed doors after New York governor gives go-ahead\". BBC Sport. June 16, 2020. Archived from the original on June 17, 2020. Retrieved June 16, 2020.\\n\\n^ \"After complaints, USTA gives options for US Open wheelchair tournament\". Tennis.com. June 19, 2020. Archived from the original on June 23, 2021. Retrieved September 8, 2020.\\n\\n^ \"USTA Arthur Ashe Stadium\". Rossetti. August 15, 2016. Archived from the original on December 14, 2019. Retrieved August 25, 2018.\\n\\n^ a b c Cindy Shmerler (August 20, 2018). \"What\\'s New, and What\\'s Free, at the 2018 U.S. Open\". The New York Times. Archived from the original on September 7, 2021. Retrieved August 28, 2018.\\n\\n^ a b David W. Dunlap (August 29, 2016). \"How the Roof Was Raised at Arthur Ashe Stadium\". The New York Times. Archived from the original on November 12, 2021. Retrieved August 25, 2018.\\n\\n^ Tim Newcomb (August 8, 2018). \"Finishing Touches at U.S. Open\\'s Home\". VenuesNow. Archived from the original on September 10, 2021. Retrieved August 28, 2018.\\n\\n^ a b c Howard Beck (September 4, 2011). \"A Tiny New Stage for High-Energy Tennis\". The New York Times. Archived from the original on January 15, 2020. Retrieved August 25, 2018.\\n\\n^ Robson, Douglas. \"New show court draws a crowd, quietly\" Archived March 4, 2016, at the Wayback Machine USA Today (August 29, 2011)\\n\\n^ \"USTA Tennis Championships Magazine: 2018 US Open Edition\". United States Tennis Association. p.\\xa026. Archived from the original on October 27, 2020. Retrieved August 28, 2018.\\n\\n^ \"About Court Pace Classification\". International Tennis Federation. Archived from the original on January 21, 2021. Retrieved August 25, 2018.\\n\\n^ Thomas Lin (September 7, 2011). \"Speed Bumps on a Hardcourt\". The New York Times. Archived from the original on July 2, 2021. Retrieved August 25, 2018.\\n\\n^ \"US Open Changing Hard-Court Brand for First Time since 1970S\". tennis.com. Associated Press. March 23, 2020. Archived from the original on January 27, 2021. Retrieved July 25, 2020.\\n\\n^ a b Tim Newcomb (August 24, 2015). \"The science behind creating the U.S. Open courts and signature colors\". Sports Illustrated. Archived from the original on November 11, 2020. Retrieved December 10, 2017.\\n\\n^ Williams, Daniel (January 11, 2007). \"Australian Open Preview\". TIME. Time Warner. Archived from the original on August 11, 2016. Retrieved March 1, 2021. As seen at last year\\'s U.S. Open and numerous events since, this is the best innovation in tennis since yellow balls.\\n\\n^ Chris Broussard (September 9, 2004). \"Williams Receives Apology, and Umpire\\'s Open Is Over\". The New York Times. Archived from the original on May 25, 2021. Retrieved February 20, 2017.\\n\\n^ \"US Open 2021: \\'Hawk-Eye Live\\' replaces line judge as technology takes over US Open; officials reduced from 400 to 130\". InsideSport. September 6, 2021. Archived from the original on September 7, 2021. Retrieved September 8, 2021.\\n\\n^ \"Chase signs mega renewal with Open\". Archived from the original on February 13, 2021. Retrieved September 9, 2016.\\n\\n^ a b \"2023 US Open Prize Money\". United States Tennis Association. Archived from the original on August 8, 2018. Retrieved August 18, 2023.\\n\\n^ \"US Open makes long-term commitment to the game\". United States Tennis Association. Archived from the original on September 10, 2021. Retrieved June 25, 2013.\\n\\n^ \"2014 US Open Prize Money\". 2014.usopen.org. United States Tennis Association. Archived from the original on August 26, 2015.\\n\\n^ \"Game, set, cash: US Open prize money upped to 42.3 million dollars\". Dpa International. July 14, 2015. Archived from the original on July 16, 2015.\\n\\n^ \"2021 US Open offers record prize money, $57.5 million in total player compensation\". US Open. August 23, 2021. Archived from the original on August 25, 2021. Retrieved September 11, 2021.\\n\\n^ US Open Prize Money 2023, 2023, archived from the original on May 30, 2023, retrieved August 18, 2023\\n\\n^ a b c d \"Youngest and oldest champions\". United States Tennis Association. Archived from the original on October 18, 2017. Retrieved October 17, 2017.\\n\\n^ Sandomir, Richard (May 16, 2013). \"ESPN to Gain Full Rights to U.S. Open in 2015\". The New York Times. Archived from the original on August 26, 2018. Retrieved August 25, 2018.\\n\\n^ \"International TV Schedule\". United States Tennis Association. Archived from the original on September 6, 2023. Retrieved August 30, 2018.\\n\\n^ \"Home of Grand Slam Tennis: beIN SPORTS and USTA Extend US Open Broadcast Partnership for Five More Years - beIN EN\". September 3, 2023. Archived from the original on January 5, 2024. Retrieved January 5, 2024.\\n\\n^ \"Sky Sports taking back U.S. Open rights in U.K.\" Sports Business Journal. April 1, 2022. Archived from the original on April 19, 2022. Retrieved April 19, 2022.\\n\\n^ \"The US Open on Sky Sports: How and where to watch the final Grand Slam of the year at Flushing Meadows\". Sky Sports. Archived from the original on January 5, 2024. Retrieved January 5, 2024.\\n\\n^ \"The Final Grand Slam of 2021 LIVE on PTV Sports\". Twitter.com. August 30, 2021. Archived from the original on August 30, 2021. Retrieved August 31, 2021.\\n\\n^ International TV Schedule Archived September 6, 2023, at the Wayback Machine Retrieved September 16, 2021.\\n\\n^ \"2023 US Open sets all-time Grand Slam attendance record\". usopen.org. September 10, 2023. Archived from the original on September 29, 2023. Retrieved December 23, 2023.\\n\\n^ \"2021 US Open Finals, By the Numbers\". usopen.org. September 12, 2021. Archived from the original on September 14, 2021. Retrieved September 29, 2021.\\n\\n^ \"US Open History – Year-by-Year\". United States Tennis Association (USTA). Archived from the original on September 8, 2014. Retrieved February 5, 2015.\\n\\n^ \"2019 US Open, by the numbers\". US Open. September 8, 2019. Archived from the original on September 25, 2019. Retrieved October 6, 2019.\\n\\n^ \"U.S. Open Tennis – Total Attendance (By Year)\". www.baruch.cuny.edu. City University of New York. Archived from the original on February 6, 2015. Retrieved February 5, 2015.\\n\\n^ \"U.S. Open Attendance Up From \\'16; USTA Earns Roughly $125M In Ticket Revenue\". www.sportsbusinessdaily.com. September 12, 2017. Archived from the original on February 13, 2021. Retrieved May 12, 2019.\\n\\n\\nExternal links[edit]\\n Media related to US Open (tennis) at Wikimedia Commons\\nOfficial website\\n\\n\\nPreceded\\xa0byWimbledon\\n\\n Grand Slam Tournament August–September\\n\\nSucceeded\\xa0byAustralian Open\\n\\n\\nPreceded\\xa0byNew Haven\\n\\n US Open Series July–September\\n\\nSucceeded\\xa0byNone\\n\\n\\nvteUS Open\\nMen\\'s singles\\nWomen\\'s singles\\nMen\\'s doubles\\nWomen\\'s doubles\\nMixed doubles\\nAmateur Era\\n1881\\n1882\\n1883\\n1884\\n1885\\n1886\\n1887\\n1888\\n1889\\n1890\\n1891\\n1892\\n1893\\n1894\\n1895\\n1896\\n1897\\n1898\\n1899\\n1900\\n1901\\n1902\\n1903\\n1904\\n1905\\n1906\\n1907\\n1908\\n1909\\n1910\\n1911\\n1912\\n1913\\n1914\\n1915\\n1916\\n1917\\n1918\\n1919\\n1920\\n1921\\n1922\\n1923\\n1924\\n1925\\n1926\\n1927\\n1928\\n1929\\n1930\\n1931\\n1932\\n1933\\n1934\\n1935\\n1936\\n1937\\n1938\\n1939\\n1940\\n1941\\n1942\\n1943\\n1944\\n1945\\n1946\\n1947\\n1948\\n1949\\n1950\\n1951\\n1952\\n1953\\n1954\\n1955\\n1956\\n1957\\n1958\\n1959\\n1960\\n1961\\n1962\\n1963\\n1964\\n1965\\n1966\\n1967\\nOpen Era\\n1968\\n1969\\n1970\\n1971\\n1972\\n1973\\n1974\\n1975\\n1976\\n1977\\n1978\\n1979\\n1980\\n1981\\n1982\\n1983\\n1984\\n1985\\n1986\\n1987\\n1988\\n1989\\n1990\\n1991\\n1992\\n1993\\n1994\\n1995\\n1996\\n1997\\n1998\\n1999\\n2000\\n2001\\n2002\\n2003\\n2004\\n2005\\n2006\\n2007\\n2008\\n2009\\n2010\\n2011\\n2012\\n2013\\n2014\\n2015\\n2016\\n2017\\n2018\\n2019\\n2020\\n2021\\n2022\\n2023\\n2024\\n\\nOpen Era finalists\\n\\nvteMajor tennis tournamentsGrand Slam\\nAustralian Open\\nFrench Open\\nWimbledon\\nUS Open\\nFormer\\nProfessional\\nU.S.\\nFrench\\nWembley\\nILTF amateur\\nHard Court\\nGrass Court\\nCovered Court\\n\\nvteGrand Slam tournament champions\\nGrand Slam overall records\\nAustralian Open\\nMen\\'s singles\\nWomen\\'s singles\\nMen\\'s doubles\\nWomen\\'s doubles\\nMixed doubles\\nAll disciplines\\nFrench Open\\nMen\\'s singles\\nWomen\\'s singles\\nMen\\'s doubles\\nWomen\\'s doubles\\nMixed doubles\\nAll disciplines\\nWimbledon\\nMen\\'s singles\\nWomen\\'s singles\\nMen\\'s doubles\\nWomen\\'s doubles\\nMixed doubles\\nAll disciplines\\nUS Open\\nMen\\'s singles\\nWomen\\'s singles\\nMen\\'s doubles\\nWomen\\'s doubles\\nMixed doubles\\nAll disciplines\\nAll tournaments\\nMen\\'s singles\\nWomen\\'s singles\\nMen\\'s doubles\\nWomen\\'s doubles\\nMixed doubles\\nBoys\\' singles\\nGirls\\' singles\\nBoys\\' doubles\\nGirls\\' doubles\\nWheelchair men\\'s\\nWheelchair women\\'s\\nWheelchair quad\\n\\nMen\\'s singles finals\\nWomen\\'s singles finals\\nOpen Era singles finalists\\nAustralian Open\\nFrench Open\\nWimbledon\\nUS Open\\n\\nArticles and topics related to US Open (tennis)\\nvteUS Open men\\'s singles drawsheetsPre-Open Era\\n1881\\n1882\\n1883\\n1884\\n1885\\n1886\\n1887\\n1888\\n1889\\n1890\\n1891\\n1892\\n1893\\n1894\\n1895\\n1896\\n1897\\n1898\\n1899\\n1900\\n1901\\n1902\\n1903\\n1904\\n1905\\n1906\\n1907\\n1908\\n1909\\n1910\\n1911\\n1912\\n1913\\n1914\\n1915\\n1916\\n1917\\n1918\\n1919\\n1920\\n1921\\n1922\\n1923\\n1924\\n1925\\n1926\\n1927\\n1928\\n1929\\n1930\\n1931\\n1932\\n1933\\n1934\\n1935\\n1936\\n1937\\n1938\\n1939\\n1940\\n1941\\n1942\\n1943\\n1944\\n1945\\n1946\\n1947\\n1948\\n1949\\n1950\\n1951\\n1952\\n1953\\n1954\\n1955\\n1956\\n1957\\n1958\\n1959\\n1960\\n1961\\n1962\\n1963\\n1964\\n1965\\n1966\\n1967\\nOpen Era\\n1968\\n1969\\n1970\\n1971\\n1972\\n1973\\n1974\\n1975\\n1976\\n1977\\n1978\\n1979\\n1980\\n1981\\n1982\\n1983\\n1984\\n1985\\n1986\\n1987\\n1988\\n1989\\n1990\\n1991\\n1992\\n1993\\n1994\\n1995\\n1996\\n1997\\n1998\\n1999\\n2000\\n2001\\n2002\\n2003\\n2004\\n2005\\n2006\\n2007\\n2008\\n2009\\n2010\\n2011\\n2012\\n2013\\n2014\\n2015\\n2016\\n2017\\n2018\\n2019\\n2020\\n2021\\n2022\\n2023\\n2024\\n\\nvteUS Open men\\'s doubles drawsheetsPre Open Era\\n1881\\n1882\\n1883\\n1884\\n1885\\n1886\\n1887\\n1888\\n1889\\n1890\\n1891\\n1892\\n1893\\n1894\\n1895\\n1896\\n1897\\n1898\\n1899\\n1900\\n1901\\n1902\\n1903\\n1904\\n1905\\n1906\\n1907\\n1908\\n1909\\n1910\\n1911\\n1912\\n1913\\n1914\\n1915\\n1916\\n1917\\n1918\\n1919\\n1920\\n1921\\n1922\\n1923\\n1924\\n1925\\n1926\\n1927\\n1928\\n1929\\n1930\\n1931\\n1932\\n1933\\n1934\\n1935\\n1936\\n1937\\n1938\\n1939\\n1940\\n1941\\n1942\\n1943\\n1944\\n1945\\n1946\\n1947\\n1948\\n1949\\n1950\\n1951\\n1952\\n1953\\n1954\\n1955\\n1956\\n1957\\n1958\\n1959\\n1960\\n1961\\n1962\\n1963\\n1964\\n1965\\n1966\\n1967\\nOpen Era\\n1968\\n1969\\n1970\\n1971\\n1972\\n1973\\n1974\\n1975\\n1976\\n1977\\n1978\\n1979\\n1980\\n1981\\n1982\\n1983\\n1984\\n1985\\n1986\\n1987\\n1988\\n1989\\n1990\\n1991\\n1992\\n1993\\n1994\\n1995\\n1996\\n1997\\n1998\\n1999\\n2000\\n2001\\n2002\\n2003\\n2004\\n2005\\n2006\\n2007\\n2008\\n2009\\n2010\\n2011\\n2012\\n2013\\n2014\\n2015\\n2016\\n2017\\n2018\\n2019\\n2020\\n2021\\n2022\\n2023\\n2024\\n\\nvteUS Open women\\'s singles drawsheetsPre Open Era\\n1887\\n1888\\n1889\\n1890\\n1891\\n1892\\n1893\\n1894\\n1895\\n1896\\n1897\\n1898\\n1899\\n1900\\n1901\\n1902\\n1903\\n1904\\n1905\\n1906\\n1907\\n1908\\n1909\\n1910\\n1911\\n1912\\n1913\\n1914\\n1915\\n1916\\n1917\\n1918\\n1919\\n1920\\n1921\\n1922\\n1923\\n1924\\n1925\\n1926\\n1927\\n1928\\n1929\\n1930\\n1931\\n1932\\n1933\\n1934\\n1935\\n1936\\n1937\\n1938\\n1939\\n1940\\n1941\\n1942\\n1943\\n1944\\n1945\\n1946\\n1947\\n1948\\n1949\\n1950\\n1951\\n1952\\n1953\\n1954\\n1955\\n1956\\n1957\\n1958\\n1959\\n1960\\n1961\\n1962\\n1963\\n1964\\n1965\\n1966\\n1967\\nOpen Era\\n1968\\n1969\\n1970\\n1971\\n1972\\n1973\\n1974\\n1975\\n1976\\n1977\\n1978\\n1979\\n1980\\n1981\\n1982\\n1983\\n1984\\n1985\\n1986\\n1987\\n1988\\n1989\\n1990\\n1991\\n1992\\n1993\\n1994\\n1995\\n1996\\n1997\\n1998\\n1999\\n2000\\n2001\\n2002\\n2003\\n2004\\n2005\\n2006\\n2007\\n2008\\n2009\\n2010\\n2011\\n2012\\n2013\\n2014\\n2015\\n2016\\n2017\\n2018\\n2019\\n2020\\n2021\\n2022\\n2023\\n2024\\n\\nvteUS Open women\\'s doubles drawsheetsPre Open Era\\n1889\\n1890\\n1891\\n1892\\n1893\\n1894\\n1895\\n1896\\n1897\\n1898\\n1899\\n1900\\n1901\\n1902\\n1903\\n1904\\n1905\\n1906\\n1907\\n1908\\n1909\\n1910\\n1911\\n1912\\n1913\\n1914\\n1915\\n1916\\n1917\\n1918\\n1919\\n1920\\n1921\\n1922\\n1923\\n1924\\n1925\\n1926\\n1927\\n1928\\n1929\\n1930\\n1931\\n1932\\n1933\\n1934\\n1935\\n1936\\n1937\\n1938\\n1939\\n1940\\n1941\\n1942\\n1943\\n1944\\n1945\\n1946\\n1947\\n1948\\n1949\\n1950\\n1951\\n1952\\n1953\\n1954\\n1955\\n1956\\n1957\\n1958\\n1959\\n1960\\n1961\\n1962\\n1963\\n1964\\n1965\\n1966\\n1967\\nOpen Era\\n1968\\n1969\\n1970\\n1971\\n1972\\n1973\\n1974\\n1975\\n1976\\n1977\\n1978\\n1979\\n1980\\n1981\\n1982\\n1983\\n1984\\n1985\\n1986\\n1987\\n1988\\n1989\\n1990\\n1991\\n1992\\n1993\\n1994\\n1995\\n1996\\n1997\\n1998\\n1999\\n2000\\n2001\\n2002\\n2003\\n2004\\n2005\\n2006\\n2007\\n2008\\n2009\\n2010\\n2011\\n2012\\n2013\\n2014\\n2015\\n2016\\n2017\\n2018\\n2019\\n2020\\n2021\\n2022\\n2023\\n2024\\n\\nvteTennis\\nHistory\\nGlossary\\nMatch types\\nPlayers\\nRankings\\nStatistics\\nUmpires\\nStadiums\\nBasicsGeneral\\nScoring system\\npoint\\nStrategy\\ngrips\\nserve-and-volley\\nEquipment\\nball\\nracket\\nstrings\\nOfficial\\nTechnology\\nelectronic line judge\\nHawk-Eye\\nControversies\\nCode violations\\nDoping\\nMatch fixing\\nGrunting\\nCourts\\nHard\\nClay\\nGrass\\nCarpet\\nWood\\nShots\\nBackhand\\nBackspin\\nDrop shot\\nFlat\\nForehand\\nGroundstroke\\nHalf volley\\nLob\\nPassing shot\\nServe\\nace\\ndouble fault\\nSmash\\nTopspin\\nVolley\\nGrand SlamsEvents\\nAustralian Open\\nFrench Open\\nWimbledon\\nUS Open\\nStatistics\\nChampions\\nSingles finals\\nRecords\\nProfessionaltoursMen\\nATP rankings\\nATP Tour\\n1000\\n500\\n250\\nFinals\\nATP Challenger Tour\\nITF Men\\'s World Tennis Tour\\nWomen\\nWTA rankings\\nWTA Tour\\n1000\\n500\\n250\\nFinals\\nWTA 125 series\\nITF Women\\'s World Tennis Tour\\nTeam tennistournamentsActive\\nDavis Cup\\nBillie Jean King Cup\\nUnited Cup\\nLaver Cup\\nHopman Cup\\nDefunct\\nWightman Cup\\nWorld Team Cup\\nChampions Tennis League\\nInternational Premier Tennis League\\nWorld TeamTennis\\nATP Cup\\nMulti-sporteventsIntercontinental\\nOlympics\\nParalympics\\nYouth Olympics\\nUniversiade\\nCommonwealth\\nIsland\\nMediterranean\\nContinental\\nAfrican\\nAsian\\nSoutheast Asian\\nPacific\\nPan American\\nSouth American\\nGoverning bodies\\nAssociation of Tennis Professionals\\nWomen\\'s Tennis Association\\nInternational Tennis Federation\\n\\n Tennis portal\\n Outline\\n WikiCommons\\n\\nvteUS Open Series tournamentsATP Tour\\nNewport (2021-23)\\nAtlanta/Indianapolis (2004-23)\\nLos Angeles (2004-12)\\nWashington, D.C. (2004-14, 2019-23)\\nToronto / Montreal (2004-21)\\nCincinnati (2004-22)\\nNew Haven (2005-10)\\nWinston-Salem (2011-23)\\nNew York\\nWTA Tour\\nSan Jose/Stanford (2004-22)\\nSan Diego/Carlsbad (2004-07, 2010-13)\\nLos Angeles (2004-09)\\nWashington, D.C. (2012, 2023)\\nCincinnati (2009-22)\\nToronto / Montreal (2004-21)\\nNew Haven (2009-18)\\nCleveland (2021-23)\\nNew York\\n\\nAuthority control databases InternationalVIAFNationalUnited States\\n\\n\\n\\n\\nRetrieved from \"https://en.wikipedia.org/w/index.php?title=US_Open_(tennis)&oldid=1283685668\"\\nCategories: US Open (tennis)1881 establishments in Rhode IslandAnnual sporting events in the United StatesGrand Slam (tennis) tournamentsHard court tennis tournaments in the United StatesMajor tennis tournamentsNational championships in the United StatesRecurring sporting events established in 1881Tennis tournaments in New York CityUS Open SeriesNational and multi-national tennis tournamentsHidden categories: Webarchive template wayback linksArticles with short descriptionShort description is different from WikidataUse American English from August 2022All Wikipedia articles written in American EnglishUse mdy dates from July 2023All articles with unsourced statementsArticles with unsourced statements from August 2018Commons category link is on Wikidata\\n\\n\\n\\n\\n\\n\\n This page was last edited on 3 April 2025, at 01:42\\xa0(UTC).\\nText is available under the Creative Commons Attribution-ShareAlike 4.0 License;\\nadditional terms may apply. By using this site, you agree to the Terms of Use and Privacy Policy. Wikipedia® is a registered trademark of the Wikimedia Foundation, Inc., a non-profit organization.\\n\\n\\nPrivacy policy\\nAbout Wikipedia\\nDisclaimers\\nContact Wikipedia\\nCode of Conduct\\nDevelopers\\nStatistics\\nCookie statement\\nMobile view\\n\\n\\n\\n\\n\\n\\n\\n\\n\\n\\n\\n\\n\\n\\nSearch\\n\\n\\n\\n\\n\\n\\n\\n\\n\\n\\n\\n\\n\\nSearch\\n\\n\\n\\n\\n\\n\\n\\n\\n\\nToggle the table of contents\\n\\n\\n\\n\\n\\n\\n\\nUS Open (tennis)\\n\\n\\n\\n\\n\\n\\n\\n\\n\\n\\n\\n\\n\\n\\n\\n\\n\\n\\n\\n\\n\\n\\n\\n\\n\\n\\n\\n\\n74 languages\\n\\n\\nAdd topic\\n\\n\\n\\n\\n\\n\\n\\n\\n\\n\\n\\n\\n\\n\\n\\n\\n')"
      ]
     },
     "execution_count": 12,
     "metadata": {},
     "output_type": "execute_result"
    }
   ],
   "source": [
    "# Load the documents using Langchain's WebBaseLoader for the URLs and print a sample document to see how it loaded\n",
    "\n",
    "docs = [WebBaseLoader(url).load() for url in urls]\n",
    "docs_list = [item for sublist in docs for item in sublist]\n",
    "docs_list[4]"
   ]
  },
  {
   "cell_type": "code",
   "execution_count": 13,
   "id": "91ca36e0",
   "metadata": {},
   "outputs": [],
   "source": [
    "#split the data in these documents into smaller chunks that can be processed by the LLM\n",
    "\n",
    "text_splitter = RecursiveCharacterTextSplitter.from_tiktoken_encoder(\n",
    "    chunk_size=250, chunk_overlap=0\n",
    ")\n",
    "doc_splits = text_splitter.split_documents(docs_list)"
   ]
  },
  {
   "cell_type": "code",
   "execution_count": 14,
   "id": "d1baafa6",
   "metadata": {},
   "outputs": [],
   "source": [
    "#intialize embedding model\n",
    "\n",
    "embeddings = WatsonxEmbeddings(\n",
    "    model_id=EmbeddingTypes.IBM_SLATE_30M_ENG.value,\n",
    "    url=credentials[\"url\"],\n",
    "    apikey=credentials[\"apikey\"],\n",
    "    project_id=credentials[\"project_id\"],\n",
    ")"
   ]
  },
  {
   "cell_type": "code",
   "execution_count": 15,
   "id": "6f2d7764",
   "metadata": {},
   "outputs": [],
   "source": [
    "# set up a vector store the documents and index them\n",
    "\n",
    "vectorstore = Chroma.from_documents(\n",
    "    documents=doc_splits,\n",
    "    collection_name=\"agentic-rag-chroma\",\n",
    "    embedding=embeddings,\n",
    ")"
   ]
  },
  {
   "cell_type": "code",
   "execution_count": 16,
   "id": "620f9260",
   "metadata": {},
   "outputs": [],
   "source": [
    "# set up a retriever to get the documents from the vector store\n",
    "\n",
    "retriever = vectorstore.as_retriever()\n"
   ]
  },
  {
   "cell_type": "code",
   "execution_count": 17,
   "id": "ffb32a5b",
   "metadata": {},
   "outputs": [],
   "source": [
    "# define a \"tool\" that the AI agent can use to get information from the vector store\n",
    "# this is similar to a function that takes in a question and returns the answer\n",
    "# the tool will use the retriever to get the relevant documents and then pass them to the LLM for processing\n",
    "\n",
    "@tool\n",
    "def get_IBM_US_Open_context(question: str):\n",
    "    \"\"\"Get context about IBM's involvement in the 2024 US Open Tennis Championship.\"\"\"\n",
    "    context = retriever.invoke(question)\n",
    "    return context\n",
    "\n",
    "\n",
    "tools = [get_IBM_US_Open_context] # list of tools that the agent can use"
   ]
  },
  {
   "cell_type": "code",
   "execution_count": 18,
   "id": "b5f0b4d5",
   "metadata": {},
   "outputs": [],
   "source": [
    "# set up system prompt for the agent (print its thought process, the tools that were used, and the final answer)\n",
    "\n",
    "system_prompt = \"\"\"Respond to the human as helpfully and accurately as possible. You have access to the following tools: {tools}\n",
    "Use a json blob to specify a tool by providing an action key (tool name) and an action_input key (tool input).\n",
    "Valid \"action\" values: \"Final Answer\" or {tool_names}\n",
    "Provide only ONE action per $JSON_BLOB, as shown:\"\n",
    "```\n",
    "{{\n",
    "  \"action\": $TOOL_NAME,\n",
    "  \"action_input\": $INPUT\n",
    "}}\n",
    "```\n",
    "Follow this format:\n",
    "Question: input question to answer\n",
    "Thought: consider previous and subsequent steps\n",
    "Action:\n",
    "```\n",
    "$JSON_BLOB\n",
    "```\n",
    "Observation: action result\n",
    "... (repeat Thought/Action/Observation N times)\n",
    "Thought: I know what to respond\n",
    "Action:\n",
    "```\n",
    "{{\n",
    "  \"action\": \"Final Answer\",\n",
    "  \"action_input\": \"Final response to human\"\n",
    "}}\n",
    "Begin! Reminder to ALWAYS respond with a valid json blob of a single action.\n",
    "Respond directly if appropriate. Format is Action:```$JSON_BLOB```then Observation\"\"\""
   ]
  },
  {
   "cell_type": "code",
   "execution_count": 19,
   "id": "00ba8fb5",
   "metadata": {},
   "outputs": [],
   "source": [
    "# establish the human prompt (print the user input followed by the intermediate steps of the agent as part of the agent's \"scratchpad\")\n",
    "\n",
    "human_prompt = \"\"\"{input}\n",
    "{agent_scratchpad}\n",
    "(reminder to always respond in a JSON blob)\"\"\""
   ]
  },
  {
   "cell_type": "code",
   "execution_count": 20,
   "id": "84b0dd95",
   "metadata": {},
   "outputs": [],
   "source": [
    "# establish the order of our newly defined prompts in the prompt template\n",
    "\n",
    "prompt = ChatPromptTemplate.from_messages(\n",
    "    [\n",
    "        (\"system\", system_prompt),\n",
    "        MessagesPlaceholder(\"chat_history\", optional=True),\n",
    "        (\"human\", human_prompt),\n",
    "    ]\n",
    ")"
   ]
  },
  {
   "cell_type": "code",
   "execution_count": 21,
   "id": "0e945808",
   "metadata": {},
   "outputs": [],
   "source": [
    "#finalize our prompt template by adding the tool names, descriptions, and arguments using a partial prompt template\n",
    "# So instead of needing to pass these values (tools and tool_names) every time you use the prompt, you partially apply them once using the `partial` method.\n",
    "# This way, every time you use the prompt, it will automatically include the tool names and descriptions.\n",
    "\n",
    "prompt = prompt.partial(\n",
    "    tools=render_text_description_and_args(list(tools)),\n",
    "    tool_names=\", \".join([t.name for t in tools]),\n",
    ")"
   ]
  },
  {
   "cell_type": "code",
   "execution_count": 22,
   "id": "3723ed73",
   "metadata": {},
   "outputs": [
    {
     "name": "stderr",
     "output_type": "stream",
     "text": [
      "C:\\Users\\youyo\\AppData\\Local\\Temp\\ipykernel_9368\\1271133669.py:3: LangChainDeprecationWarning: Please see the migration guide at: https://python.langchain.com/docs/versions/migrating_memory/\n",
      "  memory = ConversationBufferMemory()\n"
     ]
    }
   ],
   "source": [
    "# Set up agent memory to store past conversation history and context to help the agent remember what has been discussed in the past and improve its responses\n",
    "\n",
    "memory = ConversationBufferMemory()\n"
   ]
  },
  {
   "cell_type": "code",
   "execution_count": 23,
   "id": "97f6118c",
   "metadata": {},
   "outputs": [],
   "source": [
    "# set up agent chain (scratchpad to format the log of the agent's thought process and actions taken, memory, prompt, and LLM)\n",
    "\n",
    "chain = (\n",
    "    RunnablePassthrough.assign(\n",
    "        agent_scratchpad=lambda x: format_log_to_str(x[\"intermediate_steps\"]),\n",
    "        chat_history=lambda x: memory.chat_memory.messages,\n",
    "    )\n",
    "    | prompt\n",
    "    | llm\n",
    "    | JSONAgentOutputParser()\n",
    ")\n",
    "\n",
    "agent_executor = AgentExecutor(\n",
    "    agent=chain, tools=tools, handle_parsing_errors=True, verbose=True, memory=memory\n",
    ")"
   ]
  },
  {
   "cell_type": "code",
   "execution_count": 24,
   "id": "44e8f20f",
   "metadata": {},
   "outputs": [
    {
     "name": "stdout",
     "output_type": "stream",
     "text": [
      "\n",
      "\n",
      "\u001b[1m> Entering new AgentExecutor chain...\u001b[0m\n",
      "\u001b[32;1m\u001b[1;3m\n",
      "\n",
      "Question: Where was the 2024 US Open Tennis Championship?\n",
      "Thought: I don't have the context about the location of the 2024 US Open Tennis Championship. I need to use the get_IBM_US_Open_context tool to find out.\n",
      "Action:\n",
      "```\n",
      "{\n",
      "  \"action\": \"get_IBM_US_Open_context\",\n",
      "  \"action_input\": \"Where was the 2024 US Open Tennis Championship?\"\n",
      "}\n",
      "```\n",
      "Observation\u001b[0m\u001b[36;1m\u001b[1;3m[Document(metadata={'title': 'US Open (tennis) - Wikipedia', 'language': 'en', 'source': 'https://en.wikipedia.org/wiki/US_Open_(tennis)'}, page_content=\"Australian Open\\nFrench Open\\nWimbledon\\nUS Open\\nLast completed2024 US Open\\nThe US Open Tennis Championships, commonly called the US Open, is a hardcourt tennis tournament organized by the United States Tennis Association annually in Queens, New York City. It is chronologically the fourth and final of the four Grand Slam tennis events, held after the Australian Open, French Open, and Wimbledon.\\nThe US Open starts on the last Monday of August and continues for two weeks, with the middle weekend coinciding with the United States Labor Day holiday. All players participating must be at least fourteen years old.\\nThe tournament is one of the oldest tennis championships in the world, originally known as the U.S. National Championships, for which men's singles and men's doubles were first played in August 1881. It is the only Grand Slam that was not affected by cancellation due to World War I and World War II, nor interrupted by the COVID-19 pandemic in 2020.\"), Document(metadata={'title': 'US Open (tennis) - Wikipedia', 'language': 'en', 'source': 'https://en.wikipedia.org/wiki/US_Open_(tennis)'}, page_content=\"US OpenOfficial websiteFounded1881, 143\\xa0years agoEditions144 (2024)LocationNew York CityUnited StatesVenueUSTA Billie Jean King National Tennis Center (since 1978)SurfaceHard – outdoors[a][b] (since 1978)Clay – outdoors (1975–1977)Grass – outdoors (1881–1974)Prize moneyUS$75,000,000 (2024)[1]Men'sDrawS (128Q) / 64D (16Q)[c]Current championsJannik Sinner (singles)Max Purcell  Jordan Thompson (doubles)Most singles titles7Bill TildenMost doubles titles6Mike BryanWomen'sDrawS (128Q) / 64D (16Q)Current championsAryna Sabalenka (singles)Lyudmyla Kichenok  Jeļena Ostapenko  (doubles)Most singles titles8Molla MalloryMost doubles titles13Margaret Osborne duPontMixed doublesDraw32Current championsSara Errani Andrea VavassoriMost titles (male)4Bill TildenBill TalbertBob BryanMost titles (female)9 Margaret Osborne\"), Document(metadata={'title': 'US Open (tennis) - Wikipedia', 'language': 'en', 'source': 'https://en.wikipedia.org/wiki/US_Open_(tennis)'}, page_content='Since 1978: USTA National Tennis Center[edit]\\nArthur Ashe stadium in 2010, before the retractable roof was added.\\nIn 1978, the tournament moved from the West Side Tennis Club to the larger and newly constructed USTA National Tennis Center in Flushing Meadows, Queens, 3 miles (4.8\\xa0km) to the north. The tournament\\'s court surface also switched from clay to hardcourt. Jimmy Connors is the only individual to have won US Open singles titles on all three surfaces (grass, clay, and hardcourt), while Chris Evert is the only woman to have won US Open singles titles on two surfaces (clay and hardcourt).[5]\\nThe US Open is the only Grand Slam tournament that has been played every year since its inception.[27]\\nIn 2005 the US Open added Wheelchair singles and Wheelchair doubles tournament, while in 2006 the US Open added the Quad singles and Quad doubles tournament. During the 2006 US Open, the complex was renamed to \"USTA Billie Jean King National Tennis Center\" in honor of Billie Jean King, a four-time US Open singles champion and one of women\\'s tennis\\'s early pioneers.[28]'), Document(metadata={'source': 'https://en.wikipedia.org/wiki/US_Open_(tennis)', 'title': 'US Open (tennis) - Wikipedia', 'language': 'en'}, page_content='^ US Open Prize Money 2023, 2023, archived from the original on May 30, 2023, retrieved August 18, 2023\\n\\n^ a b c d \"Youngest and oldest champions\". United States Tennis Association. Archived from the original on October 18, 2017. Retrieved October 17, 2017.\\n\\n^ Sandomir, Richard (May 16, 2013). \"ESPN to Gain Full Rights to U.S. Open in 2015\". The New York Times. Archived from the original on August 26, 2018. Retrieved August 25, 2018.\\n\\n^ \"International TV Schedule\". United States Tennis Association. Archived from the original on September 6, 2023. Retrieved August 30, 2018.\\n\\n^ \"Home of Grand Slam Tennis: beIN SPORTS and USTA Extend US Open Broadcast Partnership for Five More Years - beIN EN\". September 3, 2023. Archived from the original on January 5, 2024. Retrieved January 5, 2024.\\n\\n^ \"Sky Sports taking back U.S. Open rights in U.K.\" Sports Business Journal. April 1, 2022. Archived from the original on April 19, 2022. Retrieved April 19, 2022.')]\u001b[0m\u001b[32;1m\u001b[1;3m\n",
      "\n",
      "Action:\n",
      "```\n",
      "{\n",
      "  \"action\": \"Final Answer\",\n",
      "  \"action_input\": \"The 2024 US Open Tennis Championship was held in New York City, specifically at the USTA Billie Jean King National Tennis Center in Flushing Meadows, Queens.\"\n",
      "}\n",
      "```\u001b[0m\n",
      "\n",
      "\u001b[1m> Finished chain.\u001b[0m\n"
     ]
    },
    {
     "data": {
      "text/plain": [
       "{'input': 'Where was the 2024 US Open Tennis Championship?',\n",
       " 'history': '',\n",
       " 'output': 'The 2024 US Open Tennis Championship was held in New York City, specifically at the USTA Billie Jean King National Tennis Center in Flushing Meadows, Queens.'}"
      ]
     },
     "execution_count": 24,
     "metadata": {},
     "output_type": "execute_result"
    }
   ],
   "source": [
    "agent_executor.invoke({\"input\": \"Where was the 2024 US Open Tennis Championship?\"})\n"
   ]
  },
  {
   "cell_type": "code",
   "execution_count": 25,
   "id": "4b25edf6",
   "metadata": {},
   "outputs": [
    {
     "name": "stdout",
     "output_type": "stream",
     "text": [
      "\n",
      "\n",
      "\u001b[1m> Entering new AgentExecutor chain...\u001b[0m\n",
      "\u001b[32;1m\u001b[1;3m\n",
      "\n",
      "Action:\n",
      "```\n",
      "{\n",
      "  \"action\": \"get_IBM_US_Open_context\",\n",
      "  \"action_input\": \"How did IBM use watsonx at the 2024 US Open Tennis Championship?\"\n",
      "}\n",
      "```\n",
      "Observation\u001b[0m\u001b[36;1m\u001b[1;3m[Document(metadata={'source': 'https://www.ibm.com/case-studies/us-open', 'title': 'U.S. Open | IBM', 'language': 'en', 'description': 'To help the US Open stay on the cutting edge of customer experience, IBM Consulting built powerful generative AI models with watsonx.'}, page_content=\"The US Open is a sprawling, two-week tournament, with hundreds of matches played on 22 different courts. Keeping up with all the action is a challenge, both for tennis fans and the USTA editorial team covering the event. So, the USTA asked IBM to design, develop, and deliver solutions that enhance the digital experience and help its team serve up more content, covering more matches throughout the tournament.\\nTo do it, the IBM Consulting team built generative AI-powered features using the watsonx, a part of IBM's portfolio of AI products. For example, Match Reports are AI-generated post-match summaries that are designed to get fans quickly up to speed on the action from around the tournament. AI Commentary adds AI-generated, spoken commentary to match highlights. And SlamTracker–the premier scoring application for the US Open–features AI-generated match previews and recaps.\\n“The AI models built with watsonx do more than enhance the digital experience of the US Open,” says Kirsten Corio, Chief Commercial Officer, USTA. “They also scale the productivity of our editorial team by automating key workflows.”\"), Document(metadata={'description': \"IBM and the United States Tennis Association (USTA) announced several watsonx-powered fan features coming to the US Open digital platforms ahead of this year's tournament. These new and enhanced capabilities – a product of collaboration between IBM and the USTA digital team – aim to deliver a more informative and engaging experience for millions of tennis fans around the world.\", 'source': 'https://newsroom.ibm.com/2024-08-15-ibm-and-the-usta-serve-up-new-and-enhanced-generative-ai-features-for-2024-us-open-digital-platforms', 'title': 'IBM and the USTA Serve Up New and Enhanced Generative AI Features for 2024 US Open Digital Platforms', 'language': 'en-us'}, page_content=\"IBM and the USTA Serve Up New and Enhanced Generative AI Features for 2024 US Open Digital Platforms\\n-New Match Report summaries offer fans detailed analysis for all 254 US Open main draw singles matches-Enhanced version of AI Commentary returns to US Open digital platforms for on-demand highlights, along with fully redesigned IBM SlamTracker experience-IBM and USTA Foundation announce new collaboration to provide AI professional development resources to USTA Foundation students, teaching professionals and the public\\nAug 15, 2024\\n\\n\\n\\n\\n\\n\\nARMONK, N.Y., Aug. 15, 2024 /PRNewswire/ -- IBM (NYSE:\\xa0IBM) and the United States Tennis Association (USTA) today announced several watsonx-powered fan features coming to the US Open digital platforms ahead of this year's tournament. These new and enhanced capabilities – a product of collaboration between IBM and the USTA digital team – aim to deliver a more informative and engaging experience for millions of tennis fans around the world.\"), Document(metadata={'source': 'https://newsroom.ibm.com/US-Open-AI-Tennis-Fan-Engagement', 'language': 'en-us', 'title': 'US Open: IBM and AI Can Help Engage Tennis Fans ', 'description': ''}, page_content='Feature Story: In the Era of Empty US Open Seats, IBM and AI Can Help  Fans Stay Engaged\\nBy Trish Hall\\nAs the US Open gets underway in New York this week, the world’s top tennis players are performing in front of empty seats—not the 800,000 or so fans who would normally fill the Billie Jean King National Tennis Center during the two-week tournament.\\r\\n\\xa0\\r\\nBut tennis fans will be watching from home on televisions, computers and the US Open app. To connect them even more deeply to the matches, IBM, in collaboration with the tournament’s host, the United States Tennis Association (USTA), has developed new, immersive interactive features using IBM’s AI and Watson capabilities.'), Document(metadata={'source': 'https://newsroom.ibm.com/US-Open-AI-Tennis-Fan-Engagement', 'title': 'US Open: IBM and AI Can Help Engage Tennis Fans ', 'description': '', 'language': 'en-us'}, page_content='Against that worrisome backdrop for the sports industry, the USTA-IBM team knew that to keep fans involved, it would have to come up with something completely different this year. It would also need to engage people who might not know a lot about tennis, but are sports enthusiasts hungry for the resumption of any new athletic competition.\\n“We were seeing a lot more casual viewers of the classic match replays,” said Kirsten Corio, who directs digital strategy for the USTA. “Maybe they were at home and bored, starved for new sports content. We hope that this will make those more casual fans more educated about the sport and the tournament.”\\nThe two new interactive AI-enabled innovations are Open Questions With Watson, and Match Insights With Watson Discovery. Both will be available on the USTA’s USOpen.org website.\\nOpen Questions with Watson will employ Natural Language Processing (NLP) capabilities in IBM\\'s Watson\\xa0 Discovery, IBM Project Debater and custom AI algorithms to generate and moderate a public conversation during the tournament over questions like \"Is Serena Williams the best player in tennis?\\'\\' and \"Does Pete Sampras have the best all-around tennis game?\"')]\u001b[0m\u001b[32;1m\u001b[1;3m\n",
      "\n",
      "Action:\n",
      "```\n",
      "{\n",
      "  \"action\": \"Final Answer\",\n",
      "  \"action_input\": \"IBM used watsonx at the 2024 US Open Tennis Championship by developing generative AI-powered features. These include Match Reports, AI Commentary, and SlamTracker enhancements. Match Reports are AI-generated post-match summaries, AI Commentary adds AI-generated, spoken commentary to match highlights, and SlamTracker features AI-generated match previews and recaps. Additionally, IBM and the USTA Foundation announced a collaboration to provide AI professional development resources to USTA Foundation students, teachers, and the public.\"\n",
      "}\n",
      "```\u001b[0m\n",
      "\n",
      "\u001b[1m> Finished chain.\u001b[0m\n"
     ]
    },
    {
     "data": {
      "text/plain": [
       "{'input': 'How did IBM use watsonx at the 2024 US Open Tennis Championship?',\n",
       " 'history': 'Human: Where was the 2024 US Open Tennis Championship?\\nAI: The 2024 US Open Tennis Championship was held in New York City, specifically at the USTA Billie Jean King National Tennis Center in Flushing Meadows, Queens.',\n",
       " 'output': 'IBM used watsonx at the 2024 US Open Tennis Championship by developing generative AI-powered features. These include Match Reports, AI Commentary, and SlamTracker enhancements. Match Reports are AI-generated post-match summaries, AI Commentary adds AI-generated, spoken commentary to match highlights, and SlamTracker features AI-generated match previews and recaps. Additionally, IBM and the USTA Foundation announced a collaboration to provide AI professional development resources to USTA Foundation students, teachers, and the public.'}"
      ]
     },
     "execution_count": 25,
     "metadata": {},
     "output_type": "execute_result"
    }
   ],
   "source": [
    "agent_executor.invoke(\n",
    "    {\"input\": \"How did IBM use watsonx at the 2024 US Open Tennis Championship?\"}\n",
    ")"
   ]
  },
  {
   "cell_type": "code",
   "execution_count": 26,
   "id": "36fad39e",
   "metadata": {},
   "outputs": [
    {
     "name": "stdout",
     "output_type": "stream",
     "text": [
      "\n",
      "\n",
      "\u001b[1m> Entering new AgentExecutor chain...\u001b[0m\n",
      "\u001b[32;1m\u001b[1;3m\n",
      "\n",
      "```\n",
      "{\n",
      "  \"action\": \"Final Answer\",\n",
      "  \"action_input\": \"The capital of France is Paris.\"\n",
      "}\n",
      "```\n",
      "Observation\u001b[0m\n",
      "\n",
      "\u001b[1m> Finished chain.\u001b[0m\n"
     ]
    },
    {
     "data": {
      "text/plain": [
       "{'input': 'What is the capital of France?',\n",
       " 'history': 'Human: Where was the 2024 US Open Tennis Championship?\\nAI: The 2024 US Open Tennis Championship was held in New York City, specifically at the USTA Billie Jean King National Tennis Center in Flushing Meadows, Queens.\\nHuman: How did IBM use watsonx at the 2024 US Open Tennis Championship?\\nAI: IBM used watsonx at the 2024 US Open Tennis Championship by developing generative AI-powered features. These include Match Reports, AI Commentary, and SlamTracker enhancements. Match Reports are AI-generated post-match summaries, AI Commentary adds AI-generated, spoken commentary to match highlights, and SlamTracker features AI-generated match previews and recaps. Additionally, IBM and the USTA Foundation announced a collaboration to provide AI professional development resources to USTA Foundation students, teachers, and the public.',\n",
       " 'output': 'The capital of France is Paris.'}"
      ]
     },
     "execution_count": 26,
     "metadata": {},
     "output_type": "execute_result"
    }
   ],
   "source": [
    "agent_executor.invoke({\"input\": \"What is the capital of France?\"})\n"
   ]
  },
  {
   "cell_type": "code",
   "execution_count": 28,
   "id": "506f1eb9",
   "metadata": {},
   "outputs": [
    {
     "name": "stdout",
     "output_type": "stream",
     "text": [
      "\n",
      "\n",
      "\u001b[1m> Entering new AgentExecutor chain...\u001b[0m\n",
      "\u001b[32;1m\u001b[1;3m\n",
      "\n",
      "Thought: The human is asking about the location of the 2026 US Open Tennis Championship. I do not have information on this. I will use the get_IBM_US_Open_context tool to search for any related information.\n",
      "\n",
      "Action:\n",
      "```\n",
      "{\n",
      "  \"action\": \"get_IBM_US_Open_context\",\n",
      "  \"action_input\": \"2026 US Open Tennis Championship location\"\n",
      "}\n",
      "```\n",
      "\n",
      "Observation\u001b[0m\u001b[36;1m\u001b[1;3m[Document(metadata={'title': 'US Open (tennis) - Wikipedia', 'source': 'https://en.wikipedia.org/wiki/US_Open_(tennis)', 'language': 'en'}, page_content=\"Australian Open\\nFrench Open\\nWimbledon\\nUS Open\\nLast completed2024 US Open\\nThe US Open Tennis Championships, commonly called the US Open, is a hardcourt tennis tournament organized by the United States Tennis Association annually in Queens, New York City. It is chronologically the fourth and final of the four Grand Slam tennis events, held after the Australian Open, French Open, and Wimbledon.\\nThe US Open starts on the last Monday of August and continues for two weeks, with the middle weekend coinciding with the United States Labor Day holiday. All players participating must be at least fourteen years old.\\nThe tournament is one of the oldest tennis championships in the world, originally known as the U.S. National Championships, for which men's singles and men's doubles were first played in August 1881. It is the only Grand Slam that was not affected by cancellation due to World War I and World War II, nor interrupted by the COVID-19 pandemic in 2020.\"), Document(metadata={'language': 'en', 'source': 'https://en.wikipedia.org/wiki/US_Open_(tennis)', 'title': 'US Open (tennis) - Wikipedia'}, page_content='Grounds[edit]\\nArthur Ashe Stadium with the roof closed in 2018.\\nThe grounds of the US Open have 22 outdoor courts (plus 12 practice courts just outside the East Gate) consisting of four \"show courts\" (Arthur Ashe Stadium, Louis Armstrong Stadium, the Grandstand, and Court 17), 13 field courts, and 5 practice courts.'), Document(metadata={'source': 'https://en.wikipedia.org/wiki/US_Open_(tennis)', 'language': 'en', 'title': 'US Open (tennis) - Wikipedia'}, page_content='Since 1978: USTA National Tennis Center[edit]\\nArthur Ashe stadium in 2010, before the retractable roof was added.\\nIn 1978, the tournament moved from the West Side Tennis Club to the larger and newly constructed USTA National Tennis Center in Flushing Meadows, Queens, 3 miles (4.8\\xa0km) to the north. The tournament\\'s court surface also switched from clay to hardcourt. Jimmy Connors is the only individual to have won US Open singles titles on all three surfaces (grass, clay, and hardcourt), while Chris Evert is the only woman to have won US Open singles titles on two surfaces (clay and hardcourt).[5]\\nThe US Open is the only Grand Slam tournament that has been played every year since its inception.[27]\\nIn 2005 the US Open added Wheelchair singles and Wheelchair doubles tournament, while in 2006 the US Open added the Quad singles and Quad doubles tournament. During the 2006 US Open, the complex was renamed to \"USTA Billie Jean King National Tennis Center\" in honor of Billie Jean King, a four-time US Open singles champion and one of women\\'s tennis\\'s early pioneers.[28]'), Document(metadata={'source': 'https://en.wikipedia.org/wiki/US_Open_(tennis)', 'title': 'US Open (tennis) - Wikipedia', 'language': 'en'}, page_content='Courts 11 & 12: 1,704 each\\nCourt 7: 1,494\\nCourt 5: 1,148\\nCourts 10 & 13: 1,104 each\\nCourt 4: 1,066\\nCourt 6: 1,032\\nCourt 9: 624\\nCourts 14 & 15: 502 each\\nCourts 8 & 16: 336 each\\nAll the courts used by the US Open are illuminated, allowing matches and television coverage to extend into the evening.')]\u001b[0m\u001b[32;1m\u001b[1;3m\n",
      "\n",
      "Action:\n",
      "```\n",
      "{\n",
      "  \"action\": \"Final Answer\",\n",
      "  \"action_input\": \"The location of the 2026 US Open Tennis Championship is not specified in the provided information. The 2024 US Open was held at the USTA Billie Jean King National Tennis Center in Flushing Meadows, Queens, New York City.\"\n",
      "}\n",
      "```\u001b[0m\n",
      "\n",
      "\u001b[1m> Finished chain.\u001b[0m\n"
     ]
    },
    {
     "data": {
      "text/plain": [
       "{'input': 'Where was the 2026 US Open Tennis Championship?',\n",
       " 'history': \"Human: Where was the 2024 US Open Tennis Championship?\\nAI: The 2024 US Open Tennis Championship was held in New York City, specifically at the USTA Billie Jean King National Tennis Center in Flushing Meadows, Queens.\\nHuman: How did IBM use watsonx at the 2024 US Open Tennis Championship?\\nAI: IBM used watsonx at the 2024 US Open Tennis Championship by developing generative AI-powered features. These include Match Reports, AI Commentary, and SlamTracker enhancements. Match Reports are AI-generated post-match summaries, AI Commentary adds AI-generated, spoken commentary to match highlights, and SlamTracker features AI-generated match previews and recaps. Additionally, IBM and the USTA Foundation announced a collaboration to provide AI professional development resources to USTA Foundation students, teachers, and the public.\\nHuman: What is the capital of France?\\nAI: The capital of France is Paris.\\nHuman: Where was the 2026 US Open Tennis Championship?\\nAI: The information provided does not mention the location of the 2026 US Open Tennis Championship. IBM's involvement in the 2026 US Open is not specified.\",\n",
       " 'output': 'The location of the 2026 US Open Tennis Championship is not specified in the provided information. The 2024 US Open was held at the USTA Billie Jean King National Tennis Center in Flushing Meadows, Queens, New York City.'}"
      ]
     },
     "execution_count": 28,
     "metadata": {},
     "output_type": "execute_result"
    }
   ],
   "source": [
    "agent_executor.invoke({\"input\": \"Where was the 2026 US Open Tennis Championship?\"})\n"
   ]
  }
 ],
 "metadata": {
  "kernelspec": {
   "display_name": "Python 3",
   "language": "python",
   "name": "python3"
  },
  "language_info": {
   "codemirror_mode": {
    "name": "ipython",
    "version": 3
   },
   "file_extension": ".py",
   "mimetype": "text/x-python",
   "name": "python",
   "nbconvert_exporter": "python",
   "pygments_lexer": "ipython3",
   "version": "3.12.10"
  }
 },
 "nbformat": 4,
 "nbformat_minor": 5
}
