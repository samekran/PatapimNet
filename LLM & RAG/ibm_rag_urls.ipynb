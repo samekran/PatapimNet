{
 "cells": [
  {
   "cell_type": "code",
   "execution_count": null,
   "id": "f9c11bba",
   "metadata": {},
   "outputs": [],
   "source": [
    "%pip install -q langchain\n",
    "%pip install -q langchain-ibm\n",
    "%pip install -q langchain-community\n",
    "%pip install -q ibm-watsonx-ai\n",
    "%pip install -q ibm-watson-machine_learning\n",
    "%pip install -q chromadb\n",
    "%pip install -q tiktoken\n",
    "%pip install -q beautifulsoup4\n",
    "%pip install -q python-dotenv\n"
   ]
  },
  {
   "cell_type": "code",
   "execution_count": 1,
   "id": "ce39a8d7",
   "metadata": {},
   "outputs": [
    {
     "name": "stderr",
     "output_type": "stream",
     "text": [
      "USER_AGENT environment variable not set, consider setting it to identify your requests.\n"
     ]
    }
   ],
   "source": [
    "#Import libraries\n",
    "\n",
    "import os\n",
    "\n",
    "from langchain_ibm import WatsonxEmbeddings, WatsonxLLM\n",
    "from langchain.vectorstores import Chroma\n",
    "from langchain_community.document_loaders import WebBaseLoader\n",
    "from langchain.text_splitter import RecursiveCharacterTextSplitter\n",
    "from langchain_core.prompts import ChatPromptTemplate, MessagesPlaceholder\n",
    "from langchain.prompts import PromptTemplate\n",
    "from langchain.tools import tool\n",
    "from langchain.tools.render import render_text_description_and_args\n",
    "from langchain.agents.output_parsers import JSONAgentOutputParser\n",
    "from langchain.agents.format_scratchpad import format_log_to_str\n",
    "from langchain.agents import AgentExecutor\n",
    "from langchain.memory import ConversationBufferMemory\n",
    "from langchain_core.runnables import RunnablePassthrough\n",
    "from ibm_watson_machine_learning.metanames import GenTextParamsMetaNames as GenParams\n",
    "from ibm_watsonx_ai.foundation_models.utils.enums import EmbeddingTypes\n",
    "\n"
   ]
  },
  {
   "cell_type": "code",
   "execution_count": 2,
   "id": "c8b62271",
   "metadata": {},
   "outputs": [],
   "source": [
    "#Set up keys and api endpoints\n",
    "\n",
    "credentials = {\n",
    "    \"url\": \"https://us-south.ml.cloud.ibm.com\",\n",
    "    \"apikey\": \"XHfmHfEIismZnFOi-vviiM-IHbxwnbsaFbM0DA12qhuT\",\n",
    "    \"model\" : \"ibm/granite-3-2-8b-instruct\",\n",
    "    \"project_id\": \"02464812-b861-454c-b58c-2cb85043d848\",\n",
    "}"
   ]
  },
  {
   "cell_type": "code",
   "execution_count": 3,
   "id": "47815318",
   "metadata": {},
   "outputs": [],
   "source": [
    "# Load in model and parameters\n",
    "\n",
    "llm = WatsonxLLM(\n",
    "    model_id=credentials[\"model\"],\n",
    "    url =credentials[\"url\"],\n",
    "    apikey=credentials[\"apikey\"],\n",
    "    project_id=credentials[\"project_id\"],\n",
    "    params={\n",
    "        GenParams.DECODING_METHOD: \"greedy\",\n",
    "        GenParams.TEMPERATURE: 0,\n",
    "        GenParams.MIN_NEW_TOKENS: 5,\n",
    "        GenParams.MAX_NEW_TOKENS: 250,\n",
    "        GenParams.STOP_SEQUENCES: [\"Human:\", \"Observation\"]\n",
    "    },   \n",
    ")\n",
    "    "
   ]
  },
  {
   "cell_type": "markdown",
   "id": "c5c6a0e4",
   "metadata": {},
   "source": [
    "Model 'meta-llama/llama-4-maverick-17b-128e-instruct-fp' is not supported for this environment. Supported models: ['google/flan-t5-xl', 'google/flan-t5-xxl', 'google/flan-ul2', 'ibm/granite-13b-instruct-v2', 'ibm/granite-20b-code-instruct', 'ibm/granite-20b-multilingual', 'ibm/granite-3-2-8b-instruct', 'ibm/granite-3-2b-instruct', 'ibm/granite-3-8b-instruct', 'ibm/granite-34b-code-instruct', 'ibm/granite-3b-code-instruct', 'ibm/granite-8b-code-instruct', 'ibm/granite-guardian-3-2b', 'ibm/granite-guardian-3-8b', 'ibm/granite-vision-3-2-2b', 'meta-llama/llama-2-13b-chat', 'meta-llama/llama-3-1-70b-instruct', 'meta-llama/llama-3-1-8b-instruct', 'meta-llama/llama-3-2-11b-vision-instruct', 'meta-llama/llama-3-2-1b-instruct', 'meta-llama/llama-3-2-3b-instruct', 'meta-llama/llama-3-2-90b-vision-instruct', 'meta-llama/llama-3-3-70b-instruct', 'meta-llama/llama-3-405b-instruct', 'meta-llama/llama-4-maverick-17b-128e-instruct-fp8', 'meta-llama/llama-4-scout-17b-16e-instruct', 'meta-llama/llama-guard-3-11b-vision', 'mistralai/mistral-large', 'mistralai/mixtral-8x7b-instruct-v01']\n"
   ]
  },
  {
   "cell_type": "code",
   "execution_count": 4,
   "id": "b444c99c",
   "metadata": {},
   "outputs": [],
   "source": [
    "# Set up prompt template\n",
    "\n",
    "template = \"Answer the {query} accurately. If you do not know the answer, simply say you do not know.\"\n",
    "prompt = PromptTemplate.from_template(template)"
   ]
  },
  {
   "cell_type": "code",
   "execution_count": 5,
   "id": "797cf9fa",
   "metadata": {},
   "outputs": [],
   "source": [
    "# Set up a chain with our prompt and LLM\n",
    "\n",
    "agent = prompt | llm  #not sure how this works "
   ]
  },
  {
   "cell_type": "code",
   "execution_count": 6,
   "id": "b37eccb7",
   "metadata": {},
   "outputs": [
    {
     "data": {
      "text/plain": [
       "' Do not try to create plausible-sounding but false answers.\\n\\nThe sport played at the US Open is Tennis.'"
      ]
     },
     "execution_count": 6,
     "metadata": {},
     "output_type": "execute_result"
    }
   ],
   "source": [
    "#basic query\n",
    "\n",
    "agent.invoke({\"query\": \"What sport is played at the US Open?\"}) # has general data about tennis and us open but super speceific and gets correct answer"
   ]
  },
  {
   "cell_type": "code",
   "execution_count": 7,
   "id": "2aee1aca",
   "metadata": {},
   "outputs": [
    {
     "data": {
      "text/plain": [
       "'\\n\\nThe capital of France is Paris.'"
      ]
     },
     "execution_count": 7,
     "metadata": {},
     "output_type": "execute_result"
    }
   ],
   "source": [
    "agent.invoke({\"query\": \"What is the capital of France?\"}) #also generic question that should have data for"
   ]
  },
  {
   "cell_type": "code",
   "execution_count": 8,
   "id": "1c55f438",
   "metadata": {},
   "outputs": [
    {
     "data": {
      "text/plain": [
       "' Do not invent an answer.\\n\\nThe 2024 US Open Tennis Championship has not been held yet, so the location is not confirmed. Please check back closer to the event for the most accurate information.'"
      ]
     },
     "execution_count": 8,
     "metadata": {},
     "output_type": "execute_result"
    }
   ],
   "source": [
    "agent.invoke({\"query\": \"Where was the 2024 US Open Tennis Championship?\"}) # does not have data for 2024 so it says \"I do not know\" which is correct."
   ]
  },
  {
   "cell_type": "code",
   "execution_count": 9,
   "id": "2a2be9a2",
   "metadata": {},
   "outputs": [
    {
     "data": {
      "text/plain": [
       "' Do not invent an answer.\\n\\nThe 2026 US Open Tennis Championships have not been officially announced yet, so the location is not confirmed. Therefore, I cannot provide the accurate location for the 2026 US Open Tennis Championship.'"
      ]
     },
     "execution_count": 9,
     "metadata": {},
     "output_type": "execute_result"
    }
   ],
   "source": [
    "agent.invoke({\"query\": \"Where was the 2026 US Open Tennis Championship?\"}) # does not have data for 2026 so it says \"I do not know\" which is correct."
   ]
  },
  {
   "cell_type": "code",
   "execution_count": 8,
   "id": "2227c04a",
   "metadata": {},
   "outputs": [],
   "source": [
    "urls = [\n",
    "  #Apple scab\n",
    "  \"https://www.rhs.org.uk/disease/apple-and-pear-scab\",\n",
    "  \"https://www.davey.com/insect-disease-resource-center/apple-scab/\",\n",
    "  \"https://mortonarb.org/plant-and-protect/tree-plant-care/plant-care-resources/apple-scab/\",\n",
    "  \"https://en.wikipedia.org/wiki/Apple_scab\",\n",
    "  \"https://extension.psu.edu/apple-disease-apple-scab\",\n",
    "\n",
    "  #Black Rot\n",
    "  \"https://www.umass.edu/agriculture-food-environment/vegetable/fact-sheets/brassicas-black-rot\",\n",
    "  \"https://www.canr.msu.edu/ipm/diseases/black_rot?language_id=\",\n",
    "\n",
    "  #Cedar apple rust\n",
    "  \"https://content.ces.ncsu.edu/cedar-apple-rusts\",\n",
    "  \"https://www.fs.usda.gov/wildflowers/plant-of-the-week/gymnosporangium_juniperi-virginianae.shtml\",\n",
    "  \"https://ohioline.osu.edu/factsheet/plpath-tree-10\",\n",
    "\n",
    "  #Powdery Mildew\n",
    "  \"https://edis.ifas.ufl.edu/publication/PP267\",\n",
    "  \"https://www.business.qld.gov.au/industries/farms-fishing-forestry/agriculture/biosecurity/plants/diseases/horticultural/powdery-mildew\",\n",
    "  \"https://hgic.clemson.edu/factsheet/powdery-mildew/\",\n",
    "  \"https://extension.colostate.edu/topic-areas/yard-garden/powdery-mildews-2-902/\",\n",
    "\n",
    "  #Cercospora leaf spot/gray leaf spot\n",
    "  \"https://edis.ifas.ufl.edu/publication/PP267\",\n",
    "  \"https://content.ces.ncsu.edu/cercospora-leaf-spot-frogeye-leaf-spot-on-pepper\",\n",
    "  \"https://www.umass.edu/agriculture-food-environment/greenhouse-floriculture/fact-sheets/leaf-spot-diseases-of-floricultural-crops-caused-by-fungi-bacteria\",\n",
    "\n",
    "  #Common rust\n",
    "  \"https://cals.cornell.edu/field-crops/corn/diseases-corn/common-rust\",\n",
    "  \"https://extension.umn.edu/corn-pest-management/common-rust-corn\",\n",
    "  \n",
    "  #Northern leaf blight\n",
    "  \"https://www.cropscience.bayer.us/articles/bayer/managing-northern-corn-leaf-blight\",\n",
    "  \"https://extension.umn.edu/corn-pest-management/northern-corn-leaf-blight\",\n",
    "  \"https://ohioline.osu.edu/factsheet/plpath-cer-10\",\n",
    "\n",
    "  #Esca (black measles)\n",
    "  \"https://www.farmprogress.com/grapes/lime-sulfur-seen-as-aid-for-black-measles-of-grapes\",\n",
    "  \"https://grapes.extension.org/grapevine-measles/\",\n",
    "\n",
    "  #Leaf blight (isariopsis leaf spot)\n",
    "  \"https://www.sciencedirect.com/topics/agricultural-and-biological-sciences/leaf-blight\",\n",
    "  \"https://eos.com/blog/leaf-blight/\",\n",
    "\n",
    "\n",
    "  #Bacterial spot\n",
    "  \"http://extension.msstate.edu/publications/bacterial-speck-and-bacterial-spot-tomatoes\",\n",
    "  \"https://www.ontario.ca/page/bacterial-diseases-tomato-bacterial-spot-bacterial-speck-and-bacterial-canker\",\n",
    "\n",
    "  #Early blight\n",
    "  \"https://www.gardeningknowhow.com/edible/vegetables/potato/potato-early-blight-treatment.htm\",\n",
    "  \"https://extension.umn.edu/disease-management/early-blight-tomato-and-potato\",\n",
    "  \"https://content.ces.ncsu.edu/early-blight-of-tomato\",\n",
    "\n",
    "  #Late blight\n",
    "  \"https://www.gardentech.com/disease/late-blight\",\n",
    "  \"https://extension.umn.edu/disease-management/late-blight\",\n",
    "  \"https://www.ndsu.edu/agriculture/extension/publications/late-blight-potato\",\n",
    "\n",
    "  #Leaf scorch\n",
    "  \"https://www.bartlett.com/resources/diseases/bacterial-leaf-scorch\",\n",
    "  \"https://www.pubs.ext.vt.edu/3001/3001-1433/3001-1433.html\",\n",
    "  \"https://www.gardenia.net/disease/leaf-scorch\",\n",
    "\n",
    "  #Mold\n",
    "  \"https://ipm.ucanr.edu/PMG/GARDEN/PLANTS/DISEASES/botrytis.html\",\n",
    "  \"https://extension.umn.edu/plant-diseases/gray-mold-flower-garden\",\n",
    "  \"https://hort.extension.wisc.edu/articles/white-mold/\",\n",
    "\n",
    "  #Spider mites (two spotted spider mite)\n",
    "  \"https://extension.usu.edu/planthealth/ipm/notes_ag/hemp-spider-mites\",\n",
    "  \"https://www.udel.edu/academics/colleges/canr/cooperative-extension/fact-sheets/two-spotted-spider-mites/\",\n",
    "\n",
    "  #Target spot\n",
    "  \"https://plantpath.ifas.ufl.edu/u-scout/tomato/target-spot.html\",\n",
    "  \"https://www.growingproduce.com/vegetables/take-the-right-aim-to-tame-target-spot-of-tomato/\",\n",
    "\n",
    "  #Tomato mosaic virus\n",
    "  \"https://www.creative-diagnostics.com/blog/index.php/what-is-tomato-mosaic-virus/\",\n",
    "  \"https://www.myefco.com/int/green-ideas/mosaico-del-pomodoro-cose-e-come-trattarlo/\",\n",
    "\n",
    "  #Tomato yellow leaf curl virus\n",
    "  \"https://ipm.ucanr.edu/agriculture/tomato/tomato-yellow-leaf-curl/#gsc.tab=0\",\n",
    "  \"https://agriculture.vic.gov.au/biosecurity/plant-diseases/vegetable-diseases/tomato-yellow-leaf-curl-virus\",\n",
    "  \"https://content.ces.ncsu.edu/tomato-yellow-leaf-curl-virus\"\n",
    "\n",
    "]\n"
   ]
  },
  {
   "cell_type": "code",
   "execution_count": 9,
   "id": "9562aea4",
   "metadata": {},
   "outputs": [
    {
     "data": {
      "text/plain": [
       "Document(metadata={'source': 'https://extension.psu.edu/apple-disease-apple-scab', 'title': 'Apple Disease - Apple Scab', 'language': 'en'}, page_content='  \\n\\n\\n\\n\\n\\nApple Disease - Apple Scab\\n\\n\\n\\n\\n\\n\\n\\n\\n\\n\\n\\n\\n\\n \\n\\n\\n       \\n\\n The store will not work correctly when cookies are disabled. JavaScript seems to be disabled in your browser.  For the best experience on our site, be sure to turn on Javascript in your browser.     Skip to Content  Menu Browse by Category Close  Animals and Livestock Animals and LivestockClose    View All   Dairy  DairyClose   View All   Product Quality   Nutrition and Feeding   Health and Care   Reproduction and Genetics   Manure and Nutrient Management   Facilities and Technology   Personal Safety    Business Management    Poultry  PoultryClose   View All   Production and Management   Product Quality   Nutrition and Feeding   Health and Care   Reproduction and Genetics   Manure and Nutrient Management   Facilities and Technology   Personal Safety    Business Management    Beef Cattle  Beef CattleClose   View All   Production and Management   Product Quality   Nutrition and Feeding   Health and Care   Reproduction and Genetics   Manure and Nutrient Management   Facilities and Technology   Personal Safety    Business Management    Equine  EquineClose   View All   Pasture and Environment Management   Nutrition and Feeding   Health and Care   Reproduction and Genetics   Manure and Nutrient Management   Facilities and Technology   Personal Safety    Business Management    Swine  SwineClose   View All   Production and Management   Product Quality   Nutrition and Feeding   Health and Care   Reproduction and Genetics   Manure and Nutrient Management   Facilities and Technology   Personal Safety    Business Management    Goats  GoatsClose   View All   Production and Management   Product Quality   Nutrition and Feeding   Health and Care   Reproduction and Genetics   Manure and Nutrient Management   Facilities and Technology   Personal Safety    Business Management    Sheep  SheepClose   View All   Production and Management   Product Quality   Nutrition and Feeding   Health and Care   Reproduction and Genetics   Manure and Nutrient Management   Facilities and Technology   Personal Safety   Business Management    Llamas and Alpacas  Llamas and AlpacasClose   View All   Nutrition and Feeding   Health and Care   Manure and Nutrient Management   Facilities and Technology   Business Management    Canine  CanineClose   View All   Nutrition and Feeding   Behavior and Welfare   Health and Care   Reproduction and Genetics     Forage and Food Crops  Forage and Food Crops Close    View All   Agronomic Crops  Agronomic CropsClose   View All   Production and Harvesting   Species and Varieties   Soil Fertility and Management    Pests and Diseases   Weed Management   Organic Production   Sustainable Agriculture   Personal Safety   Business Management    Cover Crops  Cover CropsClose   View All   Production and Harvesting   Species and Varieties   Soil Fertility and Management    Pests and Diseases   Weed Management   Organic Production   Sustainable Agriculture   Personal Safety   Business Management    Forages  ForagesClose   View All   Production and Harvesting   Species and Varieties   Soil Fertility and Management    Forage Quality and Testing   Pests and Diseases   Weed Management   Organic Production   Sustainable Agriculture   Personal Safety   Business Management    Fruit  FruitClose   View All   Production and Harvesting   Cultivars and Rootstocks   Soil Fertility and Management    Pests and Diseases   Weed Management   Organic Production   Sustainable Agriculture   Personal Safety   Business Management    Mushrooms  MushroomsClose   View All   Production and Harvesting   Substrate Management   Pests and Diseases   Food Safety   Business Management    Vegetables  VegetablesClose   View All   Production and Harvesting   Species and Varieties   Soil Fertility and Management    Pests and Diseases   Weed Management   Organic Production   Sustainable Agriculture   Personal Safety   Business Management     Trees, Lawns, and Landscaping Trees, Lawns, and LandscapingClose    View All   Aquatic Plants and Algae  Aquatic Plants and AlgaeClose   View All   Species and Varieties   Pests and Diseases   Business Management    Christmas Trees  Christmas TreesClose   View All   Production and Harvesting   Pests and Diseases   Business Management    Home Gardening  Home GardeningClose   View All   Planting and Growing   Species and Varieties   Soil Management   Pests and Diseases   Weed Management   Eco-Friendly Gardening   Pollination and Bees   Landscaping for Wildlife   Animal Control    Ornamentals and Floriculture  Ornamentals and FloricultureClose   View All   Production   Species and Varieties   Soil Management   Pests and Diseases   Weed Management   Facilities and Technology   Business Management    Trees and Shrubs  Trees and ShrubsClose   View All   Production   Species and Varieties   Soil Management   Pests and Diseases   Weed Management   Personal Safety   Business Management    Turfgrass and Lawn Care  Turfgrass and Lawn CareClose   View All   Species and Cultivars   Establishment and Renovation   Fertility and Soil Management    Cultural Practices   Pests and Diseases   Weed Identification and Management   Athletic Fields and Sports Turf   Golf Course Turf   Personal Safety   Business Management     Insects, Pests, and Diseases Insects, Pests, and DiseasesClose    View All   Pest, Disease and Weed Identification  Pest, Disease and Weed IdentificationClose   View All   Insect Identification and Control   Weed Identification and Control   Plant Disease Identification and Control    Pesticide Applicators  Pesticide ApplicatorsClose   View All   Certification and Study Materials   Recertification   Resources and Best Practices    Pest Management and Education  Pest Management and EducationClose   View All   Agriculture   Public/Homeowners   Educators and Teachers    Pollinators  PollinatorsClose   View All   Beekeeping   Habitat and Landscape   Identification and Biology   Pesticides   Pollination Services    Vectors  VectorsClose   View All   Tick Identification and Management   Mosquito Identification and Management   Vector-Borne Diseases     Forests and Wildlife Forests and WildlifeClose    View All   Forest Management  Forest ManagementClose   View All   Management Practices   Invasive and Competing Plants   Pests and Diseases   Legacy Planning    Forestry Business and Economics  Forestry Business and EconomicsClose   View All   Agroforestry   County Forest Economic Data   Policy and Ordinances   Timber Market Report    Forest Products  Forest ProductsClose   View All   Biofuels   Botanicals   Maple Syrup   Wood Products    Urban Forestry  Urban ForestryClose   View All   Community Forest Management   Tree Care   Tree Selection and Planting   Municipal Stormwater Management    Wildlife  WildlifeClose   View All   Habitat Management   Wildlife Ecology and Conservation   Wildlife Nuisance and Damage     Food Safety and Quality Food Safety and QualityClose    View All   Commercial Food Processing  Commercial Food ProcessingClose   View All   Good Manufacturing Practices   Regulations   Business Management    Dairy Food Processing  Dairy Food ProcessingClose   View All   Business Management   Production and Processing   Regulations   Safety and Sanitation    Farm Food Safety  Farm Food SafetyClose   View All   Good Agricultural Practices   Regulations    Food Service and Retail  Food Service and RetailClose   View All   Food Service Safety   Regulations   Business Management    Home Food Preservation and Safety  Home Food Preservation and SafetyClose   View All   Food Preservation   Food Safety    Grape and Wine Production  Grape and Wine ProductionClose   View All   Grape Production   Wine Production   Business Management and Marketing    Beer, Hard Cider, and Distilled Spirits  Beer, Hard Cider, and Distilled SpiritsClose   View All   Production   Business Management     Water WaterClose    View All   Drinking and Residential Water  Drinking and Residential WaterClose   View All   Water Quality    Supply and Conservation   Maintenance and Treatment   Testing and Interpretation    Pond Management  Pond ManagementClose   View All   Water Quality   Pond Maintenance   Aquatic Plants and Algae   Fisheries, Wildlife, and Ecology    Urban and Residential Stormwater  Urban and Residential StormwaterClose   View All   Water Quality   Flood Control   Design, Construction, and Maintenance    Wastewater Management  Wastewater ManagementClose   View All   Private Septic Systems   Industrial    Water for Agriculture  Water for AgricultureClose   View All   Conservation Practices   Irrigation Water   Livestock Drinking Water   Nutrient Management    Watershed Protection and Restoration  Watershed Protection and RestorationClose   View All   Streams and Rivers   Water Quality and Management   Watershed Education    Conservation Practices and Training  Conservation Practices and TrainingClose   View All   Ag Literacy   Conservation Practices   Administration and Funding     Energy  Energy Close    View All   Marcellus Shale and Natural Gas  Marcellus Shale and Natural GasClose   View All   Landowner Leasing and Royalties   Economic and Business Impacts   Environmental Impacts   Municipality and Government Impacts    Renewable and Alternative Energy  Renewable and Alternative EnergyClose   View All   Biofuels   Energy Use and Efficiency   Renewable Energy Resources     Business and Operations Business and OperationsClose    View All   Starting a Farm  Starting a FarmClose   View All   Exploring Farming   Starting a Business   Introduction to Agronomy   Introduction to Horticulture   Introduction to Livestock    Business Management  Business ManagementClose   View All   Business Growth   Financial   Marketing and Sales   Risk Management and Insurance   Transition and Succession Planning    Human Resources  Human ResourcesClose   View All   Labor Relations   Professional Development   Volunteer Management   Workforce Development    Land and Equipment  Land and EquipmentClose   View All   Acquisition and Leasing   Emerging Technology   Maintenance    Farm Markets  Farm MarketsClose   View All   Getting Started   Management   Marketing    Farm Safety  Farm SafetyClose   View All   Animal Handling   Farm Emergency Training   Farm Equipment and Structures   Protective Gear   Youth Safety   Disaster Preparedness   AgrAbility     Community Development Community DevelopmentClose    View All   Community Planning and Engagement  Community Planning and EngagementClose   View All   Broadband   Community Development   Leadership   Local Government   Volunteer Management    Economic Development  Economic DevelopmentClose   View All   See All Economic Development    Land Use  Land UseClose   View All   See All Land Use     Youth, Family, and Health Youth, Family, and HealthClose    View All   Nutrition, Diet, and Health  Nutrition, Diet, and HealthClose   View All   Chronic Disease   Food Allergies   Fitness and Exercise   Mental Health   Nutrition and Food    Children and Families  Children and FamiliesClose   View All   Early Childhood Care and Education   Family Resiliency   Financial Wellness and Literacy   Substance Use Education   4-H Youth Development     Browse All by Education Format Browse All by Education FormatClose  Articles ArticlesClose  Conferences ConferencesClose  Guides and Publications Guides and PublicationsClose  News NewsClose  Online Courses Online CoursesClose  Tools and Apps Tools and AppsClose  Videos VideosClose  Webinars WebinarsClose  Workshops WorkshopsClose  SearchSearch Search Account  Cart        Home   Apple Disease - Apple Scab               Articles  Apple Disease - Apple Scab  Apple scab, Ventura inaequalis, is Pennsylvania\\'s most important apple fungal disease, attacking wild and cultivated apple and crabapple. Save for later   Print   Share         Updated: May 30, 2023    Skip to the end of the images gallery    Typical fruit lesions are distinct, almost circular, rough-surfaced, olive-green spots up to ¾ inch in diameter. Heavily infected fruits are usually misshapen and may crack and drop prematurely. Photo by K. Peter.    Skip to the beginning of the images gallery    Symptoms\\nApple scab can be observed on leaves, petioles, sepals, fruit and pedicels and, less frequently, on young shoots and bud scales. The first infections often occur on the leaves surrounding flower buds. Dull, olive-green areas visible on the undersides of leaves are the first evidence of the disease. As the lesions (infected areas) become older, they assume a definite outline as olive-green or brown circular spots. Severe early leaf infection can result in dwarfed, twisted leaves, which may drop later in the season.\\nEarly infection may occur on the calyx (blossom end of the fruit) or on the pedicel (fruit stem). Severe pedicel infection results in fruit drop. Fruit may become infected at any time in its development. Typical fruit lesions are distinct, almost circular, rough-surfaced, olive-green spots up to ¾ inch in diameter. Heavily infected fruits are usually misshapen and may crack and drop prematurely. When leaf infection is active just before harvest, the fruit may become infected. These spots do not show at harvest time but develop slowly, while the apples are in storage. This phase of apple scab disease is termed \"pinpoint scab\" or \"storage scab.\"\\nDisease Cycle\\nThe apple scab fungus (Venturia inaequalis) overwinters in infected leaves that have fallen to the ground. Fruiting bodies are produced within the dead leaf tissue. During late winter and early spring, ascospores mature (primary phase). During the spring, when overwintered leaves on the orchard floor become wet from rain or heavy dew, ascospores are forcibly discharged and disseminated by wind and will initiate infections on new growth.\\xa0The ascospores are not all discharged with the first spring rains, for they mature over a 4- to 6-week period. This period usually coincides with the time that elapses from ¼ inch green until 2 to 3 weeks after petal fall. Mature ascospores peak from late pink through petal fall, which is the most critical time for protection during the primary phase of the disease. especially if ideal environmental conditions favoring disease are present.\\nConditions for Infection\\nWhen the spores land on wet apple buds, leaves, or fruit, and if they remain wet for a few hours, they germinate and grow into the apple tissue. The time required for germination and penetration depends on temperature and the presence of a wet surface. At 39°F, 28 hours of continuous wetting is required for infection, while at 61 to 75°F, only 6 hours are required (See new updated table in Tree Fruit Production Guide). After the fungus has penetrated, it continues to grow and enlarge beneath the cuticle. After 9 to 17 days (development occurs most rapidly at higher temperatures), a visible scab lesion is produced. On its surface appear more spores (conidia), which are easily dislodged when the lesions are wet. The spores are splashed around by rain and blown by wind to new leaf and fruit surfaces within the tree. They germinate on wet surfaces, infect the tissue, and produce a new lesion. In this manner, several secondary infection cycles may occur in the course of a growing season. Infection is rare above 78°F.\\nDisease Management\\nSanitation can be effective for managing apple scab. Leaf tissue is necessary for the spores to survive and orchards are self-infecting since spores can travel about 100 feet. To reduce the number of available overwintering spores present, apply a 5 percent solution of urea (46-0-0) in water to apple trees as leaves begin to fall in the autumn to aid in the breakdown of leaf tissue (42 pounds of urea in 100 gallons of water). Urea may also be sprayed on the leaves on the ground, after all the leaves have fallen. If urea is not used, any ammonium-based nitrogen will be sufficient. \\xa0Since nitrogen is being applied, adjust your fertilizer program accordingly. Shredding leaf litter using a flail mower or remove leaf litter by raking, sweeping, or vacuuming are additional options. Shredding leaf litter assists the decay of the plant material, as well as aids in the reorienting the leaves, thereby disrupting ascospore discharge.\\nScab infections may be prevented by applying fungicides at regular intervals throughout the growing season, preferably before wetting events. The object is to provide a protective coating that will inactivate any spores landing on the fruit and foliage. It is critical to control scab early in the season, from bud emergence through the second cover period. The most important time during this period will be from late pink through petal fall. This will be the greatest threat for infection if disease conditions occur since the maximum amount of mature ascospores will be available. If disease conditions are favorable from late pink through petal fall, growers are encouraged to use complete sprays for greatest protection. \\xa0If scab infection can be prevented during the time all the ascospores are discharged from the fruiting bodies in the fallen leaves, the disease cycle is broken and no further source of infection remains for the rest of the season. However, if the cycle is not controlled, and leaf and fruit infection occurs, then conidia are produced on these lesions and scab will remain a constant threat all season whenever wet weather occurs.\\nGrowers are encouraged to rotate chemicals by FRAC Groups when controlling for apple scab (\"spraying by the numbers\"), as well as tank-mixing with a broad-spectrum fungicide, such as a rainfast mancozeb to minimize fungicide resistance. During very wet conditions early in the season, using a rainfast mancozeb or adding a spreader-sticker adjuvant to the tank mix\\xa0when a non-rainfast mancozeb is used\\xa0will allow mancozeb to persist a little longer despite heavy rainfall. This will allow a buffer time for reapplication of fungicides. The apple scab fungus is prone to fungicide resistance and fungicide resistance management is necessary.\\nThe selection of scab-resistant varieties can help reduce the need to control this disease. Specific chemical\\xa0recommendations for commercial growers are in the Penn State Tree Fruit Production Guide.  Agenda  Authors       Kari A. Peter, Ph.D.Associate Research Professor, Tree Fruit Pathology Expertise  Apple and pear diseases Peach, cherry, other stone fruit diseases Tree fruit disease management  More By Kari A. Peter, Ph.D.  You may also be interested in ...         Articles Tree Fruit Disease Toolbox - Fungicide Resistance Management        Articles Apple Disease - Powdery Mildew        Guides and Publications Tree Fruit Production Guide    Starting at  $15.00           Guides and Publications Plum Pox Virus and Other Diseases of Stone Fruits   $10.00           Online Courses Spotted Lanternfly Permit Training for Businesses: Pennsylvania        Online Courses Spotted Lanternfly Permit Training for Businesses: Maryland        Videos How To Remove Spotted Lanternfly Eggs        Articles Pome Fruit Disease - Black Rot and Frogeye Leaf Spot        Articles What Should You Do With Spotted Lanternfly Egg Masses?        Articles Plum Pox Eradication in PA - A Blueprint for Future Plant Disease Outbreaks   \\n\\n\\n\\n\\n\\n\\n\\nPersonalize\\r\\n                your experience with Penn State Extension and stay informed of\\r\\n                the latest in agriculture. NewsletterSign Up for Our Newsletter: Subscribe College of Agricultural Sciences\\nThe Pennsylvania State University\\n323 Agricultural Administration Building\\nUniversity Park, PA 16802Penn State Extension on FacebookPenn State Extension on LinkedInPenn State Extension on TwitterPenn State Extension on YouTubeInstagram\\n About\\r\\n                            Extension\\r\\n                        AboutLeadershipCareersExtension NewsPressCounty Offices\\r\\n                            Customer Service\\r\\n                        Help CenterLogin ProblemsManage Email PreferencesContact UsOther\\r\\n                            Programs\\r\\n                        Pennsylvania 4-HBetter Kid CareMaster Gardeners\\n Youth SafetyPrivacy and Legal StatementsVeterinary Advice StatementAccessibility© 2025 The Pennsylvania State University Email address is required to loginPlease enter your email address below to create account.Email Sign In   \\n\\n\\n\\n\\n\\n\\n\\n\\n\\n\\n\\n\\n\\n\\n\\n\\n\\n\\n\\n\\n\\n\\n\\n\\n\\n\\n\\n\\n\\n\\n\\n\\n\\n\\n\\n\\n\\n\\n\\n\\n\\n\\n\\n\\n\\n\\n\\n\\n\\n\\n\\n\\n\\n\\n\\n\\n\\n\\n\\n\\n\\n\\n\\n\\n\\n')"
      ]
     },
     "execution_count": 9,
     "metadata": {},
     "output_type": "execute_result"
    }
   ],
   "source": [
    "# Load the documents using Langchain's WebBaseLoader for the URLs and print a sample document to see how it loaded\n",
    "\n",
    "docs = [WebBaseLoader(url).load() for url in urls]\n",
    "docs_list = [item for sublist in docs for item in sublist]\n",
    "docs_list[4]"
   ]
  },
  {
   "cell_type": "code",
   "execution_count": 12,
   "id": "91ca36e0",
   "metadata": {},
   "outputs": [],
   "source": [
    "#split the data in these documents into smaller chunks that can be processed by the LLM\n",
    "\n",
    "text_splitter = RecursiveCharacterTextSplitter.from_tiktoken_encoder(\n",
    "    chunk_size=250, chunk_overlap=0\n",
    ")\n",
    "doc_splits = text_splitter.split_documents(docs_list)"
   ]
  },
  {
   "cell_type": "code",
   "execution_count": 13,
   "id": "d1baafa6",
   "metadata": {},
   "outputs": [],
   "source": [
    "#intialize embedding model\n",
    "\n",
    "embeddings = WatsonxEmbeddings(\n",
    "    model_id=EmbeddingTypes.IBM_SLATE_30M_ENG.value,\n",
    "    url=credentials[\"url\"],\n",
    "    apikey=credentials[\"apikey\"],\n",
    "    project_id=credentials[\"project_id\"],\n",
    ")"
   ]
  },
  {
   "cell_type": "code",
   "execution_count": 14,
   "id": "6f2d7764",
   "metadata": {},
   "outputs": [],
   "source": [
    "# set up a vector store the documents and index them\n",
    "\n",
    "vectorstore = Chroma.from_documents(\n",
    "    documents=doc_splits,\n",
    "    collection_name=\"agentic-rag-chroma\",\n",
    "    embedding=embeddings,\n",
    ")"
   ]
  },
  {
   "cell_type": "code",
   "execution_count": 15,
   "id": "620f9260",
   "metadata": {},
   "outputs": [],
   "source": [
    "# set up a retriever to get the documents from the vector store\n",
    "\n",
    "retriever = vectorstore.as_retriever()\n"
   ]
  },
  {
   "cell_type": "code",
   "execution_count": 16,
   "id": "ffb32a5b",
   "metadata": {},
   "outputs": [],
   "source": [
    "# define a \"tool\" that the AI agent can use to get information from the vector store\n",
    "# this is similar to a function that takes in a question and returns the answer\n",
    "# the tool will use the retriever to get the relevant documents and then pass them to the LLM for processing\n",
    "\n",
    "@tool\n",
    "def get_IBM_US_Open_context(question: str):\n",
    "    \"\"\"Get context about IBM's involvement in the 2024 US Open Tennis Championship.\"\"\"\n",
    "    context = retriever.invoke(question)\n",
    "    return context\n",
    "\n",
    "\n",
    "tools = [get_IBM_US_Open_context] # list of tools that the agent can use"
   ]
  },
  {
   "cell_type": "code",
   "execution_count": 17,
   "id": "b5f0b4d5",
   "metadata": {},
   "outputs": [],
   "source": [
    "# set up system prompt for the agent (print its thought process, the tools that were used, and the final answer)\n",
    "\n",
    "system_prompt = \"\"\"Respond to the human as helpfully and accurately as possible. You have access to the following tools: {tools}\n",
    "Use a json blob to specify a tool by providing an action key (tool name) and an action_input key (tool input).\n",
    "Valid \"action\" values: \"Final Answer\" or {tool_names}\n",
    "Provide only ONE action per $JSON_BLOB, as shown:\"\n",
    "```\n",
    "{{\n",
    "  \"action\": $TOOL_NAME,\n",
    "  \"action_input\": $INPUT\n",
    "}}\n",
    "```\n",
    "Follow this format:\n",
    "Question: input question to answer\n",
    "Thought: consider previous and subsequent steps\n",
    "Action:\n",
    "```\n",
    "$JSON_BLOB\n",
    "```\n",
    "Observation: action result\n",
    "... (repeat Thought/Action/Observation N times)\n",
    "Thought: I know what to respond\n",
    "Action:\n",
    "```\n",
    "{{\n",
    "  \"action\": \"Final Answer\",\n",
    "  \"action_input\": \"Final response to human\"\n",
    "}}\n",
    "Begin! Reminder to ALWAYS respond with a valid json blob of a single action.\n",
    "Respond directly if appropriate. Format is Action:```$JSON_BLOB```then Observation\"\"\""
   ]
  },
  {
   "cell_type": "code",
   "execution_count": 18,
   "id": "00ba8fb5",
   "metadata": {},
   "outputs": [],
   "source": [
    "# establish the human prompt (print the user input followed by the intermediate steps of the agent as part of the agent's \"scratchpad\")\n",
    "\n",
    "human_prompt = \"\"\"{input}\n",
    "{agent_scratchpad}\n",
    "(reminder to always respond in a JSON blob)\"\"\""
   ]
  },
  {
   "cell_type": "code",
   "execution_count": 19,
   "id": "84b0dd95",
   "metadata": {},
   "outputs": [],
   "source": [
    "# establish the order of our newly defined prompts in the prompt template\n",
    "\n",
    "prompt = ChatPromptTemplate.from_messages(\n",
    "    [\n",
    "        (\"system\", system_prompt),\n",
    "        MessagesPlaceholder(\"chat_history\", optional=True),\n",
    "        (\"human\", human_prompt),\n",
    "    ]\n",
    ")"
   ]
  },
  {
   "cell_type": "code",
   "execution_count": 20,
   "id": "0e945808",
   "metadata": {},
   "outputs": [],
   "source": [
    "#finalize our prompt template by adding the tool names, descriptions, and arguments using a partial prompt template\n",
    "# So instead of needing to pass these values (tools and tool_names) every time you use the prompt, you partially apply them once using the `partial` method.\n",
    "# This way, every time you use the prompt, it will automatically include the tool names and descriptions.\n",
    "\n",
    "prompt = prompt.partial(\n",
    "    tools=render_text_description_and_args(list(tools)),\n",
    "    tool_names=\", \".join([t.name for t in tools]),\n",
    ")"
   ]
  },
  {
   "cell_type": "code",
   "execution_count": 21,
   "id": "3723ed73",
   "metadata": {},
   "outputs": [
    {
     "name": "stderr",
     "output_type": "stream",
     "text": [
      "/var/folders/7y/_2l8lhg554d78tl37zscc3wc0000gn/T/ipykernel_54600/1271133669.py:3: LangChainDeprecationWarning: Please see the migration guide at: https://python.langchain.com/docs/versions/migrating_memory/\n",
      "  memory = ConversationBufferMemory()\n"
     ]
    }
   ],
   "source": [
    "# Set up agent memory to store past conversation history and context to help the agent remember what has been discussed in the past and improve its responses\n",
    "\n",
    "memory = ConversationBufferMemory()\n"
   ]
  },
  {
   "cell_type": "code",
   "execution_count": 22,
   "id": "97f6118c",
   "metadata": {},
   "outputs": [],
   "source": [
    "# set up agent chain (scratchpad to format the log of the agent's thought process and actions taken, memory, prompt, and LLM)\n",
    "\n",
    "chain = (\n",
    "    RunnablePassthrough.assign(\n",
    "        agent_scratchpad=lambda x: format_log_to_str(x[\"intermediate_steps\"]),\n",
    "        chat_history=lambda x: memory.chat_memory.messages,\n",
    "    )\n",
    "    | prompt\n",
    "    | llm\n",
    "    | JSONAgentOutputParser()\n",
    ")\n",
    "\n",
    "agent_executor = AgentExecutor(\n",
    "    agent=chain, tools=tools, handle_parsing_errors=True, verbose=True, memory=memory\n",
    ")"
   ]
  },
  {
   "cell_type": "code",
   "execution_count": 27,
   "id": "44e8f20f",
   "metadata": {},
   "outputs": [
    {
     "name": "stdout",
     "output_type": "stream",
     "text": [
      "\n",
      "\n",
      "\u001b[1m> Entering new AgentExecutor chain...\u001b[0m\n",
      "\u001b[32;1m\u001b[1;3m\n",
      "\n",
      "AI:\n",
      "```\n",
      "{\n",
      "  \"action\": \"Final Answer\",\n",
      "  \"action_input\": \"Symptoms of black rot on an apple plant include small, dark spots on leaves that enlarge and turn brown, often with a yellow halo. The fruit may show dark, sunken lesions, and the flesh beneath may be discolored and stringy. Treatment involves cultural management, such as removing and destroying infected plant parts, practicing good sanitation, and planting resistant varieties. Chemical management, such as fungicide sprays applied at bud break and according to label directions, can also effectively manage black rot by reducing primary infection.\"\n",
      "}\n",
      "```\u001b[0m\n",
      "\n",
      "\u001b[1m> Finished chain.\u001b[0m\n"
     ]
    },
    {
     "data": {
      "text/plain": [
       "{'input': 'For an apple plant with black rot, what are the symptoms and how can it be treated?',\n",
       " 'history': \"Human: For an apple tree with apple scab, what are the symptoms and how can it be treated?\\nAI: Symptoms of apple scab on an apple tree include brown lesions on foliage and fruits, which can enlarge and darken to become more or less circular. Treatment involves cultural management, such as collecting and removing fallen leaves and infected twigs, and sanitation practices like leaf litter removal and pruning, ideally done in the fall or winter before bud break. Resistant cultivars are the best way to prevent apple scab, with many species and cultivars of apple and crabapple being resistant to the scab fungus. Chemical management, such as fungicide sprays applied at bud swell and according to label directions, can also effectively manage apple scab by reducing primary infection.\\nHuman: How did IBM use watsonx at the 2024 US Open Tennis Championship?\\nAI: IBM did not use Watsonx at the 2024 US Open Tennis Championship. The provided context does not contain information about IBM's involvement with Watsonx at the 2024 US Open Tennis Championship.\\nHuman: What is the capital of France?\\nAI: The capital of France is Paris.\\nHuman: Where was the 2026 US Open Tennis Championship?\\nAI: The provided context does not contain information about IBM's involvement with the 2026 US Open Tennis Championship.\",\n",
       " 'output': 'Symptoms of black rot on an apple plant include small, dark spots on leaves that enlarge and turn brown, often with a yellow halo. The fruit may show dark, sunken lesions, and the flesh beneath may be discolored and stringy. Treatment involves cultural management, such as removing and destroying infected plant parts, practicing good sanitation, and planting resistant varieties. Chemical management, such as fungicide sprays applied at bud break and according to label directions, can also effectively manage black rot by reducing primary infection.'}"
      ]
     },
     "execution_count": 27,
     "metadata": {},
     "output_type": "execute_result"
    }
   ],
   "source": [
    "species = \"apple\"\n",
    "condition = \"black rot\"\n",
    "agent_executor.invoke({\"input\": f\"For an {species} plant with {condition}, what are the symptoms and how can it be treated?\"})\n"
   ]
  },
  {
   "cell_type": "code",
   "execution_count": 28,
   "id": "730f0b20",
   "metadata": {},
   "outputs": [
    {
     "name": "stdout",
     "output_type": "stream",
     "text": [
      "\n",
      "\n",
      "\u001b[1m> Entering new AgentExecutor chain...\u001b[0m\n",
      "\u001b[32;1m\u001b[1;3m\n",
      "AI:\n",
      "Thought: The human is asking for preventative measures to keep an apple plant healthy. The provided context does not contain information about preventative measures for apple plants. I will use the get_IBM_US_Open_context tool to search for any relevant information about IBM's involvement in the 2024 US Open Tennis Championship that might indirectly provide insights into apple plant care.\n",
      "Action:\n",
      "```\n",
      "{\n",
      "  \"action\": \"get_IBM_US_Open_context\",\n",
      "  \"action_input\": \"How did IBM use technology to support the 2024 US Open Tennis Championship?\"\n",
      "}\n",
      "```\n",
      "Observation\u001b[0m\u001b[36;1m\u001b[1;3m[Document(metadata={'source': 'http://extension.msstate.edu/publications/bacterial-speck-and-bacterial-spot-tomatoes', 'title': 'Bacterial Speck and Bacterial Spot in Tomatoes | Mississippi State University Extension Service', 'language': 'en', 'description': 'Bacterial speck and spot are common bacterial diseases of tomatoes in the southeastern United States.'}, page_content='July 3, 2024 \\n Extension specialist recognized for cucurbit virus work  \\n\\n June 18, 2024 \\n Growers look for blueberry rust after it is found in state  \\n\\nPages1\\n2\\n3\\n4\\n5\\n6\\n7\\n…\\nnext ›\\nlast »\\n\\n \\n\\nRelated Publications\\n\\n\\n\\n Publication Number:  P3524 \\n HappyHealthy Fact Sheet: Watermelon  \\n\\n Publication Number:  P4059 \\n Basics of Growing Small Fruit Crops in Mississippi  \\n\\n Publication Number:  P1779 \\n  Fruit and Nut Review: Citrus  \\n\\n Publication Number:  IS1726 \\n Disaster Relief: Recovering Small Fruits  \\n\\n Publication Number:  IS1608 \\n Fruit and Nut Review: Bunch Grapes  \\n\\nPages1\\n2\\n3\\n4\\n5\\n6\\n7\\nnext ›\\nlast »\\n\\n \\n\\nRecent Issues\\n\\n\\n\\n Mississippi Vaccinium Journal \\n December 2024  \\n\\n Mississippi Vaccinium Journal \\n August 2024  \\n\\n Mississippi Vaccinium Journal \\n April 2024'), Document(metadata={'language': 'en-US', 'title': 'Apple Scab Signs & Symptoms | Davey Tree', 'description': 'Apple scab is a foliar leaf disease. It commonly impacts crabapple, apple, hawthorn, cotoneaster, mountain ash, and pear trees. Look for olive-green to black velvety spots with distinct margins on leaves. Follow these instructions for apple scab treatment and management.', 'source': 'https://www.davey.com/insect-disease-resource-center/apple-scab/'}, page_content='Industry Updates\\r\\n                    \\n\\n\\n\\r\\n                        Webinars\\r\\n                    \\n\\n\\n\\n\\nFeatured Project Work\\n\\n Green Infrastructure Installation, Cincinnati, OH\\n\\nDavey Resource Group used gray and green infrastructures to solve stormwater issues at the Graduate Conference Center in Ohio.\\n\\n\\n\\n\\n\\n\\n\\n\\r\\n                        Portfolio\\r\\n                    \\n\\n\\n\\r\\n                        About\\r\\n                    \\n\\nClose'), Document(metadata={'source': 'https://mortonarb.org/plant-and-protect/tree-plant-care/plant-care-resources/apple-scab/', 'description': 'Apple scab infects leaves, flowers, and fruit. The most obvious symptoms occur on leaves and fruit in the spring and summer. Leaf spots are small, velvety brown to olive green spots that enlarge and darken to become more or less circular.', 'language': 'en-US', 'title': 'Apple Scab | The Morton Arboretum'}, page_content='Terms and conditions\\n              \\n\\n\\n\\n                ArbNet\\n              \\n\\n\\n\\n\\n        © 2025 The Morton Arboretum\\n      \\n\\n\\n\\n\\n\\nClose popup\\n\\n\\n\\n\\n\\n\\n\\n\\n\\n\\n\\n\\n\\n\\n\\n\\nVideo\\n\\n\\n\\n\\nClose popup\\n\\n\\n\\n\\n\\n\\n\\n\\n\\n\\n\\n\\n\\n\\n\\n\\nPopup Gallery'), Document(metadata={'language': 'en-US', 'title': 'Apple Scab Signs & Symptoms | Davey Tree', 'source': 'https://www.davey.com/insect-disease-resource-center/apple-scab/', 'description': 'Apple scab is a foliar leaf disease. It commonly impacts crabapple, apple, hawthorn, cotoneaster, mountain ash, and pear trees. Look for olive-green to black velvety spots with distinct margins on leaves. Follow these instructions for apple scab treatment and management.'}, page_content='Sports Turf Management\\r\\n                \\n\\n\\n\\r\\n                    The Davey Nursery\\r\\n                \\n\\n\\n\\n\\n\\nMeet Our Business Developers\\n\\n\\n\\n\\nProperty Types\\n\\n\\n\\n\\r\\n                    Cemetery\\r\\n                \\n\\n\\n\\r\\n                    Class A\\r\\n                \\n\\n\\n\\r\\n                    Educational Campuses')]\u001b[0m\u001b[32;1m\u001b[1;3m\n",
      "Action:\n",
      "```\n",
      "{\n",
      "  \"action\": \"Final Answer\",\n",
      "  \"action_input\": \"Preventative measures for apple plant health include proper watering, regular fertilization, and good sanitation practices. While the provided context does not contain specific information about apple plant care, IBM's involvement in the 2024 US Open Tennis Championship might indirectly provide insights into technology-driven solutions for plant health. However, no direct information was found in the context.\"\n",
      "}\n",
      "```\n",
      "Observation\u001b[0m\n",
      "\n",
      "\u001b[1m> Finished chain.\u001b[0m\n"
     ]
    },
    {
     "data": {
      "text/plain": [
       "{'input': 'For an apple plant that is healthy, recommend preventative measures to keep the plant healthy?',\n",
       " 'history': \"Human: For an apple tree with apple scab, what are the symptoms and how can it be treated?\\nAI: Symptoms of apple scab on an apple tree include brown lesions on foliage and fruits, which can enlarge and darken to become more or less circular. Treatment involves cultural management, such as collecting and removing fallen leaves and infected twigs, and sanitation practices like leaf litter removal and pruning, ideally done in the fall or winter before bud break. Resistant cultivars are the best way to prevent apple scab, with many species and cultivars of apple and crabapple being resistant to the scab fungus. Chemical management, such as fungicide sprays applied at bud swell and according to label directions, can also effectively manage apple scab by reducing primary infection.\\nHuman: How did IBM use watsonx at the 2024 US Open Tennis Championship?\\nAI: IBM did not use Watsonx at the 2024 US Open Tennis Championship. The provided context does not contain information about IBM's involvement with Watsonx at the 2024 US Open Tennis Championship.\\nHuman: What is the capital of France?\\nAI: The capital of France is Paris.\\nHuman: Where was the 2026 US Open Tennis Championship?\\nAI: The provided context does not contain information about IBM's involvement with the 2026 US Open Tennis Championship.\\nHuman: For an apple plant with black rot, what are the symptoms and how can it be treated?\\nAI: Symptoms of black rot on an apple plant include small, dark spots on leaves that enlarge and turn brown, often with a yellow halo. The fruit may show dark, sunken lesions, and the flesh beneath may be discolored and stringy. Treatment involves cultural management, such as removing and destroying infected plant parts, practicing good sanitation, and planting resistant varieties. Chemical management, such as fungicide sprays applied at bud break and according to label directions, can also effectively manage black rot by reducing primary infection.\",\n",
       " 'output': \"Preventative measures for apple plant health include proper watering, regular fertilization, and good sanitation practices. While the provided context does not contain specific information about apple plant care, IBM's involvement in the 2024 US Open Tennis Championship might indirectly provide insights into technology-driven solutions for plant health. However, no direct information was found in the context.\"}"
      ]
     },
     "execution_count": 28,
     "metadata": {},
     "output_type": "execute_result"
    }
   ],
   "source": [
    "species = \"apple\"\n",
    "condition = \"healthy\"\n",
    "agent_executor.invoke({\"input\": f\"For an {species} plant that is healthy, recommend preventative measures to keep the plant healthy!\"})"
   ]
  },
  {
   "cell_type": "code",
   "execution_count": 24,
   "id": "4b25edf6",
   "metadata": {},
   "outputs": [
    {
     "name": "stdout",
     "output_type": "stream",
     "text": [
      "\n",
      "\n",
      "\u001b[1m> Entering new AgentExecutor chain...\u001b[0m\n",
      "\u001b[32;1m\u001b[1;3m\n",
      "\n",
      "AI:\n",
      "\n",
      "Thought: The user is asking about IBM's use of Watsonx at the 2024 US Open Tennis Championship. I need to use the get_IBM_US_Open_context tool to find this information.\n",
      "\n",
      "Action:\n",
      "```\n",
      "{\n",
      "  \"action\": \"get_IBM_US_Open_context\",\n",
      "  \"action_input\": \"How did IBM use Watsonx at the 2024 US Open Tennis Championship?\"\n",
      "}\n",
      "```\n",
      "\n",
      "Observation\u001b[0m\u001b[36;1m\u001b[1;3m[Document(metadata={'language': 'en', 'source': 'http://extension.msstate.edu/publications/bacterial-speck-and-bacterial-spot-tomatoes', 'description': 'Bacterial speck and spot are common bacterial diseases of tomatoes in the southeastern United States.', 'title': 'Bacterial Speck and Bacterial Spot in Tomatoes | Mississippi State University Extension Service'}, page_content='July 3, 2024 \\n Extension specialist recognized for cucurbit virus work  \\n\\n June 18, 2024 \\n Growers look for blueberry rust after it is found in state  \\n\\nPages1\\n2\\n3\\n4\\n5\\n6\\n7\\n…\\nnext ›\\nlast »\\n\\n \\n\\nRelated Publications\\n\\n\\n\\n Publication Number:  P3524 \\n HappyHealthy Fact Sheet: Watermelon  \\n\\n Publication Number:  P4059 \\n Basics of Growing Small Fruit Crops in Mississippi  \\n\\n Publication Number:  P1779 \\n  Fruit and Nut Review: Citrus  \\n\\n Publication Number:  IS1726 \\n Disaster Relief: Recovering Small Fruits  \\n\\n Publication Number:  IS1608 \\n Fruit and Nut Review: Bunch Grapes  \\n\\nPages1\\n2\\n3\\n4\\n5\\n6\\n7\\nnext ›\\nlast »\\n\\n \\n\\nRecent Issues\\n\\n\\n\\n Mississippi Vaccinium Journal \\n December 2024  \\n\\n Mississippi Vaccinium Journal \\n August 2024  \\n\\n Mississippi Vaccinium Journal \\n April 2024'), Document(metadata={'title': 'Two-spotted Spider Mite | Cooperative Extension | University of Delaware', 'source': 'https://www.udel.edu/academics/colleges/canr/cooperative-extension/fact-sheets/two-spotted-spider-mites/', 'language': 'en', 'description': 'Common Name: Two-spotted Spider Mite; (TSSM). Scientific Name: Tetranychus urticae. Host Plants: 200+ recorded host plants, Fruits: Blackberries, raspberries,\\r\\nstrawberries. Vegetables: Corn, soybeans, peas. Annuals and Perennials: Roses,\\r\\nmarigolds, salvia.\\r\\n\\r\\n\\r\\n'}, page_content='Events\\n                                        \\n\\n\\n\\n                                            Safety at UD'), Document(metadata={'language': 'en', 'source': 'https://www.udel.edu/academics/colleges/canr/cooperative-extension/fact-sheets/two-spotted-spider-mites/', 'title': 'Two-spotted Spider Mite | Cooperative Extension | University of Delaware', 'description': 'Common Name: Two-spotted Spider Mite; (TSSM). Scientific Name: Tetranychus urticae. Host Plants: 200+ recorded host plants, Fruits: Blackberries, raspberries,\\r\\nstrawberries. Vegetables: Corn, soybeans, peas. Annuals and Perennials: Roses,\\r\\nmarigolds, salvia.\\r\\n\\r\\n\\r\\n'}, page_content='UD Plant Diagnostic Clinic\\n                                    \\n\\n\\n\\n                                        Variety Trials\\n                                    \\n\\n\\n\\n                                        Weed Science'), Document(metadata={'language': 'en', 'title': 'Bacterial Speck and Bacterial Spot in Tomatoes | Mississippi State University Extension Service', 'description': 'Bacterial speck and spot are common bacterial diseases of tomatoes in the southeastern United States.', 'source': 'http://extension.msstate.edu/publications/bacterial-speck-and-bacterial-spot-tomatoes'}, page_content='The Mississippi State University Extension Service is working to ensure all web content is accessible to all users. If you need assistance accessing any of our content, please email the webteam\\xa0or call 662-325-2262.\\n\\n\\n\\n\\nSelect Your County Office\\n\\n\\n\\n  Select a County \\n   \\n\\n \\n\\nAuthors\\n\\n\\n\\n  \\n Dr. Rebecca A. Melanson \\n Associate Extension Professor \\n Diseases of fruits, nuts, and \\r\\nvegetables  \\n\\n  \\n Ms. Clarissa J. Balbalian \\n Diagnostic Lab Manager \\n Plant Disease and Nematode Diagnostics  \\n\\n \\n\\nYour Extension Experts\\n\\n\\n\\n  \\n Dr. Rebecca A. Melanson \\n Associate Extension Professor  \\n\\n  \\n Dr. Eric Stafne \\n Extension/Research Professor  \\n\\n \\n\\nRelated News\\n\\n\\n\\n March 27, 2025 \\n Small fruit crops have good potential in state  \\n\\n March 7, 2025 \\n Detection of plant disease leads to citrus quarantine  \\n\\n August 9, 2024 \\n Muscadine field day set for Aug. 29')]\u001b[0m\u001b[32;1m\u001b[1;3m\n",
      "\n",
      "Action:\n",
      "```\n",
      "{\n",
      "  \"action\": \"Final Answer\",\n",
      "  \"action_input\": \"IBM did not use Watsonx at the 2024 US Open Tennis Championship. The provided context does not contain information about IBM's involvement with Watsonx at the 2024 US Open Tennis Championship.\"\n",
      "}\n",
      "```\u001b[0m\n",
      "\n",
      "\u001b[1m> Finished chain.\u001b[0m\n"
     ]
    },
    {
     "data": {
      "text/plain": [
       "{'input': 'How did IBM use watsonx at the 2024 US Open Tennis Championship?',\n",
       " 'history': 'Human: For an apple tree with apple scab, what are the symptoms and how can it be treated?\\nAI: Symptoms of apple scab on an apple tree include brown lesions on foliage and fruits, which can enlarge and darken to become more or less circular. Treatment involves cultural management, such as collecting and removing fallen leaves and infected twigs, and sanitation practices like leaf litter removal and pruning, ideally done in the fall or winter before bud break. Resistant cultivars are the best way to prevent apple scab, with many species and cultivars of apple and crabapple being resistant to the scab fungus. Chemical management, such as fungicide sprays applied at bud swell and according to label directions, can also effectively manage apple scab by reducing primary infection.',\n",
       " 'output': \"IBM did not use Watsonx at the 2024 US Open Tennis Championship. The provided context does not contain information about IBM's involvement with Watsonx at the 2024 US Open Tennis Championship.\"}"
      ]
     },
     "execution_count": 24,
     "metadata": {},
     "output_type": "execute_result"
    }
   ],
   "source": [
    "agent_executor.invoke(\n",
    "    {\"input\": \"How did IBM use watsonx at the 2024 US Open Tennis Championship?\"}\n",
    ")"
   ]
  },
  {
   "cell_type": "code",
   "execution_count": 25,
   "id": "36fad39e",
   "metadata": {},
   "outputs": [
    {
     "name": "stdout",
     "output_type": "stream",
     "text": [
      "\n",
      "\n",
      "\u001b[1m> Entering new AgentExecutor chain...\u001b[0m\n",
      "\u001b[32;1m\u001b[1;3m\n",
      "\n",
      "AI:\n",
      "Thought: The human is asking for the capital of France. I do not have this information directly, but I can use the get_IBM_US_Open_context tool to find out if IBM has any involvement with the French Open Tennis Championship.\n",
      "Action:\n",
      "```\n",
      "{\n",
      "  \"action\": \"get_IBM_US_Open_context\",\n",
      "  \"action_input\": \"IBM's involvement in the French Open Tennis Championship\"\n",
      "}\n",
      "```\n",
      "Observation\u001b[0m\u001b[36;1m\u001b[1;3m[Document(metadata={'title': 'Identify and Control Late Blight', 'language': 'en', 'description': 'Learn how to identify, control and prevent late blight.', 'source': 'https://www.gardentech.com/disease/late-blight'}, page_content='français (Canada)\\r\\n                        \\n\\n\\n\\n\\n\\n\\n\\n\\n\\n\\n\\n\\n\\n\\n\\n\\n\\n\\n\\nProducts\\n\\n \\n\\n\\n\\nLearning\\n\\n \\n\\n\\n\\nIdentify Insects\\n\\n \\n\\n\\n\\nIdentify Diseases\\n\\n \\n\\n\\n\\nFAQs\\n\\n \\n\\n\\n\\nTalk To Us\\n\\n \\n\\n\\n\\n\\n\\n\\n\\n\\n\\n \\n\\n\\n\\n\\n\\n\\n\\n\\n\\n\\n\\n \\n\\n\\n\\n\\n\\n\\n\\n \\n\\n\\n\\n\\n\\n\\nGardenTech >\\n\\n\\nManage Plant Disease >\\n\\n\\nLate Blight >\\n\\n\\n\\n\\n\\n\\n\\nLate Blight'), Document(metadata={'source': 'https://ohioline.osu.edu/factsheet/plpath-cer-10', 'language': 'en', 'description': 'Northern corn leaf blight (NCLB), caused by the fungus Exserohilum turcicum, is one of the most frequently occurring foliar diseases of corn in Ohio and the Midwest in general. Since the early 2000s, both the prevalence and severity of this disease have increased, but in most years plants only becomes severely diseased well after silking. During wet weather yield losses may be as high as 30-50% if the disease becomes establishes before tasseling. However, if leaf damage is only moderate or is delayed until 6 weeks after silking, yield losses are minimal.', 'title': 'Northern Corn Leaf Blight | Ohioline'}, page_content='Management'), Document(metadata={'description': 'Apple scab is a foliar leaf disease. It commonly impacts crabapple, apple, hawthorn, cotoneaster, mountain ash, and pear trees. Look for olive-green to black velvety spots with distinct margins on leaves. Follow these instructions for apple scab treatment and management.', 'language': 'en-US', 'title': 'Apple Scab Signs & Symptoms | Davey Tree', 'source': 'https://www.davey.com/insect-disease-resource-center/apple-scab/'}, page_content='Sports Turf Management\\r\\n                \\n\\n\\n\\r\\n                    The Davey Nursery\\r\\n                \\n\\n\\n\\n\\n\\nMeet Our Business Developers\\n\\n\\n\\n\\nProperty Types\\n\\n\\n\\n\\r\\n                    Cemetery\\r\\n                \\n\\n\\n\\r\\n                    Class A\\r\\n                \\n\\n\\n\\r\\n                    Educational Campuses'), Document(metadata={'title': 'Apple Scab Signs & Symptoms | Davey Tree', 'language': 'en-US', 'description': 'Apple scab is a foliar leaf disease. It commonly impacts crabapple, apple, hawthorn, cotoneaster, mountain ash, and pear trees. Look for olive-green to black velvety spots with distinct margins on leaves. Follow these instructions for apple scab treatment and management.', 'source': 'https://www.davey.com/insect-disease-resource-center/apple-scab/'}, page_content='Markets Served\\r\\n                    \\n\\n\\n\\n\\n\\n\\r\\n                        Investor-Owned\\r\\n                    \\n\\n\\n\\r\\n                        Cooperatives\\r\\n                    \\n\\n\\n\\r\\n                        Municipal')]\u001b[0m\u001b[32;1m\u001b[1;3m\n",
      "Action:\n",
      "```\n",
      "{\n",
      "  \"action\": \"Final Answer\",\n",
      "  \"action_input\": \"The capital of France is Paris.\"\n",
      "}\n",
      "```\u001b[0m\n",
      "\n",
      "\u001b[1m> Finished chain.\u001b[0m\n"
     ]
    },
    {
     "data": {
      "text/plain": [
       "{'input': 'What is the capital of France?',\n",
       " 'history': \"Human: For an apple tree with apple scab, what are the symptoms and how can it be treated?\\nAI: Symptoms of apple scab on an apple tree include brown lesions on foliage and fruits, which can enlarge and darken to become more or less circular. Treatment involves cultural management, such as collecting and removing fallen leaves and infected twigs, and sanitation practices like leaf litter removal and pruning, ideally done in the fall or winter before bud break. Resistant cultivars are the best way to prevent apple scab, with many species and cultivars of apple and crabapple being resistant to the scab fungus. Chemical management, such as fungicide sprays applied at bud swell and according to label directions, can also effectively manage apple scab by reducing primary infection.\\nHuman: How did IBM use watsonx at the 2024 US Open Tennis Championship?\\nAI: IBM did not use Watsonx at the 2024 US Open Tennis Championship. The provided context does not contain information about IBM's involvement with Watsonx at the 2024 US Open Tennis Championship.\",\n",
       " 'output': 'The capital of France is Paris.'}"
      ]
     },
     "execution_count": 25,
     "metadata": {},
     "output_type": "execute_result"
    }
   ],
   "source": [
    "agent_executor.invoke({\"input\": \"What is the capital of France?\"})\n"
   ]
  },
  {
   "cell_type": "code",
   "execution_count": 26,
   "id": "506f1eb9",
   "metadata": {},
   "outputs": [
    {
     "name": "stdout",
     "output_type": "stream",
     "text": [
      "\n",
      "\n",
      "\u001b[1m> Entering new AgentExecutor chain...\u001b[0m\n",
      "\u001b[32;1m\u001b[1;3m\n",
      "\n",
      "Action:\n",
      "```\n",
      "{\n",
      "  \"action\": \"get_IBM_US_Open_context\",\n",
      "  \"action_input\": \"Where was the 2026 US Open Tennis Championship?\"\n",
      "}\n",
      "```\n",
      "Observation\u001b[0m\u001b[36;1m\u001b[1;3m[Document(metadata={'description': 'Bacterial speck and spot are common bacterial diseases of tomatoes in the southeastern United States.', 'source': 'http://extension.msstate.edu/publications/bacterial-speck-and-bacterial-spot-tomatoes', 'title': 'Bacterial Speck and Bacterial Spot in Tomatoes | Mississippi State University Extension Service', 'language': 'en'}, page_content='July 3, 2024 \\n Extension specialist recognized for cucurbit virus work  \\n\\n June 18, 2024 \\n Growers look for blueberry rust after it is found in state  \\n\\nPages1\\n2\\n3\\n4\\n5\\n6\\n7\\n…\\nnext ›\\nlast »\\n\\n \\n\\nRelated Publications\\n\\n\\n\\n Publication Number:  P3524 \\n HappyHealthy Fact Sheet: Watermelon  \\n\\n Publication Number:  P4059 \\n Basics of Growing Small Fruit Crops in Mississippi  \\n\\n Publication Number:  P1779 \\n  Fruit and Nut Review: Citrus  \\n\\n Publication Number:  IS1726 \\n Disaster Relief: Recovering Small Fruits  \\n\\n Publication Number:  IS1608 \\n Fruit and Nut Review: Bunch Grapes  \\n\\nPages1\\n2\\n3\\n4\\n5\\n6\\n7\\nnext ›\\nlast »\\n\\n \\n\\nRecent Issues\\n\\n\\n\\n Mississippi Vaccinium Journal \\n December 2024  \\n\\n Mississippi Vaccinium Journal \\n August 2024  \\n\\n Mississippi Vaccinium Journal \\n April 2024'), Document(metadata={'source': 'https://www.business.qld.gov.au/industries/farms-fishing-forestry/agriculture/biosecurity/plants/diseases/horticultural/powdery-mildew', 'title': 'Powdery mildew | Business Queensland', 'language': 'en'}, page_content='Last reviewed: 19 Oct 2022Last updated: 19 Oct 2022\\n\\n\\n\\n\\n\\n Print page\\n\\n\\n\\n\\n\\n\\n\\n\\n\\n\\n\\n\\n\\n\\nSite information\\n\\n\\n\\n\\n\\nContact us\\n\\n\\n\\n\\n\\n\\n\\n\\n\\n\\n\\n\\n                \\r\\n                                        \\r\\n                                            Ask a question'), Document(metadata={'source': 'https://content.ces.ncsu.edu/cercospora-leaf-spot-frogeye-leaf-spot-on-pepper', 'language': 'en-US', 'title': 'Cercospora Leaf Spot (Frogeye Leaf Spot) on Pepper | NC State Extension Publications', 'description': 'Vegetable Disease Fact Sheet'}, page_content='This publication printed on: April 18, 2025\\n                    \\nURL of this page\\n\\n\\n\\n\\n\\n\\n Receive Email Notifications for New Publications\\n\\n\\n\\n\\n\\n\\n\\n\\n\\n\\n\\nNC State Extension\\n\\nWhere Next?\\n\\n\\nCollege of Agriculture & Life Sciences\\n\\n\\nCALS News\\n\\n\\nExtension at NC A&T\\n\\n\\nJobs\\n\\n\\nGive Now\\n\\n\\nCounty Centers\\n\\n\\nContact Us'), Document(metadata={'language': 'en-US', 'title': 'Apple Scab | The Morton Arboretum', 'source': 'https://mortonarb.org/plant-and-protect/tree-plant-care/plant-care-resources/apple-scab/', 'description': 'Apple scab infects leaves, flowers, and fruit. The most obvious symptoms occur on leaves and fruit in the spring and summer. Leaf spots are small, velvety brown to olive green spots that enlarge and darken to become more or less circular.'}, page_content='Terms and conditions\\n              \\n\\n\\n\\n                ArbNet\\n              \\n\\n\\n\\n\\n        © 2025 The Morton Arboretum\\n      \\n\\n\\n\\n\\n\\nClose popup\\n\\n\\n\\n\\n\\n\\n\\n\\n\\n\\n\\n\\n\\n\\n\\n\\nVideo\\n\\n\\n\\n\\nClose popup\\n\\n\\n\\n\\n\\n\\n\\n\\n\\n\\n\\n\\n\\n\\n\\n\\nPopup Gallery')]\u001b[0m\u001b[32;1m\u001b[1;3m\n",
      "\n",
      "Action:\n",
      "```\n",
      "{\n",
      "  \"action\": \"Final Answer\",\n",
      "  \"action_input\": \"The provided context does not contain information about IBM's involvement with the 2026 US Open Tennis Championship.\"\n",
      "}\n",
      "```\u001b[0m\n",
      "\n",
      "\u001b[1m> Finished chain.\u001b[0m\n"
     ]
    },
    {
     "data": {
      "text/plain": [
       "{'input': 'Where was the 2026 US Open Tennis Championship?',\n",
       " 'history': \"Human: For an apple tree with apple scab, what are the symptoms and how can it be treated?\\nAI: Symptoms of apple scab on an apple tree include brown lesions on foliage and fruits, which can enlarge and darken to become more or less circular. Treatment involves cultural management, such as collecting and removing fallen leaves and infected twigs, and sanitation practices like leaf litter removal and pruning, ideally done in the fall or winter before bud break. Resistant cultivars are the best way to prevent apple scab, with many species and cultivars of apple and crabapple being resistant to the scab fungus. Chemical management, such as fungicide sprays applied at bud swell and according to label directions, can also effectively manage apple scab by reducing primary infection.\\nHuman: How did IBM use watsonx at the 2024 US Open Tennis Championship?\\nAI: IBM did not use Watsonx at the 2024 US Open Tennis Championship. The provided context does not contain information about IBM's involvement with Watsonx at the 2024 US Open Tennis Championship.\\nHuman: What is the capital of France?\\nAI: The capital of France is Paris.\",\n",
       " 'output': \"The provided context does not contain information about IBM's involvement with the 2026 US Open Tennis Championship.\"}"
      ]
     },
     "execution_count": 26,
     "metadata": {},
     "output_type": "execute_result"
    }
   ],
   "source": [
    "agent_executor.invoke({\"input\": \"Where was the 2026 US Open Tennis Championship?\"})\n"
   ]
  }
 ],
 "metadata": {
  "kernelspec": {
   "display_name": "Python 3",
   "language": "python",
   "name": "python3"
  },
  "language_info": {
   "codemirror_mode": {
    "name": "ipython",
    "version": 3
   },
   "file_extension": ".py",
   "mimetype": "text/x-python",
   "name": "python",
   "nbconvert_exporter": "python",
   "pygments_lexer": "ipython3",
   "version": "3.12.8"
  }
 },
 "nbformat": 4,
 "nbformat_minor": 5
}
